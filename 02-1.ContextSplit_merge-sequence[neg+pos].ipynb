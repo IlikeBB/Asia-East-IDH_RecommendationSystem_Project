{
 "cells": [
  {
   "cell_type": "code",
   "execution_count": 1,
   "metadata": {},
   "outputs": [],
   "source": [
    "import pandas as pd, numpy as np\n",
    "from sklearn.model_selection import train_test_split\n",
    "from tqdm.notebook import tqdm"
   ]
  },
  {
   "cell_type": "code",
   "execution_count": 3,
   "metadata": {},
   "outputs": [
    {
     "name": "stdout",
     "output_type": "stream",
     "text": [
      "(5549, 3)\n",
      "666\n",
      "(2693, 3)\n"
     ]
    }
   ],
   "source": [
    "get_2693_sample_df = pd.read_excel('../mark_csv/revise5550_JYY0315_importantdata.xlsx')[['new_label', 'revised_Truth', '處置其他結束（描述）']]\n",
    "context_split_csv = get_2693_sample_df.rename(columns={'new_label':'label'})\n",
    "print(context_split_csv.shape)\n",
    "positive_context_split_csv = (context_split_csv[context_split_csv.revised_Truth=='Y'])['處置其他結束（描述）'].values.tolist()\n",
    "print(len(positive_context_split_csv))\n",
    "\n",
    "\n",
    "concat1 = pd.read_csv('/ssd8/chih/project/yadong/process_csv/PeriHD_not_markdata-sampe2000.csv')\n",
    "concat2 = pd.read_csv('/ssd8/chih/project/yadong/mark_csv/train_peri_mark_sample_693_JYY.csv')\n",
    "peri_filter_dataset = pd.concat([concat1, concat2])\n",
    "# peri_filter_dataset = peri_filter_dataset['處置其他結束（描述）']\n",
    "# peri_693_dataset = pd.read_csv('../mark_csv/train_peri_mark_sample_693_JYY.csv')[['truth', '處置其他結束（描述）']]\n",
    "# peri_filter_dataset = peri_693_dataset[peri_693_dataset['truth']=='Y']\n",
    "print(peri_filter_dataset.shape)"
   ]
  },
  {
   "cell_type": "code",
   "execution_count": 8,
   "metadata": {},
   "outputs": [],
   "source": [
    "# 先切割標記後的資料以確保訓練和驗證資料無重疊\n",
    "keyword_col = []\n",
    "for seq in peri_filter_dataset['處置其他結束（描述）'].values.tolist(): #逐筆搜尋pos\n",
    "    seq_sp = str(seq).replace(\"。\",\"，\").replace(\",\",\"，\").replace(\"\\n\",\"\").split('，')\n",
    "    temp_keyword = ''\n",
    "    for pos in positive_context_split_csv:\n",
    "        if str(pos) in seq_sp:\n",
    "            temp_keyword = temp_keyword + str(pos)+'，'\n",
    "    if len(temp_keyword)<1:\n",
    "        temp_keyword = 'Negative_Sequence'\n",
    "    keyword_col.append(temp_keyword)\n",
    "    # break"
   ]
  },
  {
   "cell_type": "code",
   "execution_count": 10,
   "metadata": {},
   "outputs": [],
   "source": [
    "peri_filter_dataset['KeyWord_dict'] = keyword_col\n",
    "peri_filter_dataset = peri_filter_dataset[['處置其他結束（描述）', 'KeyWord_dict']]\n",
    "peri_filter_dataset['label'] = [0 if i =='Negative_Sequence' else 1 for i in peri_filter_dataset.KeyWord_dict.tolist()]\n",
    "data_train, data_test = train_test_split(peri_filter_dataset, test_size=0.1, random_state=42, stratify=peri_filter_dataset['label'])"
   ]
  },
  {
   "cell_type": "code",
   "execution_count": 11,
   "metadata": {},
   "outputs": [
    {
     "data": {
      "text/html": [
       "<div>\n",
       "<style scoped>\n",
       "    .dataframe tbody tr th:only-of-type {\n",
       "        vertical-align: middle;\n",
       "    }\n",
       "\n",
       "    .dataframe tbody tr th {\n",
       "        vertical-align: top;\n",
       "    }\n",
       "\n",
       "    .dataframe thead th {\n",
       "        text-align: right;\n",
       "    }\n",
       "</style>\n",
       "<table border=\"1\" class=\"dataframe\">\n",
       "  <thead>\n",
       "    <tr style=\"text-align: right;\">\n",
       "      <th></th>\n",
       "      <th>處置其他結束（描述）</th>\n",
       "      <th>KeyWord_dict</th>\n",
       "      <th>label</th>\n",
       "    </tr>\n",
       "  </thead>\n",
       "  <tbody>\n",
       "    <tr>\n",
       "      <th>527</th>\n",
       "      <td>HD畢，頭痛情形有較改善但還是會痛，個知若返家仍不適需就醫，病人了解，透析後跌捯評估0分，A...</td>\n",
       "      <td>Negative_Sequence</td>\n",
       "      <td>0</td>\n",
       "    </tr>\n",
       "    <tr>\n",
       "      <th>145</th>\n",
       "      <td>病人由L''''t Femoral DLC HD，exit site clear，out針反...</td>\n",
       "      <td>Negative_Sequence</td>\n",
       "      <td>0</td>\n",
       "    </tr>\n",
       "    <tr>\n",
       "      <th>1306</th>\n",
       "      <td>HD畢，無不適，AVF止血後紗布覆蓋，透析後防跌評估為0項，家屬陪同協助坐輪椅離開HDR。</td>\n",
       "      <td>Negative_Sequence</td>\n",
       "      <td>0</td>\n",
       "    </tr>\n",
       "    <tr>\n",
       "      <th>516</th>\n",
       "      <td>透析畢，透析後體重與乾體重誤差0.7公斤，病人表示透析中有吃東西，現不適情形已較緩解，PER...</td>\n",
       "      <td>現不適情形已較緩解，</td>\n",
       "      <td>1</td>\n",
       "    </tr>\n",
       "    <tr>\n",
       "      <th>110</th>\n",
       "      <td>病人意識清楚，於0740由傳送及看護陪同推床入HDR，透析前體重76.3公斤、血壓129/7...</td>\n",
       "      <td>Negative_Sequence</td>\n",
       "      <td>0</td>\n",
       "    </tr>\n",
       "    <tr>\n",
       "      <th>...</th>\n",
       "      <td>...</td>\n",
       "      <td>...</td>\n",
       "      <td>...</td>\n",
       "    </tr>\n",
       "    <tr>\n",
       "      <th>643</th>\n",
       "      <td>HD畢，無不適情形，R't perm cath on hepain lock留置，由外傭協助...</td>\n",
       "      <td>Negative_Sequence</td>\n",
       "      <td>0</td>\n",
       "    </tr>\n",
       "    <tr>\n",
       "      <th>80</th>\n",
       "      <td>ahd give B-complex 4ml iv f/u shount three2+ g...</td>\n",
       "      <td>Negative_Sequence</td>\n",
       "      <td>0</td>\n",
       "    </tr>\n",
       "    <tr>\n",
       "      <th>447</th>\n",
       "      <td>HD畢，無不適情形，AVF已止血紗布覆蓋，家屬陪同返家。</td>\n",
       "      <td>Negative_Sequence</td>\n",
       "      <td>0</td>\n",
       "    </tr>\n",
       "    <tr>\n",
       "      <th>758</th>\n",
       "      <td>HF clear, AVG thrill++, go home</td>\n",
       "      <td>Negative_Sequence</td>\n",
       "      <td>0</td>\n",
       "    </tr>\n",
       "    <tr>\n",
       "      <th>1174</th>\n",
       "      <td>HD畢，無不適情形，左手AVF 已止血，thrill(++)，由警員帶回看守所。</td>\n",
       "      <td>Negative_Sequence</td>\n",
       "      <td>0</td>\n",
       "    </tr>\n",
       "  </tbody>\n",
       "</table>\n",
       "<p>2423 rows × 3 columns</p>\n",
       "</div>"
      ],
      "text/plain": [
       "                                             處置其他結束（描述）       KeyWord_dict  \\\n",
       "527   HD畢，頭痛情形有較改善但還是會痛，個知若返家仍不適需就醫，病人了解，透析後跌捯評估0分，A...  Negative_Sequence   \n",
       "145   病人由L''''t Femoral DLC HD，exit site clear，out針反...  Negative_Sequence   \n",
       "1306      HD畢，無不適，AVF止血後紗布覆蓋，透析後防跌評估為0項，家屬陪同協助坐輪椅離開HDR。  Negative_Sequence   \n",
       "516   透析畢，透析後體重與乾體重誤差0.7公斤，病人表示透析中有吃東西，現不適情形已較緩解，PER...         現不適情形已較緩解，   \n",
       "110   病人意識清楚，於0740由傳送及看護陪同推床入HDR，透析前體重76.3公斤、血壓129/7...  Negative_Sequence   \n",
       "...                                                 ...                ...   \n",
       "643   HD畢，無不適情形，R't perm cath on hepain lock留置，由外傭協助...  Negative_Sequence   \n",
       "80    ahd give B-complex 4ml iv f/u shount three2+ g...  Negative_Sequence   \n",
       "447                        HD畢，無不適情形，AVF已止血紗布覆蓋，家屬陪同返家。  Negative_Sequence   \n",
       "758                     HF clear, AVG thrill++, go home  Negative_Sequence   \n",
       "1174           HD畢，無不適情形，左手AVF 已止血，thrill(++)，由警員帶回看守所。  Negative_Sequence   \n",
       "\n",
       "      label  \n",
       "527       0  \n",
       "145       0  \n",
       "1306      0  \n",
       "516       1  \n",
       "110       0  \n",
       "...     ...  \n",
       "643       0  \n",
       "80        0  \n",
       "447       0  \n",
       "758       0  \n",
       "1174      0  \n",
       "\n",
       "[2423 rows x 3 columns]"
      ]
     },
     "execution_count": 11,
     "metadata": {},
     "output_type": "execute_result"
    }
   ],
   "source": [
    "data_train"
   ]
  },
  {
   "cell_type": "code",
   "execution_count": null,
   "metadata": {},
   "outputs": [],
   "source": [
    "temp = ['dferdderefdfd']"
   ]
  },
  {
   "cell_type": "code",
   "execution_count": 40,
   "metadata": {},
   "outputs": [],
   "source": [
    "merage_sentence = []\n",
    "for seq in range(len(data_test)):\n",
    "    if True:\n",
    "        rep_seq = data_test.iloc[seq]['處置其他結束（描述）']\n",
    "        rep_seq = str(rep_seq).replace(\"。\",\"，\").replace(\",\",\"，\").replace(\"\\n\",\"\").replace(\";\",\"，\").replace(\"；\",\"，\").split('，')\n",
    "        key_word = data_test.iloc[seq]['KeyWord_dict']\n",
    "        key_word = str(key_word).replace(\"。\",\"，\").replace(\",\",\"，\").replace(\"\\n\",\"\").replace(\";\",\"，\").replace(\"；\",\"，\").split('，')\n",
    "        key_word = [x for x in key_word if x != \"\"]\n",
    "        if len(rep_seq)!=1:\n",
    "            for i in range(len(rep_seq)-1):\n",
    "                new_sentence = rep_seq[i]+\"，\"+rep_seq[i+1]\n",
    "                if (rep_seq[i] in key_word) or (rep_seq[i+1] in key_word):\n",
    "                    merage_sentence.append(['Y',new_sentence])\n",
    "                elif len(rep_seq[i+1])>0:\n",
    "                    merage_sentence.append(['N',new_sentence])\n",
    "        # else:\n",
    "        #     print('pass')\n",
    "        #     if rep_seq in key_word:\n",
    "        #         merage_sentence.append(['Y-pass',new_sentence])\n",
    "        #     else:\n",
    "        #         merage_sentence.append(['N-pass',new_sentence])"
   ]
  },
  {
   "cell_type": "code",
   "execution_count": 41,
   "metadata": {},
   "outputs": [],
   "source": [
    "(pd.DataFrame(merage_sentence, columns=['Truth', '處置其他結束（描述）']).drop_duplicates(subset=['處置其他結束（描述）'])).to_csv(\"./dataset/PeriHD_Sample-2693_Sentence-merge_internal-test[pos+neg].csv\", encoding='utf-8-sig', index=False)"
   ]
  },
  {
   "cell_type": "code",
   "execution_count": 42,
   "metadata": {},
   "outputs": [],
   "source": [
    "merage_sentence = []\n",
    "for seq in range(len(data_train)):\n",
    "    rep_seq = data_train.iloc[seq]['處置其他結束（描述）']\n",
    "    rep_seq = str(rep_seq).replace(\"。\",\"，\").replace(\",\",\"，\").replace(\"\\n\",\"\").replace(\";\",\"，\").replace(\"；\",\"，\").split('，')\n",
    "    key_word = data_train.iloc[seq]['KeyWord_dict']\n",
    "    key_word = str(key_word).replace(\"。\",\"，\").replace(\",\",\"，\").replace(\"\\n\",\"\").replace(\";\",\"，\").replace(\"；\",\"，\").split('，')\n",
    "    key_word = [x for x in key_word if x != \"\"]\n",
    "    if len(rep_seq)!=1:\n",
    "        for i in range(len(rep_seq)-1):\n",
    "            new_sentence = rep_seq[i]+\"，\"+rep_seq[i+1]\n",
    "            if (rep_seq[i] in key_word) or (rep_seq[i+1] in key_word):\n",
    "                merage_sentence.append(['Y',new_sentence])\n",
    "            elif len(rep_seq[i+1])>0:\n",
    "                merage_sentence.append(['N',new_sentence])\n",
    "    # if seq==10:\n",
    "    #     break"
   ]
  },
  {
   "cell_type": "code",
   "execution_count": 43,
   "metadata": {},
   "outputs": [
    {
     "data": {
      "text/plain": [
       "16805"
      ]
     },
     "execution_count": 43,
     "metadata": {},
     "output_type": "execute_result"
    }
   ],
   "source": [
    "len(merage_sentence)"
   ]
  },
  {
   "cell_type": "code",
   "execution_count": 45,
   "metadata": {},
   "outputs": [],
   "source": [
    "(pd.DataFrame(merage_sentence, columns=['Truth', '處置其他結束（描述）']).drop_duplicates(subset=['處置其他結束（描述）'])).to_csv(\"./dataset/PeriHD_Sample-2693_Sentence-merge_internal-train[pos+neg].csv\", encoding='utf-8-sig', index=False)"
   ]
  },
  {
   "cell_type": "code",
   "execution_count": 46,
   "metadata": {},
   "outputs": [
    {
     "name": "stdout",
     "output_type": "stream",
     "text": [
      "(1121, 2)\n",
      "(1008, 2) (113, 2)\n"
     ]
    }
   ],
   "source": [
    "get_1124_sample_df = pd.read_csv(\"./dataset/train_intra_mark_sample_1124_JYY.csv\")[['truth','處置其他+症狀處置（描述）']]\n",
    "get_1124_sample_df = get_1124_sample_df.rename(columns={'truth':'label'})\n",
    "get_1124_sample_df = get_1124_sample_df.dropna()\n",
    "print(get_1124_sample_df.shape)\n",
    "data_train, data_test = train_test_split(get_1124_sample_df, test_size=0.1, random_state=42, stratify=get_1124_sample_df['label'])\n",
    "data_train.to_csv(\"./dataset/IntraHD_Sample-1124_Sentence-merge_internal-train.csv\", encoding='utf-8-sig', index=False)\n",
    "data_test.to_csv(\"./dataset/IntraHD_Sample-1124_Sentence-merge_internal-test.csv\", encoding='utf-8-sig', index=False)\n",
    "print(data_train.shape, data_test.shape)"
   ]
  },
  {
   "cell_type": "code",
   "execution_count": 20,
   "metadata": {},
   "outputs": [],
   "source": [
    "# pd.set_option('display.max_rows', 1000)\n",
    "# pd.set_option('display.max_columns', 20)\n",
    "# data_test"
   ]
  },
  {
   "cell_type": "code",
   "execution_count": null,
   "metadata": {},
   "outputs": [],
   "source": []
  }
 ],
 "metadata": {
  "kernelspec": {
   "display_name": "yd_nlptf",
   "language": "python",
   "name": "python3"
  },
  "language_info": {
   "codemirror_mode": {
    "name": "ipython",
    "version": 3
   },
   "file_extension": ".py",
   "mimetype": "text/x-python",
   "name": "python",
   "nbconvert_exporter": "python",
   "pygments_lexer": "ipython3",
   "version": "3.9.15"
  },
  "orig_nbformat": 4,
  "vscode": {
   "interpreter": {
    "hash": "77a05f791b774c1311eb56e0a2c433b66341ac9a91a33433ad780b7802be94e4"
   }
  }
 },
 "nbformat": 4,
 "nbformat_minor": 2
}
