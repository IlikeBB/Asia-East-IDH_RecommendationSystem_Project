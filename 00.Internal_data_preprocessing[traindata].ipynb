{
 "cells": [
  {
   "cell_type": "code",
   "execution_count": 1,
   "metadata": {},
   "outputs": [],
   "source": [
    "import pandas as pd, numpy as np\n",
    "import glob"
   ]
  },
  {
   "cell_type": "code",
   "execution_count": 2,
   "metadata": {},
   "outputs": [],
   "source": [
    "def get_newlabel(data_frame):\n",
    "    # print(data_frame.shape)\n",
    "    new_lable = []\n",
    "    for J,S,T in zip(data_frame['JYY_truth'], data_frame['SKH_truth'], data_frame['Tsai_truth']):\n",
    "        new_lable.append(1 if (J+S+T)>=2 else 0)\n",
    "    data_frame = data_frame[[i for i in data_frame.columns.to_list() if 'truth'not in i]]\n",
    "    temp = data_frame.copy()\n",
    "    del data_frame\n",
    "    temp.loc[:, 'label'] = new_lable.copy()\n",
    "    # print(temp.shape)\n",
    "    return temp"
   ]
  },
  {
   "cell_type": "code",
   "execution_count": 4,
   "metadata": {},
   "outputs": [],
   "source": [
    "IntraHD_test = [dir for dir in sorted(glob.glob(\"./dataset/05-16-new_csv_revise_remark/*.csv\")) if \"IntraHD_ExternalData\" in dir ]\n",
    "IntraHD_train = [dir for dir in sorted(glob.glob(\"./dataset/05-16-new_csv_revise_remark/*.csv\")) if \"IntraHD_InternalData\" in dir ]\n",
    "PeriHD_test = [dir for dir in sorted(glob.glob(\"./dataset/05-16-new_csv_revise_remark/*.csv\")) if \"PeriHD_ExternalData\" in dir ]\n",
    "PeriHD_train = [dir for dir in sorted(glob.glob(\"./dataset/05-16-new_csv_revise_remark/*.csv\")) if \"PeriHD_InternalData\" in dir ]\n",
    "IntraHD_test = pd.concat(\n",
    "    [pd.read_csv(IntraHD_test[0]).rename(columns={'truth':\"JYY_truth\"}),\n",
    "     pd.read_csv(IntraHD_test[1]).rename(columns={'truth':'SKH_truth'})['SKH_truth'],\n",
    "     pd.read_csv(IntraHD_test[2]).rename(columns={'truth':'Tsai_truth'})['Tsai_truth']\n",
    "     ],axis=1)\n",
    "IntraHD_test = IntraHD_test[sorted(IntraHD_test.columns)]\n",
    "IntraHD_test = get_newlabel(IntraHD_test)\n",
    "IntraHD_test.to_csv(\"./dataset/IntraHD_ExternalData_05-17.csv\", index=False, encoding='utf-8-sig')\n",
    "\n",
    "IntraHD_train = pd.concat(\n",
    "    [pd.read_csv(IntraHD_train[0]).rename(columns={'truth':\"JYY_truth\"}),\n",
    "     pd.read_csv(IntraHD_train[1]).rename(columns={'truth':'SKH_truth'})['SKH_truth'],\n",
    "     pd.read_csv(IntraHD_train[2]).rename(columns={'truth':'Tsai_truth'})['Tsai_truth']\n",
    "     ],axis=1)\n",
    "IntraHD_train = IntraHD_train[sorted(IntraHD_train.columns)]\n",
    "IntraHD_train = get_newlabel(IntraHD_train)\n",
    "IntraHD_train.to_csv(\"./dataset/IntraHD_InternalData_05-17.csv\", index=False, encoding='utf-8-sig')\n",
    "\n",
    "PeriHD_test = pd.concat(\n",
    "    [pd.read_csv(PeriHD_test[0]).rename(columns={'truth':\"JYY_truth\"}),\n",
    "     pd.read_csv(PeriHD_test[1]).rename(columns={'truth':'SKH_truth'})['SKH_truth'],\n",
    "     pd.read_csv(PeriHD_test[2]).rename(columns={'truth':'Tsai_truth'})['Tsai_truth']\n",
    "     ],axis=1)\n",
    "PeriHD_test = PeriHD_test[sorted(PeriHD_test.columns)]\n",
    "PeriHD_test = get_newlabel(PeriHD_test)\n",
    "PeriHD_test.to_csv(\"./dataset/PeriHD_ExternalData_05-17.csv\", index=False, encoding='utf-8-sig')\n",
    "\n",
    "PeriHD_train = pd.concat(\n",
    "    [pd.read_csv(PeriHD_train[0]).rename(columns={'truth':\"JYY_truth\"}),\n",
    "     pd.read_csv(PeriHD_train[1]).rename(columns={'truth':'SKH_truth'})['SKH_truth'],\n",
    "     pd.read_csv(PeriHD_train[2]).rename(columns={'truth':'Tsai_truth'})['Tsai_truth']\n",
    "     ],axis=1)\n",
    "PeriHD_train = PeriHD_train[sorted(PeriHD_train.columns)]\n",
    "PeriHD_train = get_newlabel(PeriHD_train)\n",
    "PeriHD_train.to_csv(\"./dataset/PeriHD_InternalData_05-17.csv\", index=False, encoding='utf-8-sig')\n"
   ]
  },
  {
   "cell_type": "code",
   "execution_count": null,
   "metadata": {},
   "outputs": [],
   "source": []
  }
 ],
 "metadata": {
  "kernelspec": {
   "display_name": "yd_nlptf",
   "language": "python",
   "name": "python3"
  },
  "language_info": {
   "codemirror_mode": {
    "name": "ipython",
    "version": 3
   },
   "file_extension": ".py",
   "mimetype": "text/x-python",
   "name": "python",
   "nbconvert_exporter": "python",
   "pygments_lexer": "ipython3",
   "version": "3.9.15"
  },
  "orig_nbformat": 4
 },
 "nbformat": 4,
 "nbformat_minor": 2
}
