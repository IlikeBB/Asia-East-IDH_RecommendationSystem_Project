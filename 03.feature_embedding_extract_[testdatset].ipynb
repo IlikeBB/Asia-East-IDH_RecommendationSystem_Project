{
 "cells": [
  {
   "cell_type": "code",
   "execution_count": null,
   "metadata": {},
   "outputs": [],
   "source": [
    "import numpy as np, pandas as pd, torch, os, glob, pickle\n",
    "os.environ['TF_CPP_MIN_VLOG_LEVEL']=\"3\"\n",
    "from sentence_transformers import SentenceTransformer\n",
    "\n",
    "import tensorflow.compat.v1 as tf\n",
    "tf.disable_v2_behavior()\n",
    "\n",
    "import tensorflow_hub as hub\n",
    "import tensorflow_text\n",
    "from sklearn.model_selection import train_test_split\n",
    "from sklearn.model_selection import KFold\n",
    "from tensorflow.keras.callbacks import ModelCheckpoint, EarlyStopping\n",
    "\n",
    "# device = torch.device(\"cuda:4\" if torch.cuda.is_available() else 'cpu')\n",
    "# BERT_model = SentenceTransformer('distiluse-base-multilingual-cased-v2', device=device)\n",
    "gpus = tf.config.list_physical_devices('GPU')\n",
    "if gpus:\n",
    "    tf.config.set_visible_devices(gpus[6], 'GPU')\n",
    "USE_model = hub.load(\"https://tfhub.dev/google/universal-sentence-encoder-multilingual-large/3\", )"
   ]
  },
  {
   "cell_type": "code",
   "execution_count": null,
   "metadata": {},
   "outputs": [],
   "source": [
    "save_path = '/ssd8/chih/project/yadong/predict_baseline_version01/dataset/baseline-testdataset_pickle_save'\n",
    "save_folder = 'sample_500_seed_42_feature'\n",
    "os.makedirs(os.path.join(save_path, save_folder), exist_ok=True)"
   ]
  },
  {
   "cell_type": "code",
   "execution_count": null,
   "metadata": {},
   "outputs": [],
   "source": [
    "#pickle loading\n",
    "USD_data_test_pkl = glob.glob(\"./dataset/baseline-testdataset_pickle_save/sample_500_seed_42/*.pkl\")\n",
    "for next_pkl in USD_data_test_pkl:\n",
    "    with open(next_pkl, 'rb') as f:\n",
    "        singel_patient_df = pickle.load(f)\n",
    "        single_patient_periHD = singel_patient_df['PeriHD']\n",
    "        single_patient_intraHD = singel_patient_df['IntraHD']\n",
    "        # 轉換IntraHD和PeriHD的斷句特徵\n",
    "        # IntraHD\n",
    "        IntraHD_data = single_patient_intraHD['處置其他+症狀處置（描述）'].astype(str).to_list()\n",
    "        with tf.Session() as session:\n",
    "            session.run([tf.global_variables_initializer(), \n",
    "                        tf.tables_initializer()])\n",
    "            IntraHD_feature = session.run(USE_model(IntraHD_data))\n",
    "        session.close()\n",
    "        # PeriHD處置其他結束\n",
    "        text = str(single_patient_periHD['處置其他結束']).replace('\\t','').replace('\\n','').replace('。','，').replace(',','，')\n",
    "        text_sp = np.array([i for i in text.split('，') if len(i)>1])\n",
    "        PeriHD_data = []\n",
    "        for i in range(len(text_sp)-1):\n",
    "            PeriHD_data.append(text_sp[i]+'，'+text_sp[i+1])\n",
    "        if len(text_sp)==1:\n",
    "            PeriHD_data.append(text_sp[0])\n",
    "        \n",
    "        with tf.Session() as session:\n",
    "            session.run([tf.global_variables_initializer(), \n",
    "                        tf.tables_initializer()])\n",
    "            PeriHD_feature = session.run(USE_model(PeriHD_data))\n",
    "        session.close()\n",
    "    with open(os.path.join(save_path, save_folder, \"baseline_01_sample_500_feature_ID-{}-DateTime-{}.pkl\".format(singel_patient_df['ID'], str(singel_patient_df['DateTime']).replace(':','-').replace(' ','-'))), \"wb\") as f:\n",
    "        new_pickle_feature = {'ID':singel_patient_df['ID'], 'DateTime': singel_patient_df['DateTime'], \n",
    "                            'PeriHD_data_sbp':single_patient_periHD['NEW開始血壓SBP'],\n",
    "                            'PeriHD_data_dbp':single_patient_periHD['NEW開始血壓DBP'],\n",
    "                            'PeriHD_Feature': PeriHD_feature, \n",
    "                            'PeriHD_context': PeriHD_data, \n",
    "                            'IntraHD_data_sbp':single_patient_intraHD['sbp'],\n",
    "                            'IntraHD_data_dbp':single_patient_intraHD['dbp'],                        \n",
    "                            'IntraHD_Feature': IntraHD_feature,\n",
    "                            'IntraHD_context': IntraHD_data}\n",
    "        pickle.dump(new_pickle_feature, f)\n",
    "    del new_pickle_feature, IntraHD_feature, PeriHD_feature\n",
    "    # break"
   ]
  },
  {
   "cell_type": "code",
   "execution_count": null,
   "metadata": {},
   "outputs": [],
   "source": []
  }
 ],
 "metadata": {
  "kernelspec": {
   "display_name": "yd_nlptf",
   "language": "python",
   "name": "python3"
  },
  "language_info": {
   "codemirror_mode": {
    "name": "ipython",
    "version": 3
   },
   "file_extension": ".py",
   "mimetype": "text/x-python",
   "name": "python",
   "nbconvert_exporter": "python",
   "pygments_lexer": "ipython3",
   "version": "3.9.15"
  },
  "orig_nbformat": 4
 },
 "nbformat": 4,
 "nbformat_minor": 2
}
