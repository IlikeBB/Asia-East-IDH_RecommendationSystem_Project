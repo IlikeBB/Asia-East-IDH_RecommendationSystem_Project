{
 "cells": [
  {
   "cell_type": "code",
   "execution_count": 1,
   "metadata": {},
   "outputs": [],
   "source": [
    "import pandas as pd, numpy as np"
   ]
  },
  {
   "cell_type": "code",
   "execution_count": 2,
   "metadata": {},
   "outputs": [
    {
     "name": "stdout",
     "output_type": "stream",
     "text": [
      "(342858, 65)\n",
      "2793\n"
     ]
    },
    {
     "name": "stderr",
     "output_type": "stream",
     "text": [
      "/tmp/ipykernel_87558/3175000203.py:1: DtypeWarning: Columns (1,6,7,8,9,41) have mixed types. Specify dtype option on import or set low_memory=False.\n",
      "  pred_total_raw_data = pd.read_csv('./dataset/full_ready_perHD.csv')\n"
     ]
    }
   ],
   "source": [
    "pred_total_raw_data = pd.read_csv('./dataset/full_ready_perHD.csv')\n",
    "print(pred_total_raw_data.shape)\n",
    "\n",
    "# Train dataset\n",
    "sample_pick_693 = pd.read_csv('../mark_csv/train_peri_mark_sample_693_JYY.csv')\n",
    "sample_pick_100 = pd.read_csv('../mark_csv/baseline_PeriHD_notmark_pred_100sample_JYY.csv')\n",
    "sample_pick_2000 = pd.read_csv(\"../process_csv/PeriHD_not_markdata-sampe2000.csv\")\n",
    "sample_pick_693 = sample_pick_693['處置其他結束（描述）'].values.tolist()\n",
    "sample_pick_100 = sample_pick_100['處置其他結束（描述）'].values.tolist()\n",
    "sample_pick_2000 = sample_pick_2000['處置其他結束（描述）'].values.tolist()\n",
    "print(len(sample_pick_100)+len(sample_pick_2000)+len(sample_pick_693))"
   ]
  },
  {
   "cell_type": "code",
   "execution_count": 4,
   "metadata": {},
   "outputs": [],
   "source": [
    "# ID to String\n",
    "pred_total_raw_data['ID'] = pred_total_raw_data['ID'].astype(str)"
   ]
  },
  {
   "cell_type": "code",
   "execution_count": 6,
   "metadata": {},
   "outputs": [
    {
     "name": "stdout",
     "output_type": "stream",
     "text": [
      "(284425, 65)\n"
     ]
    }
   ],
   "source": [
    "# 去除train dataset\n",
    "# for stack in [sample_pick_693, sample_pick_100, sample_pick_2000]:\n",
    "#     for sentence in stack:\n",
    "#         pred_total_raw_data = pred_total_raw_data[pred_total_raw_data['處置其他結束']!=sentence]\n",
    "# print(pred_total_raw_data.shape)\n",
    "# pred_total_raw_data.to_csv('./dataset/full_ready_fiter-train_periHD.csv', index=False, encoding='utf-8-sig')\n"
   ]
  },
  {
   "cell_type": "code",
   "execution_count": 2,
   "metadata": {},
   "outputs": [
    {
     "name": "stdout",
     "output_type": "stream",
     "text": [
      "(284425, 65)\n"
     ]
    },
    {
     "name": "stderr",
     "output_type": "stream",
     "text": [
      "/tmp/ipykernel_75302/3030777180.py:1: DtypeWarning: Columns (1,6,7,8,9,41,42) have mixed types. Specify dtype option on import or set low_memory=False.\n",
      "  pred_total_raw_data = pd.read_csv('./dataset/full_ready_fiter-train_periHD.csv')\n"
     ]
    }
   ],
   "source": [
    "# pred_total_raw_data = pd.read_csv('./dataset/full_ready_fiter-train_periHD.csv')\n",
    "# print(pred_total_raw_data.shape)"
   ]
  },
  {
   "cell_type": "code",
   "execution_count": 3,
   "metadata": {},
   "outputs": [],
   "source": [
    "pred_total_raw_data.sample(500, replace=True,random_state=42).to_csv('./dataset/baseline_01_sample_500-test_periHD.csv', index=False, encoding='utf-8-sig')"
   ]
  },
  {
   "cell_type": "code",
   "execution_count": null,
   "metadata": {},
   "outputs": [],
   "source": []
  }
 ],
 "metadata": {
  "kernelspec": {
   "display_name": "yd_nlptf",
   "language": "python",
   "name": "python3"
  },
  "language_info": {
   "codemirror_mode": {
    "name": "ipython",
    "version": 3
   },
   "file_extension": ".py",
   "mimetype": "text/x-python",
   "name": "python",
   "nbconvert_exporter": "python",
   "pygments_lexer": "ipython3",
   "version": "3.9.15"
  },
  "orig_nbformat": 4
 },
 "nbformat": 4,
 "nbformat_minor": 2
}
