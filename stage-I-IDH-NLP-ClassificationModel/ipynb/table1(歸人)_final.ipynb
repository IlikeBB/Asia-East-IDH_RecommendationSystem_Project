{
 "cells": [
  {
   "cell_type": "code",
   "execution_count": 1,
   "metadata": {},
   "outputs": [],
   "source": [
    "import pandas as pd, numpy as np, os, glob\n",
    "pd.options.mode.chained_assignment = None"
   ]
  },
  {
   "cell_type": "code",
   "execution_count": 8,
   "metadata": {},
   "outputs": [
    {
     "name": "stderr",
     "output_type": "stream",
     "text": [
      "/var/folders/bh/sd4z8w4n5_z9223mbfs7x9fr0000gn/T/ipykernel_24471/1004895937.py:1: DtypeWarning: Columns (6,7,8,39,40,41) have mixed types. Specify dtype option on import or set low_memory=False.\n",
      "  PeriHD_Train = pd.read_csv('../../../Dialysis_Hypotension/IDH_full_freetext_data/final_filter_train_full_2693_PeriHD.csv')\n",
      "/var/folders/bh/sd4z8w4n5_z9223mbfs7x9fr0000gn/T/ipykernel_24471/1004895937.py:2: DtypeWarning: Columns (5) have mixed types. Specify dtype option on import or set low_memory=False.\n",
      "  IntraHD_Train = pd.read_csv('../../../Dialysis_Hypotension/IDH_full_freetext_data/final_filter_train_full_1124_IntraHD.csv')\n"
     ]
    }
   ],
   "source": [
    "PeriHD_Train = pd.read_csv('../../../Dialysis_Hypotension/IDH_full_freetext_data/final_filter_train_full_2693_PeriHD.csv')\n",
    "IntraHD_Train = pd.read_csv('../../../Dialysis_Hypotension/IDH_full_freetext_data/final_filter_train_full_1124_IntraHD.csv')\n",
    "PeriHD_Test = pd.read_csv('/Users/monoaki/vs_code/亞東/encrypt/baseline_01_sample_500-test_periHD.csv')\n",
    "IntraHD_Test = pd.read_csv('../../../Dialysis_Hypotension/IDH_full_freetext_data/IntraHD_ExternalData_05-17.csv')"
   ]
  },
  {
   "cell_type": "code",
   "execution_count": 12,
   "metadata": {},
   "outputs": [
    {
     "data": {
      "text/plain": [
       "Index(['ID', '洗腎紀錄時間', '急診門診住院', '入院方式', 'FISTULA', 'GRAFT', 'DLC', 'PERMCATH',\n",
       "       'Catheter', '體重1開始', 'HGB', 'ALBUMIN', 'ALT (SGPT)', 'Alk.phosphatase',\n",
       "       'BUN', 'Ca', 'Ferritin', 'IRON/TIBC', 'Intact PTH', 'Na', 'P', 'HBsAg',\n",
       "       'HBc', 'HBs', 'HBV', 'HCV', 'HGB-14', 'response_date_14', 'count',\n",
       "       'Total', 'drug2', 'drug4', 'drug6', 'drug8', 'drug10', 'drug12',\n",
       "       'drug14', 'drug total', 'HGB-30', 'response_date_30', 'drug7',\n",
       "       'drug1430', 'drug21', 'drug28', 'drug35', 'drug total_14',\n",
       "       'drug total_30', 'Total_30', '性別', '算年齡', 'age', '洗後體重', '有無糖尿病', 'MCV',\n",
       "       'MCH', 'MCHC', 'Iron', 'URR%'],\n",
       "      dtype='object')"
      ]
     },
     "execution_count": 12,
     "metadata": {},
     "output_type": "execute_result"
    }
   ],
   "source": [
    "full_PeriHD_DataFrame = pd.read_csv('../../../encrypt/full_table01.csv')\n",
    "full_PeriHD_DataFrame.columns"
   ]
  },
  {
   "cell_type": "code",
   "execution_count": 13,
   "metadata": {},
   "outputs": [
    {
     "name": "stderr",
     "output_type": "stream",
     "text": [
      "/var/folders/bh/sd4z8w4n5_z9223mbfs7x9fr0000gn/T/ipykernel_24471/2285424493.py:1: DtypeWarning: Columns (3,5,6,7,8,9,10,11,15,16,17,18,25,26,27,28,29,30,31,41,45,46,47,48,49,50,52,53,54,55,56,57) have mixed types. Specify dtype option on import or set low_memory=False.\n",
      "  full_PeriHD_DataFrame = pd.read_csv('../../../encrypt/periHD2016_20_en.csv')\n"
     ]
    },
    {
     "data": {
      "text/plain": [
       "Index(['ID', '洗腎紀錄時間', '急診門診住院', '護理交班事項', '透析開始時間', '開始血壓SBP', '開始血壓DBP',\n",
       "       '開始脈搏', '體重1開始', '體重2標準體重', '體重3應脫水', '體重其他', '體溫', 'FISTULA', 'GRAFT',\n",
       "       'DLC', 'PERMCATH', 'EXITSITE', 'DLC順暢度', '血流強度', '血管彈性', '瘀青', '感染徵兆',\n",
       "       '穿刺', '血管通路理學篩檢其他', '跌倒_年齡', '跌倒_跌倒病史', '跌倒_意識狀態', '跌倒_下肢肌力測驗',\n",
       "       '跌倒_如廁能力', '跌倒_活動狀態', '跌倒_藥物使用', '入院方式', '意識狀態', '呼吸系統', '呼吸系統5其他',\n",
       "       '心臟血管系統', '心臟血管系統其他', '透析時間結束', '結束血壓SBP', '結束血壓DBP', '結束脈搏', '體重結束',\n",
       "       '體重實際脫水', '體重機器顯示', '血管廔管', '血管廔管2', '血管廔管3', 'Hollow fiber clot',\n",
       "       'V-chamber clot', 'A-chamber clot', '處置其他結束', '透析後評估項目1', '透析後評估項目2',\n",
       "       '透析後評估項目3', '透析後評估項目4', '透析後評估項目5', '透析後評估項目6', 'DIAG585',\n",
       "       'DIAG585 STATDATE', 'DIAG585 ENDDATE', 'NEW開始血壓SBP', 'NEW開始血壓DBP',\n",
       "       'INDEX'],\n",
       "      dtype='object')"
      ]
     },
     "execution_count": 13,
     "metadata": {},
     "output_type": "execute_result"
    }
   ],
   "source": [
    "full_PeriHD_DataFrame = pd.read_csv('../../../encrypt/periHD2016_20_en.csv')\n",
    "full_PeriHD_DataFrame.columns"
   ]
  },
  {
   "cell_type": "code",
   "execution_count": 18,
   "metadata": {},
   "outputs": [
    {
     "data": {
      "text/plain": [
       "Index(['ID', '洗腎紀錄時間', '急診門診住院', '護理交班事項', '透析開始時間', '開始血壓SBP', '開始血壓DBP',\n",
       "       '開始脈搏', '體重1開始', '體重2標準體重', '體重3應脫水', '體重其他', '體溫', 'FISTULA', 'GRAFT',\n",
       "       'DLC', 'PERMCATH', 'EXITSITE', 'DLC順暢度', '血流強度', '血管彈性', '瘀青', '感染徵兆',\n",
       "       '穿刺', '血管通路理學篩檢其他', '跌倒_年齡', '跌倒_跌倒病史', '跌倒_意識狀態', '跌倒_下肢肌力測驗',\n",
       "       '跌倒_如廁能力', '跌倒_活動狀態', '跌倒_藥物使用', '入院方式', '意識狀態', '呼吸系統', '呼吸系統5其他',\n",
       "       '心臟血管系統', '心臟血管系統其他', '透析時間結束', '結束血壓SBP', '結束血壓DBP', '結束脈搏', '體重結束',\n",
       "       '體重實際脫水', '體重機器顯示', '血管廔管', '血管廔管2', '血管廔管3', 'Hollow fiber clot',\n",
       "       'V-chamber clot', 'A-chamber clot', '處置其他結束', '透析後評估項目1', '透析後評估項目2',\n",
       "       '透析後評估項目3', '透析後評估項目4', '透析後評估項目5', '透析後評估項目6', 'DIAG585',\n",
       "       'DIAG585 STATDATE', 'DIAG585 ENDDATE', 'NEW開始血壓SBP', 'NEW開始血壓DBP',\n",
       "       'INDEX'],\n",
       "      dtype='object')"
      ]
     },
     "execution_count": 18,
     "metadata": {},
     "output_type": "execute_result"
    }
   ],
   "source": [
    "full_PeriHD_DataFrame_Overall.columns"
   ]
  },
  {
   "cell_type": "code",
   "execution_count": 15,
   "metadata": {},
   "outputs": [
    {
     "name": "stdout",
     "output_type": "stream",
     "text": [
      "(2386, 65)\n",
      "(500, 66)\n"
     ]
    }
   ],
   "source": [
    "IntraHD_Train['處置其他+症狀處置'] = IntraHD_Train['處置其他']+'||'+IntraHD_Train['症狀處置']\n",
    "# print(IntraHD_Train.shape)\n",
    "IntraHD_Train = IntraHD_Train.drop_duplicates(subset=['處置其他+症狀處置'])\n",
    "# print(IntraHD_Train.shape)\n",
    "# print(PeriHD_Train.shape)\n",
    "PeriHD_Train = PeriHD_Train.drop_duplicates(subset=['處置其他結束'])\n",
    "# PeriHD_Train = pd.concat([PeriHD_Train,PeriHD_Train.sample(307, random_state=123)])\n",
    "PeriHD_Train['透析時間長度'] = pd.to_datetime(PeriHD_Train['透析時間結束'])-pd.to_datetime(PeriHD_Train['透析開始時間'])\n",
    "PeriHD_Test['透析時間長度'] = pd.to_datetime(PeriHD_Test['透析時間結束'])-pd.to_datetime(PeriHD_Test['透析開始時間'])\n",
    "print(PeriHD_Train.shape)\n",
    "print(PeriHD_Test.shape)"
   ]
  },
  {
   "cell_type": "code",
   "execution_count": 16,
   "metadata": {},
   "outputs": [
    {
     "name": "stdout",
     "output_type": "stream",
     "text": [
      "(1259,) (357,) (1382,)\n"
     ]
    }
   ],
   "source": [
    "PeriHD_Train_ID = PeriHD_Train['ID'].astype(str).drop_duplicates()\n",
    "PeriHD_Test_ID = PeriHD_Test['ID'].astype(str).drop_duplicates()\n",
    "PeriHD_overall_ID = pd.concat([PeriHD_Train_ID,PeriHD_Test_ID]).drop_duplicates()\n",
    "print(PeriHD_Train_ID.shape, PeriHD_Test_ID.shape, PeriHD_overall_ID.shape)\n",
    "full_PeriHD_DataFrame_Train = pd.merge(PeriHD_Train_ID, full_PeriHD_DataFrame, on='ID', how='inner')\n",
    "full_PeriHD_DataFrame_Test = pd.merge(PeriHD_Test_ID, full_PeriHD_DataFrame, on='ID', how='inner')\n",
    "full_PeriHD_DataFrame_Overall = pd.merge(PeriHD_overall_ID, full_PeriHD_DataFrame, on='ID', how='inner')\n",
    "full_PeriHD_DataFrame_Overall['ID'] = full_PeriHD_DataFrame_Overall['ID'].astype(str)"
   ]
  },
  {
   "cell_type": "code",
   "execution_count": 14,
   "metadata": {},
   "outputs": [],
   "source": [
    "miss_ID= []\n",
    "First_dcit = pd.DataFrame([], columns=full_PeriHD_DataFrame_Overall.columns.to_list())\n",
    "for idx, ID_ in enumerate(PeriHD_overall_ID.to_list()):\n",
    "    First_Filter_ID_ = full_PeriHD_DataFrame_Overall[full_PeriHD_DataFrame_Overall['ID']==ID_]\n",
    "    if First_Filter_ID_.shape[0]==0:\n",
    "        miss_ID.append(ID_)\n",
    "    First_Filter_ID_['洗腎紀錄時間]'] = pd.to_datetime(First_Filter_ID_['洗腎紀錄時間']).copy(deep=True)\n",
    "    # First_Filter_DateTime = First_Filter_ID_.sort_values(by=['洗腎紀錄時間'])\n",
    "    # Get_First_Records = First_Filter_DateTime.iloc[0].to_frame().transpose()\n",
    "    # First_dcit = pd.concat([First_dcit, Get_First_Records])\n",
    "    # break"
   ]
  },
  {
   "cell_type": "code",
   "execution_count": 17,
   "metadata": {},
   "outputs": [],
   "source": [
    "pd.DataFrame(miss_ID, columns=['ID']).to_csv('./miss_ID.csv',encoding='utf-8-sig', index=False)"
   ]
  },
  {
   "cell_type": "code",
   "execution_count": 7,
   "metadata": {},
   "outputs": [],
   "source": [
    "age_df = pd.read_csv('../../../encrypt/Base2016_20_en.csv')\n",
    "age_df_PeriHD_overall = pd.merge(age_df, First_dcit, on='ID', how='inner')\n",
    "age_df_PeriHD_overall['生日'] = pd.to_datetime(age_df_PeriHD_overall['生日']).copy(deep=True)\n",
    "age_df_PeriHD_overall['age'] = ((age_df_PeriHD_overall['洗腎紀錄時間']-age_df_PeriHD_overall['生日'])/365).astype(str).str.split(' days').str[0]\n",
    "age_df_PeriHD_overall['透析時間長度'] = pd.to_datetime(age_df_PeriHD_overall['透析時間結束'])-pd.to_datetime(age_df_PeriHD_overall['透析開始時間'])"
   ]
  },
  {
   "cell_type": "code",
   "execution_count": 8,
   "metadata": {},
   "outputs": [
    {
     "name": "stdout",
     "output_type": "stream",
     "text": [
      "(1382, 68) (1259, 68) (357, 68)\n"
     ]
    }
   ],
   "source": [
    "age_df_PeriHD_overall = age_df_PeriHD_overall\n",
    "age_df_PeriHD_Internal = pd.merge(PeriHD_Train_ID, age_df_PeriHD_overall, on='ID', how='inner')\n",
    "age_df_PeriHD_External =pd.merge(PeriHD_Test_ID, age_df_PeriHD_overall, on='ID', how='inner')\n",
    "print(age_df_PeriHD_overall.shape, age_df_PeriHD_Internal.shape, age_df_PeriHD_External.shape)"
   ]
  },
  {
   "cell_type": "code",
   "execution_count": 9,
   "metadata": {},
   "outputs": [],
   "source": [
    "def per_hours(dataframe):\n",
    "    time_delta = [4 if time.components.hours>5  else time.components.hours for time in pd.to_timedelta(dataframe.dropna())]\n",
    "    mean = round(np.mean(time_delta),1)\n",
    "    return f\"{mean} ({round(np.std(time_delta),1)})\"\n",
    "def weight_calc(dataframe):\n",
    "    dataframe_pos = dataframe[['體重1開始','體重機器顯示','體重結束']]\n",
    "    dataframe_pos = dataframe_pos.apply(pd.to_numeric, errors='coerce')\n",
    "    dataframe_pos = dataframe_pos.dropna()\n",
    "    dataframe_pos = dataframe_pos.reset_index()\n",
    "    dataframe_pos['洗後體重'] = dataframe_pos['體重1開始']-dataframe_pos['體重機器顯示']\n",
    "    for i in range(len(dataframe_pos)):\n",
    "        if dataframe_pos.loc[i,'洗後體重'] <30:\n",
    "            dataframe_pos.loc[i,'洗後體重'] = dataframe_pos.loc[i,'體重結束']\n",
    "        if dataframe_pos.loc[i,'洗後體重'] >100:\n",
    "            dataframe_pos.loc[i,'洗後體重'] = dataframe_pos.loc[i,'體重結束']\n",
    "    dataframe_pos['乾體重'] = dataframe_pos['體重結束']\n",
    "    return dataframe_pos\n",
    "\n",
    "def get_BP(dataframe):\n",
    "    dataframe = dataframe[['NEW開始血壓SBP','NEW開始血壓DBP','開始脈搏','結束血壓SBP','結束血壓DBP','結束脈搏']]\n",
    "    dataframe = dataframe.apply(pd.to_numeric, errors='coerce')\n",
    "    dataframe = dataframe.dropna().astype(float)\n",
    "    dataframe = dataframe[(dataframe['NEW開始血壓SBP']>=40) & (dataframe['NEW開始血壓SBP']<=240) & (dataframe['結束血壓SBP']>=40) & (dataframe['結束血壓SBP']<=240)]\n",
    "    dataframe = dataframe[(dataframe['NEW開始血壓DBP']>=30) & (dataframe['NEW開始血壓DBP']<=140) & (dataframe['結束血壓DBP']>=30) & (dataframe['結束血壓DBP']<=140)]\n",
    "    return dataframe\n",
    "\n",
    "Table_1_Variables = {\"PeriHD Variables\":['Participants, n', 'Age, years', 'Men, n(%)', 'Weight, kg'],\n",
    "                     \"Internal Data\":[1259, \n",
    "                                      f\"{round(np.mean(age_df_PeriHD_Internal['age'].astype(int).values),1)} ({round(age_df_PeriHD_Internal['age'].astype(int).std(),1)})\",\n",
    "                                      f\"{sum(age_df_PeriHD_Internal['性別']=='男')} ({round(sum(age_df_PeriHD_Internal['性別']=='男')/len(age_df_PeriHD_Internal)*100,1)})%\",\n",
    "                                      f\"{round(np.mean(age_df_PeriHD_Internal['體重1開始'].fillna(0).astype(float)),1)} ({round(age_df_PeriHD_Internal['體重1開始'].astype(float).std(),1)})\"\n",
    "                                      ],\n",
    "                     \"External Data\":[357,\n",
    "                                      f\"{round(np.mean(age_df_PeriHD_External['age'].astype(int).values),1)} ({round(age_df_PeriHD_External['age'].astype(int).std(),1)})\",\n",
    "                                      f\"{sum(age_df_PeriHD_External['性別']=='男')} ({round(sum(age_df_PeriHD_External['性別']=='男')/len(age_df_PeriHD_External)*100,1)})%\",\n",
    "                                      f\"{round(np.mean(age_df_PeriHD_External['體重1開始'].fillna(0).astype(float)),1)} ({round(age_df_PeriHD_External['體重1開始'].astype(float).std(),1)})\"\n",
    "                                      ],\n",
    "                     \"Overall Data\":[1382,\n",
    "                                      f\"{round(np.mean(age_df_PeriHD_overall['age'].astype(int).values),1)} ({round(age_df_PeriHD_overall['age'].astype(int).std(),1)})\",\n",
    "                                      f\"{sum(age_df_PeriHD_overall['性別']=='男')} ({round(sum(age_df_PeriHD_overall['性別']=='男')/len(age_df_PeriHD_overall)*100,1)})%\",\n",
    "                                      f\"{round(np.mean(PeriHD_Test['體重1開始'].fillna(0).astype(float)),1)} ({round(PeriHD_Test['體重1開始'].astype(float).std(),1)})\"\n",
    "                                      ]}\n",
    "# 暫時移除Blood flow rate：來源於IntraHD\n",
    "Table_1_Dialysis_information = {\"PeriHD Variables\":['Hours per session, hour','Dry body wieght, kg','Pre-dialysis weight, kg','post-dialysis, kg'],\n",
    "                                \"Internal Data\":[per_hours(PeriHD_Train['透析時間長度']),\n",
    "                                                 f\"{round(np.mean(weight_calc(age_df_PeriHD_Internal)['乾體重']),1)} ({round(np.std(weight_calc(age_df_PeriHD_Internal)['乾體重']),1)})\",\n",
    "                                                 f\"{round(np.mean(age_df_PeriHD_Internal['體重1開始'].fillna(0).astype(float)),1)} ({round(age_df_PeriHD_Internal['體重1開始'].astype(float).std(),1)})\",\n",
    "                                                 f\"{round(np.mean(weight_calc(age_df_PeriHD_Internal)['洗後體重']),1)} ({round(np.std(weight_calc(age_df_PeriHD_Internal)['洗後體重']),1)})\",\n",
    "                                                 ],\n",
    "                                \"External Data\":[per_hours(age_df_PeriHD_External['透析時間長度']),\n",
    "                                                 f\"{round(np.mean(weight_calc(age_df_PeriHD_External)['乾體重']),1)} ({round(np.std(weight_calc(age_df_PeriHD_External)['乾體重']),1)})\",\n",
    "                                                 f\"{round(np.mean(age_df_PeriHD_External['體重1開始'].fillna(0).astype(float)),1)} ({round(age_df_PeriHD_External['體重1開始'].astype(float).std(),1)})\",\n",
    "                                                 f\"{round(np.mean(weight_calc(age_df_PeriHD_External)['洗後體重']),1)} ({round(np.std(weight_calc(age_df_PeriHD_External)['洗後體重']),1)})\",\n",
    "                                                 ],\n",
    "                                \"Overall Data\":[per_hours(age_df_PeriHD_overall['透析時間長度']),\n",
    "                                                 f\"{round(np.mean(weight_calc(age_df_PeriHD_overall)['乾體重']),1)} ({round(np.std(weight_calc(age_df_PeriHD_overall)['乾體重']),1)})\",\n",
    "                                                 f\"{round(np.mean(age_df_PeriHD_overall['體重1開始'].fillna(0).astype(float)),1)} ({round(age_df_PeriHD_overall['體重1開始'].astype(float).std(),1)})\",\n",
    "                                                 f\"{round(np.mean(weight_calc(age_df_PeriHD_overall)['洗後體重']),1)} ({round(np.std(weight_calc(age_df_PeriHD_overall)['洗後體重']),1)})\",\n",
    "                                                 ]} \n",
    "Table_1_Vascular_access = {\"PeriHD Vascular access, n(%)\": ['AV-Fistula','AV-Graft','Catheter'],\n",
    "                           \"Internal Data\":[],\n",
    "                           \"External Data\":[]}\n",
    "Table_1_Blood_pressures = {\"PeriHD Variables\":['Start-SBP, mmHg','Start-DBP, mmHg','Start-HR, beat/min','End-SBP, mmHg','End-DBP, mmHg','End-HR, beat/min'],\n",
    "                           \"Internal Data\":[f\"{round(np.mean(get_BP(age_df_PeriHD_Internal)['NEW開始血壓SBP']),1)} ({round(np.std(get_BP(age_df_PeriHD_Internal)['NEW開始血壓SBP']),1)})\",\n",
    "                                            f\"{round(np.mean(get_BP(age_df_PeriHD_Internal)['NEW開始血壓DBP']),1)} ({round(np.std(get_BP(age_df_PeriHD_Internal)['NEW開始血壓DBP']),1)})\",\n",
    "                                            f\"{round(np.mean(get_BP(age_df_PeriHD_Internal)['開始脈搏']),1)} ({round(np.std(get_BP(age_df_PeriHD_Internal)['開始脈搏']),1)})\",\n",
    "                                            f\"{round(np.mean(get_BP(age_df_PeriHD_Internal)['結束血壓SBP']),1)} ({round(np.std(get_BP(age_df_PeriHD_Internal)['結束血壓SBP']),1)})\",\n",
    "                                            f\"{round(np.mean(get_BP(age_df_PeriHD_Internal)['結束血壓DBP']),1)} ({round(np.std(get_BP(age_df_PeriHD_Internal)['結束血壓DBP']),1)})\",\n",
    "                                            f\"{round(np.mean(get_BP(age_df_PeriHD_Internal)['結束脈搏']),1)} ({round(np.std(get_BP(age_df_PeriHD_Internal)['結束脈搏']),1)})\",\n",
    "                                            ],\n",
    "                           \"External Data\":[f\"{round(np.mean(get_BP(age_df_PeriHD_External)['NEW開始血壓SBP']),1)} ({round(np.std(get_BP(age_df_PeriHD_External)['NEW開始血壓SBP']),1)})\",\n",
    "                                            f\"{round(np.mean(get_BP(age_df_PeriHD_External)['NEW開始血壓DBP']),1)} ({round(np.std(get_BP(age_df_PeriHD_External)['NEW開始血壓DBP']),1)})\",\n",
    "                                            f\"{round(np.mean(get_BP(age_df_PeriHD_External)['開始脈搏']),1)} ({round(np.std(get_BP(age_df_PeriHD_External)['開始脈搏']),1)})\",\n",
    "                                            f\"{round(np.mean(get_BP(age_df_PeriHD_External)['結束血壓SBP']),1)} ({round(np.std(get_BP(age_df_PeriHD_External)['結束血壓SBP']),1)})\",\n",
    "                                            f\"{round(np.mean(get_BP(age_df_PeriHD_External)['結束血壓DBP']),1)} ({round(np.std(get_BP(age_df_PeriHD_External)['結束血壓DBP']),1)})\",\n",
    "                                            f\"{round(np.mean(get_BP(age_df_PeriHD_External)['結束脈搏']),1)} ({round(np.std(get_BP(age_df_PeriHD_External)['結束脈搏']),1)})\",\n",
    "                                            ],\n",
    "                           \"Overall Data\":[f\"{round(np.mean(get_BP(age_df_PeriHD_overall)['NEW開始血壓SBP']),1)} ({round(np.std(get_BP(age_df_PeriHD_overall)['NEW開始血壓SBP']),1)})\",\n",
    "                                            f\"{round(np.mean(get_BP(age_df_PeriHD_overall)['NEW開始血壓DBP']),1)} ({round(np.std(get_BP(age_df_PeriHD_overall)['NEW開始血壓DBP']),1)})\",\n",
    "                                            f\"{round(np.mean(get_BP(age_df_PeriHD_overall)['開始脈搏']),1)} ({round(np.std(get_BP(age_df_PeriHD_overall)['開始脈搏']),1)})\",\n",
    "                                            f\"{round(np.mean(get_BP(age_df_PeriHD_overall)['結束血壓SBP']),1)} ({round(np.std(get_BP(age_df_PeriHD_overall)['結束血壓SBP']),1)})\",\n",
    "                                            f\"{round(np.mean(get_BP(age_df_PeriHD_overall)['結束血壓DBP']),1)} ({round(np.std(get_BP(age_df_PeriHD_overall)['結束血壓DBP']),1)})\",\n",
    "                                            f\"{round(np.mean(get_BP(age_df_PeriHD_overall)['結束脈搏']),1)} ({round(np.std(get_BP(age_df_PeriHD_overall)['結束脈搏']),1)})\",\n",
    "                                            ]}"
   ]
  },
  {
   "cell_type": "code",
   "execution_count": 10,
   "metadata": {},
   "outputs": [
    {
     "data": {
      "text/html": [
       "<div>\n",
       "<style scoped>\n",
       "    .dataframe tbody tr th:only-of-type {\n",
       "        vertical-align: middle;\n",
       "    }\n",
       "\n",
       "    .dataframe tbody tr th {\n",
       "        vertical-align: top;\n",
       "    }\n",
       "\n",
       "    .dataframe thead th {\n",
       "        text-align: right;\n",
       "    }\n",
       "</style>\n",
       "<table border=\"1\" class=\"dataframe\">\n",
       "  <thead>\n",
       "    <tr style=\"text-align: right;\">\n",
       "      <th></th>\n",
       "      <th>PeriHD Variables</th>\n",
       "      <th>Internal Data</th>\n",
       "      <th>External Data</th>\n",
       "      <th>Overall Data</th>\n",
       "    </tr>\n",
       "  </thead>\n",
       "  <tbody>\n",
       "    <tr>\n",
       "      <th>0</th>\n",
       "      <td>Participants, n</td>\n",
       "      <td>1259</td>\n",
       "      <td>357</td>\n",
       "      <td>1382</td>\n",
       "    </tr>\n",
       "    <tr>\n",
       "      <th>1</th>\n",
       "      <td>Age, years</td>\n",
       "      <td>64.6 (13.1)</td>\n",
       "      <td>61.0 (11.8)</td>\n",
       "      <td>64.3 (13.0)</td>\n",
       "    </tr>\n",
       "    <tr>\n",
       "      <th>2</th>\n",
       "      <td>Men, n(%)</td>\n",
       "      <td>705 (56.0)%</td>\n",
       "      <td>208 (58.3)%</td>\n",
       "      <td>786 (56.9)%</td>\n",
       "    </tr>\n",
       "    <tr>\n",
       "      <th>3</th>\n",
       "      <td>Weight, kg</td>\n",
       "      <td>59.6 (19.1)</td>\n",
       "      <td>60.5 (18.2)</td>\n",
       "      <td>63.0 (14.2)</td>\n",
       "    </tr>\n",
       "    <tr>\n",
       "      <th>0</th>\n",
       "      <td>Hours per session, hour</td>\n",
       "      <td>3.4 (0.7)</td>\n",
       "      <td>2.8 (1.1)</td>\n",
       "      <td>2.8 (1.1)</td>\n",
       "    </tr>\n",
       "    <tr>\n",
       "      <th>1</th>\n",
       "      <td>Dry body wieght, kg</td>\n",
       "      <td>60.2 (16.5)</td>\n",
       "      <td>62.7 (14.6)</td>\n",
       "      <td>61.4 (16.2)</td>\n",
       "    </tr>\n",
       "    <tr>\n",
       "      <th>2</th>\n",
       "      <td>Pre-dialysis weight, kg</td>\n",
       "      <td>59.6 (19.1)</td>\n",
       "      <td>60.5 (18.2)</td>\n",
       "      <td>59.8 (19.1)</td>\n",
       "    </tr>\n",
       "    <tr>\n",
       "      <th>3</th>\n",
       "      <td>post-dialysis, kg</td>\n",
       "      <td>60.9 (14.5)</td>\n",
       "      <td>62.8 (13.9)</td>\n",
       "      <td>61.9 (14.4)</td>\n",
       "    </tr>\n",
       "    <tr>\n",
       "      <th>0</th>\n",
       "      <td>Start-SBP, mmHg</td>\n",
       "      <td>145.6 (24.9)</td>\n",
       "      <td>147.5 (25.5)</td>\n",
       "      <td>145.8 (25.0)</td>\n",
       "    </tr>\n",
       "    <tr>\n",
       "      <th>1</th>\n",
       "      <td>Start-DBP, mmHg</td>\n",
       "      <td>74.2 (15.1)</td>\n",
       "      <td>76.5 (14.5)</td>\n",
       "      <td>74.4 (15.0)</td>\n",
       "    </tr>\n",
       "    <tr>\n",
       "      <th>2</th>\n",
       "      <td>Start-HR, beat/min</td>\n",
       "      <td>83.0 (14.4)</td>\n",
       "      <td>81.2 (13.1)</td>\n",
       "      <td>83.0 (14.2)</td>\n",
       "    </tr>\n",
       "    <tr>\n",
       "      <th>3</th>\n",
       "      <td>End-SBP, mmHg</td>\n",
       "      <td>145.9 (26.7)</td>\n",
       "      <td>146.2 (26.9)</td>\n",
       "      <td>145.8 (26.5)</td>\n",
       "    </tr>\n",
       "    <tr>\n",
       "      <th>4</th>\n",
       "      <td>End-DBP, mmHg</td>\n",
       "      <td>75.2 (14.7)</td>\n",
       "      <td>76.8 (14.1)</td>\n",
       "      <td>75.4 (14.7)</td>\n",
       "    </tr>\n",
       "    <tr>\n",
       "      <th>5</th>\n",
       "      <td>End-HR, beat/min</td>\n",
       "      <td>86.2 (35.7)</td>\n",
       "      <td>82.3 (13.8)</td>\n",
       "      <td>85.9 (34.4)</td>\n",
       "    </tr>\n",
       "  </tbody>\n",
       "</table>\n",
       "</div>"
      ],
      "text/plain": [
       "          PeriHD Variables Internal Data External Data  Overall Data\n",
       "0          Participants, n          1259           357          1382\n",
       "1               Age, years   64.6 (13.1)   61.0 (11.8)   64.3 (13.0)\n",
       "2                Men, n(%)   705 (56.0)%   208 (58.3)%   786 (56.9)%\n",
       "3               Weight, kg   59.6 (19.1)   60.5 (18.2)   63.0 (14.2)\n",
       "0  Hours per session, hour     3.4 (0.7)     2.8 (1.1)     2.8 (1.1)\n",
       "1      Dry body wieght, kg   60.2 (16.5)   62.7 (14.6)   61.4 (16.2)\n",
       "2  Pre-dialysis weight, kg   59.6 (19.1)   60.5 (18.2)   59.8 (19.1)\n",
       "3        post-dialysis, kg   60.9 (14.5)   62.8 (13.9)   61.9 (14.4)\n",
       "0          Start-SBP, mmHg  145.6 (24.9)  147.5 (25.5)  145.8 (25.0)\n",
       "1          Start-DBP, mmHg   74.2 (15.1)   76.5 (14.5)   74.4 (15.0)\n",
       "2       Start-HR, beat/min   83.0 (14.4)   81.2 (13.1)   83.0 (14.2)\n",
       "3            End-SBP, mmHg  145.9 (26.7)  146.2 (26.9)  145.8 (26.5)\n",
       "4            End-DBP, mmHg   75.2 (14.7)   76.8 (14.1)   75.4 (14.7)\n",
       "5         End-HR, beat/min   86.2 (35.7)   82.3 (13.8)   85.9 (34.4)"
      ]
     },
     "execution_count": 10,
     "metadata": {},
     "output_type": "execute_result"
    }
   ],
   "source": [
    "pd.concat([pd.DataFrame(Table_1_Variables),pd.DataFrame(Table_1_Dialysis_information), pd.DataFrame(Table_1_Blood_pressures)], axis=0)"
   ]
  }
 ],
 "metadata": {
  "kernelspec": {
   "display_name": "yadong_nlp",
   "language": "python",
   "name": "python3"
  },
  "language_info": {
   "codemirror_mode": {
    "name": "ipython",
    "version": 3
   },
   "file_extension": ".py",
   "mimetype": "text/x-python",
   "name": "python",
   "nbconvert_exporter": "python",
   "pygments_lexer": "ipython3",
   "version": "3.8.15"
  },
  "orig_nbformat": 4
 },
 "nbformat": 4,
 "nbformat_minor": 2
}
