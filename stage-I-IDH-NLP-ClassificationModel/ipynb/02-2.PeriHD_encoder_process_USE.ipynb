{
 "cells": [
  {
   "cell_type": "code",
   "execution_count": 1,
   "metadata": {},
   "outputs": [
    {
     "name": "stderr",
     "output_type": "stream",
     "text": [
      "2023-05-17 13:15:58.164722: I tensorflow/core/platform/cpu_feature_guard.cc:193] This TensorFlow binary is optimized with oneAPI Deep Neural Network Library (oneDNN) to use the following CPU instructions in performance-critical operations:  AVX2 AVX512F AVX512_VNNI FMA\n",
      "To enable them in other operations, rebuild TensorFlow with the appropriate compiler flags.\n",
      "2023-05-17 13:15:58.524561: I tensorflow/core/util/port.cc:104] oneDNN custom operations are on. You may see slightly different numerical results due to floating-point round-off errors from different computation orders. To turn them off, set the environment variable `TF_ENABLE_ONEDNN_OPTS=0`.\n",
      "2023-05-17 13:15:59.776778: W tensorflow/compiler/xla/stream_executor/platform/default/dso_loader.cc:64] Could not load dynamic library 'libnvinfer.so.7'; dlerror: libnvinfer.so.7: cannot open shared object file: No such file or directory\n",
      "2023-05-17 13:15:59.777198: W tensorflow/compiler/xla/stream_executor/platform/default/dso_loader.cc:64] Could not load dynamic library 'libnvinfer_plugin.so.7'; dlerror: libnvinfer_plugin.so.7: cannot open shared object file: No such file or directory\n",
      "2023-05-17 13:15:59.777224: W tensorflow/compiler/tf2tensorrt/utils/py_utils.cc:38] TF-TRT Warning: Cannot dlopen some TensorRT libraries. If you would like to use Nvidia GPU with TensorRT, please make sure the missing libraries mentioned above are installed properly.\n"
     ]
    },
    {
     "name": "stdout",
     "output_type": "stream",
     "text": [
      "WARNING:tensorflow:From /home/chihyi111/miniconda3/envs/yd_nlptf/lib/python3.9/site-packages/tensorflow/python/compat/v2_compat.py:107: disable_resource_variables (from tensorflow.python.ops.variable_scope) is deprecated and will be removed in a future version.\n",
      "Instructions for updating:\n",
      "non-resource variables are not supported in the long term\n"
     ]
    },
    {
     "name": "stderr",
     "output_type": "stream",
     "text": [
      "2023-05-17 13:16:08.947094: I tensorflow/core/platform/cpu_feature_guard.cc:193] This TensorFlow binary is optimized with oneAPI Deep Neural Network Library (oneDNN) to use the following CPU instructions in performance-critical operations:  AVX2 AVX512F AVX512_VNNI FMA\n",
      "To enable them in other operations, rebuild TensorFlow with the appropriate compiler flags.\n",
      "2023-05-17 13:16:11.623876: I tensorflow/core/common_runtime/gpu/gpu_device.cc:1613] Created device /job:localhost/replica:0/task:0/device:GPU:0 with 21639 MB memory:  -> device: 0, name: NVIDIA GeForce RTX 3090, pci bus id: 0000:1d:00.0, compute capability: 8.6\n"
     ]
    }
   ],
   "source": [
    "import numpy as np, pandas as pd, torch,os\n",
    "from sentence_transformers import SentenceTransformer\n",
    "import tensorflow.compat.v1 as tf\n",
    "tf.disable_v2_behavior()\n",
    "import tensorflow_hub as hub\n",
    "import tensorflow_text\n",
    "from sklearn.model_selection import train_test_split\n",
    "from sklearn.model_selection import KFold\n",
    "from tensorflow.keras.callbacks import ModelCheckpoint, EarlyStopping\n",
    "\n",
    "# device = torch.device(\"cuda:4\" if torch.cuda.is_available() else 'cpu')\n",
    "# BERT_model = SentenceTransformer('distiluse-base-multilingual-cased-v2', device=device)\n",
    "gpus = tf.config.list_physical_devices('GPU')\n",
    "if gpus:\n",
    "    tf.config.set_visible_devices(gpus[0], 'GPU')\n",
    "USE_model = hub.load(\"https://tfhub.dev/google/universal-sentence-encoder-multilingual-large/3\", )"
   ]
  },
  {
   "cell_type": "code",
   "execution_count": 2,
   "metadata": {},
   "outputs": [],
   "source": [
    "import pickle"
   ]
  },
  {
   "cell_type": "code",
   "execution_count": 3,
   "metadata": {},
   "outputs": [
    {
     "name": "stdout",
     "output_type": "stream",
     "text": [
      "(12047, 3) (1562, 3)\n"
     ]
    }
   ],
   "source": [
    "# data_train, data_test = train_test_split(new_fix_get_2693_sample_df, test_size=0.1, random_state=42, stratify=new_fix_get_2693_sample_df['label'])\n",
    "# data_train, data_test = train_test_split(get_2693_sample_df, test_size=0.1, random_state=42, stratify=get_2693_sample_df['label'])\n",
    "data_train = pd.read_csv(\"./dataset/pre-processing/PeriHD_Sentence-merge_internal-train[pos+neg].csv\")\n",
    "data_train['label'] = [1 if i=='Y' else 0 for i in data_train.Truth.values.tolist()]\n",
    "data_valid = pd.read_csv(\"./dataset/pre-processing/PeriHD_Sentence-merge_internal-test[pos+neg].csv\")\n",
    "data_valid['label'] = [1 if i=='Y' else 0 for i in data_valid.Truth.values.tolist()]\n",
    "print(data_train.shape, data_valid.shape)"
   ]
  },
  {
   "cell_type": "code",
   "execution_count": 4,
   "metadata": {},
   "outputs": [
    {
     "name": "stdout",
     "output_type": "stream",
     "text": [
      "10975 1072\n",
      "1444 118\n"
     ]
    }
   ],
   "source": [
    "print(len(data_train.label.values)-sum(data_train.label.values), sum(data_train.label.values))\n",
    "print(len(data_valid.label.values)-sum(data_valid.label.values), sum(data_valid.label.values))"
   ]
  },
  {
   "cell_type": "code",
   "execution_count": 5,
   "metadata": {},
   "outputs": [],
   "source": [
    "# pd.set_option('display.max_rows', 2000)\n",
    "# pd.set_option('display.max_columns', 20)\n",
    "# data_train[data_train.label==1]"
   ]
  },
  {
   "cell_type": "code",
   "execution_count": 6,
   "metadata": {},
   "outputs": [],
   "source": [
    "save_path = \"/ssd8/chih/project/yadong/predict_baseline_version02_ACM/dataset/PeriHD_pickle_save_05-17\"\n",
    "save_type_folder = ['USD_sample2693_only-merge-sequence_contextsplit']\n",
    "for save_type_folder_ls in ['USD_sample2693_only-merge-sequence_contextsplit']:\n",
    "    for dp in ['','train','valid','test']:\n",
    "        os.makedirs(os.path.join(save_path, save_type_folder_ls, dp), exist_ok=True)"
   ]
  },
  {
   "cell_type": "code",
   "execution_count": 7,
   "metadata": {},
   "outputs": [
    {
     "name": "stderr",
     "output_type": "stream",
     "text": [
      "2023-05-17 13:16:23.580602: I tensorflow/core/common_runtime/gpu/gpu_device.cc:1613] Created device /job:localhost/replica:0/task:0/device:GPU:0 with 21639 MB memory:  -> device: 0, name: NVIDIA GeForce RTX 3090, pci bus id: 0000:1d:00.0, compute capability: 8.6\n",
      "2023-05-17 13:16:23.879555: I tensorflow/compiler/mlir/mlir_graph_optimization_pass.cc:357] MLIR V1 optimization pass is not enabled\n",
      "2023-05-17 13:16:43.498659: I tensorflow/compiler/xla/stream_executor/cuda/cuda_blas.cc:630] TensorFloat-32 will be used for the matrix multiplication. This will only be logged once.\n"
     ]
    }
   ],
   "source": [
    "USD_training_embeddings=[]\n",
    "with tf.Session() as session:\n",
    "    session.run([tf.global_variables_initializer(), \n",
    "                 tf.tables_initializer()])\n",
    "    run_data = data_train['處置其他結束（描述）'].astype(str).to_list()\n",
    "    USD_training_embeddings = session.run(USE_model(run_data))\n",
    "save_folder = save_type_folder[0]\n",
    "# save_folder = \"USD_sample2693_contextsplit\"\n",
    "for idx, (embed_, text_, label_) in enumerate(zip(USD_training_embeddings, data_train['處置其他結束（描述）'].to_list(),data_train['label'].to_list())):\n",
    "    with open(os.path.join(save_path, save_folder, \"train\", \"train_USD_internal_pk_data_{}_fixed_re-marked_merge.pkl\".format(idx)), \"wb\") as f:\n",
    "        save_dict = {\"embed\": embed_, \"text\": text_, \"label\": label_}\n",
    "        pickle.dump(save_dict, f)"
   ]
  },
  {
   "cell_type": "code",
   "execution_count": 8,
   "metadata": {},
   "outputs": [
    {
     "name": "stderr",
     "output_type": "stream",
     "text": [
      "2023-05-17 13:17:08.526196: I tensorflow/core/common_runtime/gpu/gpu_device.cc:1613] Created device /job:localhost/replica:0/task:0/device:GPU:0 with 21639 MB memory:  -> device: 0, name: NVIDIA GeForce RTX 3090, pci bus id: 0000:1d:00.0, compute capability: 8.6\n"
     ]
    }
   ],
   "source": [
    "with tf.Session() as session:\n",
    "    session.run([tf.global_variables_initializer(), \n",
    "                 tf.tables_initializer()])\n",
    "    run_data = data_valid['處置其他結束（描述）'].astype(str).to_list()\n",
    "    USD_validation_embeddings = session.run(USE_model(run_data))\n",
    "save_folder = save_type_folder[0]\n",
    "# save_folder = \"USD_sample2693_contextsplit\"\n",
    "for idx, (embed_, text_, label_) in enumerate(zip(USD_validation_embeddings, data_valid['處置其他結束（描述）'].to_list(),data_valid['label'].to_list())):\n",
    "    with open(os.path.join(save_path, save_folder, \"valid\", \"valid_USD_internal_pk_data_{}_fixed_re-marked_merge.pkl\".format(idx)), \"wb\") as f:\n",
    "        save_dict = {\"embed\": embed_, \"text\": text_, \"label\": label_}\n",
    "        pickle.dump(save_dict, f)"
   ]
  },
  {
   "cell_type": "code",
   "execution_count": 7,
   "metadata": {},
   "outputs": [],
   "source": [
    "# save_path = \"/ssd8/chih/project/yadong/predict_baseline_version01/dataset/PeriHD_pickle_save\"\n",
    "# save_type_folder = ['USD_sample2693_only-merge-sequence_fullcontext']\n",
    "# for save_type_folder_ls in save_type_folder:\n",
    "#     for dp in ['','train','test']:\n",
    "#         os.makedirs(os.path.join(save_path, save_type_folder_ls, dp), exist_ok=True)"
   ]
  },
  {
   "cell_type": "code",
   "execution_count": 8,
   "metadata": {},
   "outputs": [
    {
     "name": "stdout",
     "output_type": "stream",
     "text": [
      "(2693,)\n",
      "(1423, 3)\n"
     ]
    }
   ],
   "source": [
    "# data_train = pd.read_csv(\"./dataset/PeriHD_Sample-2693_Sentence-merge_internal-train.csv\")\n",
    "# data_train['label'] = [1 if i=='Y' else 0 for i in data_train.Truth.values.tolist()]\n",
    "# data_valid = pd.read_csv(\"./dataset/PeriHD_Sample-2693_Sentence-merge_internal-test.csv\")\n",
    "# data_valid['label'] = [1 if i=='Y' else 0 for i in data_valid.Truth.values.tolist()]\n",
    "# merge_df = pd.concat([data_train, data_valid])\n",
    "# concat1 = pd.read_csv('/ssd8/chih/project/yadong/process_csv/PeriHD_not_markdata-sampe2000.csv')['處置其他結束（描述）']\n",
    "# concat2 = pd.read_csv('/ssd8/chih/project/yadong/mark_csv/train_peri_mark_sample_693_JYY.csv')['處置其他結束（描述）']\n",
    "# concat_df = pd.concat([concat1, concat2])\n",
    "# positive_df = merge_df[merge_df['label']==1]\n",
    "# print(concat_df.shape)\n",
    "# print(positive_df.shape)"
   ]
  },
  {
   "cell_type": "code",
   "execution_count": null,
   "metadata": {},
   "outputs": [],
   "source": [
    "# ans_list = []\n",
    "# for full_text in concat_df.tolist():\n",
    "#     ans_temp = 0\n",
    "#     text = str(full_text).replace('\\t','').replace('\\n','').replace('。','，').replace(',','，')\n",
    "#     # text_sp = np.array([i for i in text.split('，') if len(i)>0])\n",
    "#     for pos_text in positive_df['處置其他結束（描述）'].tolist():\n",
    "#         if str(pos_text) in text:\n",
    "#             # print(text)\n",
    "#             # print([str(pos_text)])\n",
    "#             # break\n",
    "#             ans_temp+=1\n",
    "#             break\n",
    "#     # break\n",
    "#     if ans_temp!=0:\n",
    "#         ans_list.append(1)\n",
    "#     else:\n",
    "#         ans_list.append(0)"
   ]
  },
  {
   "cell_type": "code",
   "execution_count": 8,
   "metadata": {},
   "outputs": [],
   "source": [
    "# save_folder = save_type_folder[0]"
   ]
  },
  {
   "cell_type": "code",
   "execution_count": null,
   "metadata": {},
   "outputs": [],
   "source": [
    "# save_folder = save_type_folder[0]\n",
    "# for idx, (text, ans) in enumerate(zip(concat_df.tolist(), ans_list)):\n",
    "#     text = str(text).replace('\\t','').replace('\\n','').replace('。','，').replace(',','，')\n",
    "#     text_sp = np.array([i for i in text.split('，') if len(i)>0])\n",
    "#     context_stack = []\n",
    "#     for i in range(len(text_sp)-1):\n",
    "#         context_stack.append(text_sp[i]+'，'+text_sp[i+1])\n",
    "#     if len(text_sp)==1:\n",
    "#         context_stack.append(text_sp[0])\n",
    "#     with tf.Session() as session:\n",
    "#         session.run([tf.global_variables_initializer(), \n",
    "#                     tf.tables_initializer()])\n",
    "#         temp_embed = session.run(USE_model(context_stack))\n",
    "#     with open(os.path.join(save_path, save_folder, \"train\", \"train_USD_external_pk_data_{}.pkl\".format(idx)), \"wb\") as f:\n",
    "#         save_dict = {\"full_embed\": temp_embed, \"full_text\": context_stack, \"label\": ans}\n",
    "#         pickle.dump(save_dict, f)\n",
    "#     # break"
   ]
  },
  {
   "cell_type": "code",
   "execution_count": 12,
   "metadata": {},
   "outputs": [
    {
     "name": "stderr",
     "output_type": "stream",
     "text": [
      "2023-04-04 10:13:15.156678: I tensorflow/core/common_runtime/gpu/gpu_device.cc:1613] Created device /job:localhost/replica:0/task:0/device:GPU:0 with 21894 MB memory:  -> device: 6, name: NVIDIA GeForce RTX 3090, pci bus id: 0000:23:00.0, compute capability: 8.6\n",
      "2023-04-04 10:13:22.884803: I tensorflow/core/common_runtime/gpu/gpu_device.cc:1613] Created device /job:localhost/replica:0/task:0/device:GPU:0 with 21894 MB memory:  -> device: 6, name: NVIDIA GeForce RTX 3090, pci bus id: 0000:23:00.0, compute capability: 8.6\n",
      "2023-04-04 10:13:30.951859: I tensorflow/core/common_runtime/gpu/gpu_device.cc:1613] Created device /job:localhost/replica:0/task:0/device:GPU:0 with 21894 MB memory:  -> device: 6, name: NVIDIA GeForce RTX 3090, pci bus id: 0000:23:00.0, compute capability: 8.6\n",
      "2023-04-04 10:13:39.147329: I tensorflow/core/common_runtime/gpu/gpu_device.cc:1613] Created device /job:localhost/replica:0/task:0/device:GPU:0 with 21894 MB memory:  -> device: 6, name: NVIDIA GeForce RTX 3090, pci bus id: 0000:23:00.0, compute capability: 8.6\n",
      "2023-04-04 10:13:47.162044: I tensorflow/core/common_runtime/gpu/gpu_device.cc:1613] Created device /job:localhost/replica:0/task:0/device:GPU:0 with 21894 MB memory:  -> device: 6, name: NVIDIA GeForce RTX 3090, pci bus id: 0000:23:00.0, compute capability: 8.6\n",
      "2023-04-04 10:13:55.290335: I tensorflow/core/common_runtime/gpu/gpu_device.cc:1613] Created device /job:localhost/replica:0/task:0/device:GPU:0 with 21894 MB memory:  -> device: 6, name: NVIDIA GeForce RTX 3090, pci bus id: 0000:23:00.0, compute capability: 8.6\n",
      "2023-04-04 10:14:03.408684: I tensorflow/core/common_runtime/gpu/gpu_device.cc:1613] Created device /job:localhost/replica:0/task:0/device:GPU:0 with 21894 MB memory:  -> device: 6, name: NVIDIA GeForce RTX 3090, pci bus id: 0000:23:00.0, compute capability: 8.6\n",
      "2023-04-04 10:14:11.505628: I tensorflow/core/common_runtime/gpu/gpu_device.cc:1613] Created device /job:localhost/replica:0/task:0/device:GPU:0 with 21894 MB memory:  -> device: 6, name: NVIDIA GeForce RTX 3090, pci bus id: 0000:23:00.0, compute capability: 8.6\n",
      "2023-04-04 10:14:19.607704: I tensorflow/core/common_runtime/gpu/gpu_device.cc:1613] Created device /job:localhost/replica:0/task:0/device:GPU:0 with 21894 MB memory:  -> device: 6, name: NVIDIA GeForce RTX 3090, pci bus id: 0000:23:00.0, compute capability: 8.6\n",
      "2023-04-04 10:14:27.749543: I tensorflow/core/common_runtime/gpu/gpu_device.cc:1613] Created device /job:localhost/replica:0/task:0/device:GPU:0 with 21894 MB memory:  -> device: 6, name: NVIDIA GeForce RTX 3090, pci bus id: 0000:23:00.0, compute capability: 8.6\n",
      "2023-04-04 10:14:35.885312: I tensorflow/core/common_runtime/gpu/gpu_device.cc:1613] Created device /job:localhost/replica:0/task:0/device:GPU:0 with 21894 MB memory:  -> device: 6, name: NVIDIA GeForce RTX 3090, pci bus id: 0000:23:00.0, compute capability: 8.6\n",
      "2023-04-04 10:14:44.085090: I tensorflow/core/common_runtime/gpu/gpu_device.cc:1613] Created device /job:localhost/replica:0/task:0/device:GPU:0 with 21894 MB memory:  -> device: 6, name: NVIDIA GeForce RTX 3090, pci bus id: 0000:23:00.0, compute capability: 8.6\n",
      "2023-04-04 10:14:52.299097: I tensorflow/core/common_runtime/gpu/gpu_device.cc:1613] Created device /job:localhost/replica:0/task:0/device:GPU:0 with 21894 MB memory:  -> device: 6, name: NVIDIA GeForce RTX 3090, pci bus id: 0000:23:00.0, compute capability: 8.6\n",
      "2023-04-04 10:15:00.506520: I tensorflow/core/common_runtime/gpu/gpu_device.cc:1613] Created device /job:localhost/replica:0/task:0/device:GPU:0 with 21894 MB memory:  -> device: 6, name: NVIDIA GeForce RTX 3090, pci bus id: 0000:23:00.0, compute capability: 8.6\n",
      "2023-04-04 10:15:08.859165: I tensorflow/core/common_runtime/gpu/gpu_device.cc:1613] Created device /job:localhost/replica:0/task:0/device:GPU:0 with 21894 MB memory:  -> device: 6, name: NVIDIA GeForce RTX 3090, pci bus id: 0000:23:00.0, compute capability: 8.6\n",
      "2023-04-04 10:15:17.253440: I tensorflow/core/common_runtime/gpu/gpu_device.cc:1613] Created device /job:localhost/replica:0/task:0/device:GPU:0 with 21894 MB memory:  -> device: 6, name: NVIDIA GeForce RTX 3090, pci bus id: 0000:23:00.0, compute capability: 8.6\n",
      "2023-04-04 10:15:25.762100: I tensorflow/core/common_runtime/gpu/gpu_device.cc:1613] Created device /job:localhost/replica:0/task:0/device:GPU:0 with 21894 MB memory:  -> device: 6, name: NVIDIA GeForce RTX 3090, pci bus id: 0000:23:00.0, compute capability: 8.6\n",
      "2023-04-04 10:15:34.370720: I tensorflow/core/common_runtime/gpu/gpu_device.cc:1613] Created device /job:localhost/replica:0/task:0/device:GPU:0 with 21894 MB memory:  -> device: 6, name: NVIDIA GeForce RTX 3090, pci bus id: 0000:23:00.0, compute capability: 8.6\n",
      "2023-04-04 10:15:42.816349: I tensorflow/core/common_runtime/gpu/gpu_device.cc:1613] Created device /job:localhost/replica:0/task:0/device:GPU:0 with 21894 MB memory:  -> device: 6, name: NVIDIA GeForce RTX 3090, pci bus id: 0000:23:00.0, compute capability: 8.6\n",
      "2023-04-04 10:15:51.521742: I tensorflow/core/common_runtime/gpu/gpu_device.cc:1613] Created device /job:localhost/replica:0/task:0/device:GPU:0 with 21894 MB memory:  -> device: 6, name: NVIDIA GeForce RTX 3090, pci bus id: 0000:23:00.0, compute capability: 8.6\n",
      "2023-04-04 10:16:00.197774: I tensorflow/core/common_runtime/gpu/gpu_device.cc:1613] Created device /job:localhost/replica:0/task:0/device:GPU:0 with 21894 MB memory:  -> device: 6, name: NVIDIA GeForce RTX 3090, pci bus id: 0000:23:00.0, compute capability: 8.6\n",
      "2023-04-04 10:16:08.790143: I tensorflow/core/common_runtime/gpu/gpu_device.cc:1613] Created device /job:localhost/replica:0/task:0/device:GPU:0 with 21894 MB memory:  -> device: 6, name: NVIDIA GeForce RTX 3090, pci bus id: 0000:23:00.0, compute capability: 8.6\n",
      "2023-04-04 10:16:17.464794: I tensorflow/core/common_runtime/gpu/gpu_device.cc:1613] Created device /job:localhost/replica:0/task:0/device:GPU:0 with 21894 MB memory:  -> device: 6, name: NVIDIA GeForce RTX 3090, pci bus id: 0000:23:00.0, compute capability: 8.6\n",
      "2023-04-04 10:16:26.262032: I tensorflow/core/common_runtime/gpu/gpu_device.cc:1613] Created device /job:localhost/replica:0/task:0/device:GPU:0 with 21894 MB memory:  -> device: 6, name: NVIDIA GeForce RTX 3090, pci bus id: 0000:23:00.0, compute capability: 8.6\n",
      "2023-04-04 10:16:35.101889: I tensorflow/core/common_runtime/gpu/gpu_device.cc:1613] Created device /job:localhost/replica:0/task:0/device:GPU:0 with 21894 MB memory:  -> device: 6, name: NVIDIA GeForce RTX 3090, pci bus id: 0000:23:00.0, compute capability: 8.6\n",
      "2023-04-04 10:16:43.922010: I tensorflow/core/common_runtime/gpu/gpu_device.cc:1613] Created device /job:localhost/replica:0/task:0/device:GPU:0 with 21894 MB memory:  -> device: 6, name: NVIDIA GeForce RTX 3090, pci bus id: 0000:23:00.0, compute capability: 8.6\n",
      "2023-04-04 10:16:52.748307: I tensorflow/core/common_runtime/gpu/gpu_device.cc:1613] Created device /job:localhost/replica:0/task:0/device:GPU:0 with 21894 MB memory:  -> device: 6, name: NVIDIA GeForce RTX 3090, pci bus id: 0000:23:00.0, compute capability: 8.6\n",
      "2023-04-04 10:17:01.627488: I tensorflow/core/common_runtime/gpu/gpu_device.cc:1613] Created device /job:localhost/replica:0/task:0/device:GPU:0 with 21894 MB memory:  -> device: 6, name: NVIDIA GeForce RTX 3090, pci bus id: 0000:23:00.0, compute capability: 8.6\n",
      "2023-04-04 10:17:10.601385: I tensorflow/core/common_runtime/gpu/gpu_device.cc:1613] Created device /job:localhost/replica:0/task:0/device:GPU:0 with 21894 MB memory:  -> device: 6, name: NVIDIA GeForce RTX 3090, pci bus id: 0000:23:00.0, compute capability: 8.6\n",
      "2023-04-04 10:17:19.579134: I tensorflow/core/common_runtime/gpu/gpu_device.cc:1613] Created device /job:localhost/replica:0/task:0/device:GPU:0 with 21894 MB memory:  -> device: 6, name: NVIDIA GeForce RTX 3090, pci bus id: 0000:23:00.0, compute capability: 8.6\n",
      "2023-04-04 10:17:28.662170: I tensorflow/core/common_runtime/gpu/gpu_device.cc:1613] Created device /job:localhost/replica:0/task:0/device:GPU:0 with 21894 MB memory:  -> device: 6, name: NVIDIA GeForce RTX 3090, pci bus id: 0000:23:00.0, compute capability: 8.6\n",
      "2023-04-04 10:17:37.884566: I tensorflow/core/common_runtime/gpu/gpu_device.cc:1613] Created device /job:localhost/replica:0/task:0/device:GPU:0 with 21894 MB memory:  -> device: 6, name: NVIDIA GeForce RTX 3090, pci bus id: 0000:23:00.0, compute capability: 8.6\n",
      "2023-04-04 10:17:47.048029: I tensorflow/core/common_runtime/gpu/gpu_device.cc:1613] Created device /job:localhost/replica:0/task:0/device:GPU:0 with 21894 MB memory:  -> device: 6, name: NVIDIA GeForce RTX 3090, pci bus id: 0000:23:00.0, compute capability: 8.6\n",
      "2023-04-04 10:17:56.158799: I tensorflow/core/common_runtime/gpu/gpu_device.cc:1613] Created device /job:localhost/replica:0/task:0/device:GPU:0 with 21894 MB memory:  -> device: 6, name: NVIDIA GeForce RTX 3090, pci bus id: 0000:23:00.0, compute capability: 8.6\n",
      "2023-04-04 10:18:05.324816: I tensorflow/core/common_runtime/gpu/gpu_device.cc:1613] Created device /job:localhost/replica:0/task:0/device:GPU:0 with 21894 MB memory:  -> device: 6, name: NVIDIA GeForce RTX 3090, pci bus id: 0000:23:00.0, compute capability: 8.6\n",
      "2023-04-04 10:18:14.577207: I tensorflow/core/common_runtime/gpu/gpu_device.cc:1613] Created device /job:localhost/replica:0/task:0/device:GPU:0 with 21894 MB memory:  -> device: 6, name: NVIDIA GeForce RTX 3090, pci bus id: 0000:23:00.0, compute capability: 8.6\n",
      "2023-04-04 10:18:23.872910: I tensorflow/core/common_runtime/gpu/gpu_device.cc:1613] Created device /job:localhost/replica:0/task:0/device:GPU:0 with 21894 MB memory:  -> device: 6, name: NVIDIA GeForce RTX 3090, pci bus id: 0000:23:00.0, compute capability: 8.6\n",
      "2023-04-04 10:18:33.144104: I tensorflow/core/common_runtime/gpu/gpu_device.cc:1613] Created device /job:localhost/replica:0/task:0/device:GPU:0 with 21894 MB memory:  -> device: 6, name: NVIDIA GeForce RTX 3090, pci bus id: 0000:23:00.0, compute capability: 8.6\n",
      "2023-04-04 10:18:42.434069: I tensorflow/core/common_runtime/gpu/gpu_device.cc:1613] Created device /job:localhost/replica:0/task:0/device:GPU:0 with 21894 MB memory:  -> device: 6, name: NVIDIA GeForce RTX 3090, pci bus id: 0000:23:00.0, compute capability: 8.6\n",
      "2023-04-04 10:18:51.793063: I tensorflow/core/common_runtime/gpu/gpu_device.cc:1613] Created device /job:localhost/replica:0/task:0/device:GPU:0 with 21894 MB memory:  -> device: 6, name: NVIDIA GeForce RTX 3090, pci bus id: 0000:23:00.0, compute capability: 8.6\n",
      "2023-04-04 10:19:01.221815: I tensorflow/core/common_runtime/gpu/gpu_device.cc:1613] Created device /job:localhost/replica:0/task:0/device:GPU:0 with 21894 MB memory:  -> device: 6, name: NVIDIA GeForce RTX 3090, pci bus id: 0000:23:00.0, compute capability: 8.6\n",
      "2023-04-04 10:19:10.674387: I tensorflow/core/common_runtime/gpu/gpu_device.cc:1613] Created device /job:localhost/replica:0/task:0/device:GPU:0 with 21894 MB memory:  -> device: 6, name: NVIDIA GeForce RTX 3090, pci bus id: 0000:23:00.0, compute capability: 8.6\n",
      "2023-04-04 10:19:20.173983: I tensorflow/core/common_runtime/gpu/gpu_device.cc:1613] Created device /job:localhost/replica:0/task:0/device:GPU:0 with 21894 MB memory:  -> device: 6, name: NVIDIA GeForce RTX 3090, pci bus id: 0000:23:00.0, compute capability: 8.6\n",
      "2023-04-04 10:19:29.687376: I tensorflow/core/common_runtime/gpu/gpu_device.cc:1613] Created device /job:localhost/replica:0/task:0/device:GPU:0 with 21894 MB memory:  -> device: 6, name: NVIDIA GeForce RTX 3090, pci bus id: 0000:23:00.0, compute capability: 8.6\n",
      "2023-04-04 10:19:39.212444: I tensorflow/core/common_runtime/gpu/gpu_device.cc:1613] Created device /job:localhost/replica:0/task:0/device:GPU:0 with 21894 MB memory:  -> device: 6, name: NVIDIA GeForce RTX 3090, pci bus id: 0000:23:00.0, compute capability: 8.6\n",
      "2023-04-04 10:19:48.799306: I tensorflow/core/common_runtime/gpu/gpu_device.cc:1613] Created device /job:localhost/replica:0/task:0/device:GPU:0 with 21894 MB memory:  -> device: 6, name: NVIDIA GeForce RTX 3090, pci bus id: 0000:23:00.0, compute capability: 8.6\n",
      "2023-04-04 10:19:58.570899: I tensorflow/core/common_runtime/gpu/gpu_device.cc:1613] Created device /job:localhost/replica:0/task:0/device:GPU:0 with 21894 MB memory:  -> device: 6, name: NVIDIA GeForce RTX 3090, pci bus id: 0000:23:00.0, compute capability: 8.6\n",
      "2023-04-04 10:20:08.245861: I tensorflow/core/common_runtime/gpu/gpu_device.cc:1613] Created device /job:localhost/replica:0/task:0/device:GPU:0 with 21894 MB memory:  -> device: 6, name: NVIDIA GeForce RTX 3090, pci bus id: 0000:23:00.0, compute capability: 8.6\n",
      "2023-04-04 10:20:17.884939: I tensorflow/core/common_runtime/gpu/gpu_device.cc:1613] Created device /job:localhost/replica:0/task:0/device:GPU:0 with 21894 MB memory:  -> device: 6, name: NVIDIA GeForce RTX 3090, pci bus id: 0000:23:00.0, compute capability: 8.6\n",
      "2023-04-04 10:20:27.570107: I tensorflow/core/common_runtime/gpu/gpu_device.cc:1613] Created device /job:localhost/replica:0/task:0/device:GPU:0 with 21894 MB memory:  -> device: 6, name: NVIDIA GeForce RTX 3090, pci bus id: 0000:23:00.0, compute capability: 8.6\n",
      "2023-04-04 10:20:37.304451: I tensorflow/core/common_runtime/gpu/gpu_device.cc:1613] Created device /job:localhost/replica:0/task:0/device:GPU:0 with 21894 MB memory:  -> device: 6, name: NVIDIA GeForce RTX 3090, pci bus id: 0000:23:00.0, compute capability: 8.6\n",
      "2023-04-04 10:20:47.139013: I tensorflow/core/common_runtime/gpu/gpu_device.cc:1613] Created device /job:localhost/replica:0/task:0/device:GPU:0 with 21894 MB memory:  -> device: 6, name: NVIDIA GeForce RTX 3090, pci bus id: 0000:23:00.0, compute capability: 8.6\n",
      "2023-04-04 10:20:56.889427: I tensorflow/core/common_runtime/gpu/gpu_device.cc:1613] Created device /job:localhost/replica:0/task:0/device:GPU:0 with 21894 MB memory:  -> device: 6, name: NVIDIA GeForce RTX 3090, pci bus id: 0000:23:00.0, compute capability: 8.6\n",
      "2023-04-04 10:21:06.916752: I tensorflow/core/common_runtime/gpu/gpu_device.cc:1613] Created device /job:localhost/replica:0/task:0/device:GPU:0 with 21894 MB memory:  -> device: 6, name: NVIDIA GeForce RTX 3090, pci bus id: 0000:23:00.0, compute capability: 8.6\n",
      "2023-04-04 10:21:16.754429: I tensorflow/core/common_runtime/gpu/gpu_device.cc:1613] Created device /job:localhost/replica:0/task:0/device:GPU:0 with 21894 MB memory:  -> device: 6, name: NVIDIA GeForce RTX 3090, pci bus id: 0000:23:00.0, compute capability: 8.6\n",
      "2023-04-04 10:21:26.758689: I tensorflow/core/common_runtime/gpu/gpu_device.cc:1613] Created device /job:localhost/replica:0/task:0/device:GPU:0 with 21894 MB memory:  -> device: 6, name: NVIDIA GeForce RTX 3090, pci bus id: 0000:23:00.0, compute capability: 8.6\n",
      "2023-04-04 10:21:36.750459: I tensorflow/core/common_runtime/gpu/gpu_device.cc:1613] Created device /job:localhost/replica:0/task:0/device:GPU:0 with 21894 MB memory:  -> device: 6, name: NVIDIA GeForce RTX 3090, pci bus id: 0000:23:00.0, compute capability: 8.6\n",
      "2023-04-04 10:21:46.677607: I tensorflow/core/common_runtime/gpu/gpu_device.cc:1613] Created device /job:localhost/replica:0/task:0/device:GPU:0 with 21894 MB memory:  -> device: 6, name: NVIDIA GeForce RTX 3090, pci bus id: 0000:23:00.0, compute capability: 8.6\n",
      "2023-04-04 10:21:56.713822: I tensorflow/core/common_runtime/gpu/gpu_device.cc:1613] Created device /job:localhost/replica:0/task:0/device:GPU:0 with 21894 MB memory:  -> device: 6, name: NVIDIA GeForce RTX 3090, pci bus id: 0000:23:00.0, compute capability: 8.6\n",
      "2023-04-04 10:22:06.804732: I tensorflow/core/common_runtime/gpu/gpu_device.cc:1613] Created device /job:localhost/replica:0/task:0/device:GPU:0 with 21894 MB memory:  -> device: 6, name: NVIDIA GeForce RTX 3090, pci bus id: 0000:23:00.0, compute capability: 8.6\n",
      "2023-04-04 10:22:16.866823: I tensorflow/core/common_runtime/gpu/gpu_device.cc:1613] Created device /job:localhost/replica:0/task:0/device:GPU:0 with 21894 MB memory:  -> device: 6, name: NVIDIA GeForce RTX 3090, pci bus id: 0000:23:00.0, compute capability: 8.6\n",
      "2023-04-04 10:22:26.902847: I tensorflow/core/common_runtime/gpu/gpu_device.cc:1613] Created device /job:localhost/replica:0/task:0/device:GPU:0 with 21894 MB memory:  -> device: 6, name: NVIDIA GeForce RTX 3090, pci bus id: 0000:23:00.0, compute capability: 8.6\n",
      "2023-04-04 10:22:36.942288: I tensorflow/core/common_runtime/gpu/gpu_device.cc:1613] Created device /job:localhost/replica:0/task:0/device:GPU:0 with 21894 MB memory:  -> device: 6, name: NVIDIA GeForce RTX 3090, pci bus id: 0000:23:00.0, compute capability: 8.6\n",
      "2023-04-04 10:22:47.101719: I tensorflow/core/common_runtime/gpu/gpu_device.cc:1613] Created device /job:localhost/replica:0/task:0/device:GPU:0 with 21894 MB memory:  -> device: 6, name: NVIDIA GeForce RTX 3090, pci bus id: 0000:23:00.0, compute capability: 8.6\n",
      "2023-04-04 10:22:57.242906: I tensorflow/core/common_runtime/gpu/gpu_device.cc:1613] Created device /job:localhost/replica:0/task:0/device:GPU:0 with 21894 MB memory:  -> device: 6, name: NVIDIA GeForce RTX 3090, pci bus id: 0000:23:00.0, compute capability: 8.6\n",
      "2023-04-04 10:23:07.492867: I tensorflow/core/common_runtime/gpu/gpu_device.cc:1613] Created device /job:localhost/replica:0/task:0/device:GPU:0 with 21894 MB memory:  -> device: 6, name: NVIDIA GeForce RTX 3090, pci bus id: 0000:23:00.0, compute capability: 8.6\n",
      "2023-04-04 10:23:17.747072: I tensorflow/core/common_runtime/gpu/gpu_device.cc:1613] Created device /job:localhost/replica:0/task:0/device:GPU:0 with 21894 MB memory:  -> device: 6, name: NVIDIA GeForce RTX 3090, pci bus id: 0000:23:00.0, compute capability: 8.6\n",
      "2023-04-04 10:23:27.977555: I tensorflow/core/common_runtime/gpu/gpu_device.cc:1613] Created device /job:localhost/replica:0/task:0/device:GPU:0 with 21894 MB memory:  -> device: 6, name: NVIDIA GeForce RTX 3090, pci bus id: 0000:23:00.0, compute capability: 8.6\n",
      "2023-04-04 10:23:38.246819: I tensorflow/core/common_runtime/gpu/gpu_device.cc:1613] Created device /job:localhost/replica:0/task:0/device:GPU:0 with 21894 MB memory:  -> device: 6, name: NVIDIA GeForce RTX 3090, pci bus id: 0000:23:00.0, compute capability: 8.6\n",
      "2023-04-04 10:23:48.627263: I tensorflow/core/common_runtime/gpu/gpu_device.cc:1613] Created device /job:localhost/replica:0/task:0/device:GPU:0 with 21894 MB memory:  -> device: 6, name: NVIDIA GeForce RTX 3090, pci bus id: 0000:23:00.0, compute capability: 8.6\n",
      "2023-04-04 10:23:59.017151: I tensorflow/core/common_runtime/gpu/gpu_device.cc:1613] Created device /job:localhost/replica:0/task:0/device:GPU:0 with 21894 MB memory:  -> device: 6, name: NVIDIA GeForce RTX 3090, pci bus id: 0000:23:00.0, compute capability: 8.6\n",
      "2023-04-04 10:24:09.413959: I tensorflow/core/common_runtime/gpu/gpu_device.cc:1613] Created device /job:localhost/replica:0/task:0/device:GPU:0 with 21894 MB memory:  -> device: 6, name: NVIDIA GeForce RTX 3090, pci bus id: 0000:23:00.0, compute capability: 8.6\n",
      "2023-04-04 10:24:19.757805: I tensorflow/core/common_runtime/gpu/gpu_device.cc:1613] Created device /job:localhost/replica:0/task:0/device:GPU:0 with 21894 MB memory:  -> device: 6, name: NVIDIA GeForce RTX 3090, pci bus id: 0000:23:00.0, compute capability: 8.6\n",
      "2023-04-04 10:24:30.189718: I tensorflow/core/common_runtime/gpu/gpu_device.cc:1613] Created device /job:localhost/replica:0/task:0/device:GPU:0 with 21894 MB memory:  -> device: 6, name: NVIDIA GeForce RTX 3090, pci bus id: 0000:23:00.0, compute capability: 8.6\n",
      "2023-04-04 10:24:40.713072: I tensorflow/core/common_runtime/gpu/gpu_device.cc:1613] Created device /job:localhost/replica:0/task:0/device:GPU:0 with 21894 MB memory:  -> device: 6, name: NVIDIA GeForce RTX 3090, pci bus id: 0000:23:00.0, compute capability: 8.6\n",
      "2023-04-04 10:24:51.167716: I tensorflow/core/common_runtime/gpu/gpu_device.cc:1613] Created device /job:localhost/replica:0/task:0/device:GPU:0 with 21894 MB memory:  -> device: 6, name: NVIDIA GeForce RTX 3090, pci bus id: 0000:23:00.0, compute capability: 8.6\n",
      "2023-04-04 10:25:01.751713: I tensorflow/core/common_runtime/gpu/gpu_device.cc:1613] Created device /job:localhost/replica:0/task:0/device:GPU:0 with 21894 MB memory:  -> device: 6, name: NVIDIA GeForce RTX 3090, pci bus id: 0000:23:00.0, compute capability: 8.6\n",
      "2023-04-04 10:25:12.251484: I tensorflow/core/common_runtime/gpu/gpu_device.cc:1613] Created device /job:localhost/replica:0/task:0/device:GPU:0 with 21894 MB memory:  -> device: 6, name: NVIDIA GeForce RTX 3090, pci bus id: 0000:23:00.0, compute capability: 8.6\n",
      "2023-04-04 10:25:22.789717: I tensorflow/core/common_runtime/gpu/gpu_device.cc:1613] Created device /job:localhost/replica:0/task:0/device:GPU:0 with 21894 MB memory:  -> device: 6, name: NVIDIA GeForce RTX 3090, pci bus id: 0000:23:00.0, compute capability: 8.6\n",
      "2023-04-04 10:25:33.405672: I tensorflow/core/common_runtime/gpu/gpu_device.cc:1613] Created device /job:localhost/replica:0/task:0/device:GPU:0 with 21894 MB memory:  -> device: 6, name: NVIDIA GeForce RTX 3090, pci bus id: 0000:23:00.0, compute capability: 8.6\n",
      "2023-04-04 10:25:44.181612: I tensorflow/core/common_runtime/gpu/gpu_device.cc:1613] Created device /job:localhost/replica:0/task:0/device:GPU:0 with 21894 MB memory:  -> device: 6, name: NVIDIA GeForce RTX 3090, pci bus id: 0000:23:00.0, compute capability: 8.6\n",
      "2023-04-04 10:25:54.835005: I tensorflow/core/common_runtime/gpu/gpu_device.cc:1613] Created device /job:localhost/replica:0/task:0/device:GPU:0 with 21894 MB memory:  -> device: 6, name: NVIDIA GeForce RTX 3090, pci bus id: 0000:23:00.0, compute capability: 8.6\n",
      "2023-04-04 10:26:05.511919: I tensorflow/core/common_runtime/gpu/gpu_device.cc:1613] Created device /job:localhost/replica:0/task:0/device:GPU:0 with 21894 MB memory:  -> device: 6, name: NVIDIA GeForce RTX 3090, pci bus id: 0000:23:00.0, compute capability: 8.6\n",
      "2023-04-04 10:26:16.273328: I tensorflow/core/common_runtime/gpu/gpu_device.cc:1613] Created device /job:localhost/replica:0/task:0/device:GPU:0 with 21894 MB memory:  -> device: 6, name: NVIDIA GeForce RTX 3090, pci bus id: 0000:23:00.0, compute capability: 8.6\n",
      "2023-04-04 10:26:27.070749: I tensorflow/core/common_runtime/gpu/gpu_device.cc:1613] Created device /job:localhost/replica:0/task:0/device:GPU:0 with 21894 MB memory:  -> device: 6, name: NVIDIA GeForce RTX 3090, pci bus id: 0000:23:00.0, compute capability: 8.6\n",
      "2023-04-04 10:26:37.818798: I tensorflow/core/common_runtime/gpu/gpu_device.cc:1613] Created device /job:localhost/replica:0/task:0/device:GPU:0 with 21894 MB memory:  -> device: 6, name: NVIDIA GeForce RTX 3090, pci bus id: 0000:23:00.0, compute capability: 8.6\n",
      "2023-04-04 10:26:48.614378: I tensorflow/core/common_runtime/gpu/gpu_device.cc:1613] Created device /job:localhost/replica:0/task:0/device:GPU:0 with 21894 MB memory:  -> device: 6, name: NVIDIA GeForce RTX 3090, pci bus id: 0000:23:00.0, compute capability: 8.6\n",
      "2023-04-04 10:26:59.405468: I tensorflow/core/common_runtime/gpu/gpu_device.cc:1613] Created device /job:localhost/replica:0/task:0/device:GPU:0 with 21894 MB memory:  -> device: 6, name: NVIDIA GeForce RTX 3090, pci bus id: 0000:23:00.0, compute capability: 8.6\n",
      "2023-04-04 10:27:10.350461: I tensorflow/core/common_runtime/gpu/gpu_device.cc:1613] Created device /job:localhost/replica:0/task:0/device:GPU:0 with 21894 MB memory:  -> device: 6, name: NVIDIA GeForce RTX 3090, pci bus id: 0000:23:00.0, compute capability: 8.6\n",
      "2023-04-04 10:27:21.209397: I tensorflow/core/common_runtime/gpu/gpu_device.cc:1613] Created device /job:localhost/replica:0/task:0/device:GPU:0 with 21894 MB memory:  -> device: 6, name: NVIDIA GeForce RTX 3090, pci bus id: 0000:23:00.0, compute capability: 8.6\n",
      "2023-04-04 10:27:32.030669: I tensorflow/core/common_runtime/gpu/gpu_device.cc:1613] Created device /job:localhost/replica:0/task:0/device:GPU:0 with 21894 MB memory:  -> device: 6, name: NVIDIA GeForce RTX 3090, pci bus id: 0000:23:00.0, compute capability: 8.6\n",
      "2023-04-04 10:27:42.998652: I tensorflow/core/common_runtime/gpu/gpu_device.cc:1613] Created device /job:localhost/replica:0/task:0/device:GPU:0 with 21894 MB memory:  -> device: 6, name: NVIDIA GeForce RTX 3090, pci bus id: 0000:23:00.0, compute capability: 8.6\n",
      "2023-04-04 10:27:54.104432: I tensorflow/core/common_runtime/gpu/gpu_device.cc:1613] Created device /job:localhost/replica:0/task:0/device:GPU:0 with 21894 MB memory:  -> device: 6, name: NVIDIA GeForce RTX 3090, pci bus id: 0000:23:00.0, compute capability: 8.6\n",
      "2023-04-04 10:28:05.032451: I tensorflow/core/common_runtime/gpu/gpu_device.cc:1613] Created device /job:localhost/replica:0/task:0/device:GPU:0 with 21894 MB memory:  -> device: 6, name: NVIDIA GeForce RTX 3090, pci bus id: 0000:23:00.0, compute capability: 8.6\n",
      "2023-04-04 10:28:15.880021: I tensorflow/core/common_runtime/gpu/gpu_device.cc:1613] Created device /job:localhost/replica:0/task:0/device:GPU:0 with 21894 MB memory:  -> device: 6, name: NVIDIA GeForce RTX 3090, pci bus id: 0000:23:00.0, compute capability: 8.6\n",
      "2023-04-04 10:28:26.726564: I tensorflow/core/common_runtime/gpu/gpu_device.cc:1613] Created device /job:localhost/replica:0/task:0/device:GPU:0 with 21894 MB memory:  -> device: 6, name: NVIDIA GeForce RTX 3090, pci bus id: 0000:23:00.0, compute capability: 8.6\n",
      "2023-04-04 10:28:37.708401: I tensorflow/core/common_runtime/gpu/gpu_device.cc:1613] Created device /job:localhost/replica:0/task:0/device:GPU:0 with 21894 MB memory:  -> device: 6, name: NVIDIA GeForce RTX 3090, pci bus id: 0000:23:00.0, compute capability: 8.6\n",
      "2023-04-04 10:28:48.703395: I tensorflow/core/common_runtime/gpu/gpu_device.cc:1613] Created device /job:localhost/replica:0/task:0/device:GPU:0 with 21894 MB memory:  -> device: 6, name: NVIDIA GeForce RTX 3090, pci bus id: 0000:23:00.0, compute capability: 8.6\n",
      "2023-04-04 10:28:59.774947: I tensorflow/core/common_runtime/gpu/gpu_device.cc:1613] Created device /job:localhost/replica:0/task:0/device:GPU:0 with 21894 MB memory:  -> device: 6, name: NVIDIA GeForce RTX 3090, pci bus id: 0000:23:00.0, compute capability: 8.6\n",
      "2023-04-04 10:29:10.792734: I tensorflow/core/common_runtime/gpu/gpu_device.cc:1613] Created device /job:localhost/replica:0/task:0/device:GPU:0 with 21894 MB memory:  -> device: 6, name: NVIDIA GeForce RTX 3090, pci bus id: 0000:23:00.0, compute capability: 8.6\n"
     ]
    }
   ],
   "source": [
    "# external_data_test = pd.read_csv(\"./dataset/baseline_PeriHD_notmark_pred_100sample_JYY.csv\", encoding='utf-8-sig')\n",
    "# external_data_test['Truth'] = [0 if i=='N' else 1 for i in external_data_test['Truth']]\n",
    "# external_data_test = external_data_test.rename(columns={'Truth': 'label'})\n",
    "\n",
    "# save_folder = save_type_folder[0]\n",
    "# for idx, (text, ans) in enumerate(zip(external_data_test['處置其他結束（描述）'].tolist(), external_data_test['label'].tolist())):\n",
    "#     text = str(text).replace('\\t','').replace('\\n','').replace('。','，').replace(',','，')\n",
    "#     text_sp = np.array([i for i in text.split('，') if len(i)>0])\n",
    "#     context_stack = []\n",
    "#     for i in range(len(text_sp)-1):\n",
    "#         context_stack.append(text_sp[i]+'，'+text_sp[i+1])\n",
    "#     if len(text_sp)==1:\n",
    "#         context_stack.append(text_sp[0])\n",
    "#     with tf.Session() as session:\n",
    "#         session.run([tf.global_variables_initializer(), \n",
    "#                     tf.tables_initializer()])\n",
    "#         temp_embed = session.run(USE_model(context_stack))\n",
    "#     # print(len(context_stack))\n",
    "#     # print(temp_embed.shape)\n",
    "#     with open(os.path.join(save_path, save_folder, \"test\", \"train_USD_external_pk_data_{}.pkl\".format(idx)), \"wb\") as f:\n",
    "#         save_dict = {\"full_embed\": temp_embed, \"full_text\": context_stack, \"label\": ans}\n",
    "#         pickle.dump(save_dict, f)"
   ]
  },
  {
   "cell_type": "code",
   "execution_count": null,
   "metadata": {},
   "outputs": [],
   "source": []
  }
 ],
 "metadata": {
  "kernelspec": {
   "display_name": "yd_nlptf",
   "language": "python",
   "name": "python3"
  },
  "language_info": {
   "codemirror_mode": {
    "name": "ipython",
    "version": 3
   },
   "file_extension": ".py",
   "mimetype": "text/x-python",
   "name": "python",
   "nbconvert_exporter": "python",
   "pygments_lexer": "ipython3",
   "version": "3.9.15"
  },
  "orig_nbformat": 4
 },
 "nbformat": 4,
 "nbformat_minor": 2
}
