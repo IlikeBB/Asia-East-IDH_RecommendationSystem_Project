{
 "cells": [
  {
   "cell_type": "code",
   "execution_count": 1,
   "metadata": {},
   "outputs": [],
   "source": [
    "import pandas as pd, numpy as np, os, glob"
   ]
  },
  {
   "cell_type": "code",
   "execution_count": 2,
   "metadata": {},
   "outputs": [
    {
     "name": "stderr",
     "output_type": "stream",
     "text": [
      "/var/folders/bh/sd4z8w4n5_z9223mbfs7x9fr0000gn/T/ipykernel_70352/1004895937.py:1: DtypeWarning: Columns (6,7,8,39,40,41) have mixed types. Specify dtype option on import or set low_memory=False.\n",
      "  PeriHD_Train = pd.read_csv('../../../Dialysis_Hypotension/IDH_full_freetext_data/final_filter_train_full_2693_PeriHD.csv')\n",
      "/var/folders/bh/sd4z8w4n5_z9223mbfs7x9fr0000gn/T/ipykernel_70352/1004895937.py:2: DtypeWarning: Columns (5) have mixed types. Specify dtype option on import or set low_memory=False.\n",
      "  IntraHD_Train = pd.read_csv('../../../Dialysis_Hypotension/IDH_full_freetext_data/final_filter_train_full_1124_IntraHD.csv')\n"
     ]
    }
   ],
   "source": [
    "PeriHD_Train = pd.read_csv('../../../Dialysis_Hypotension/IDH_full_freetext_data/final_filter_train_full_2693_PeriHD.csv')\n",
    "IntraHD_Train = pd.read_csv('../../../Dialysis_Hypotension/IDH_full_freetext_data/final_filter_train_full_1124_IntraHD.csv')\n",
    "PeriHD_Test = pd.read_csv('/Users/monoaki/vs_code/亞東/encrypt/baseline_01_sample_500-test_periHD.csv')\n",
    "IntraHD_Test = pd.read_csv('../../../Dialysis_Hypotension/IDH_full_freetext_data/IntraHD_ExternalData_05-17.csv')"
   ]
  },
  {
   "cell_type": "code",
   "execution_count": 3,
   "metadata": {},
   "outputs": [
    {
     "name": "stdout",
     "output_type": "stream",
     "text": [
      "(1452843, 25)\n",
      "(1124, 25)\n"
     ]
    }
   ],
   "source": [
    "IntraHD_Train['處置其他+症狀處置'] = IntraHD_Train['處置其他']+'||'+IntraHD_Train['症狀處置']\n",
    "print(IntraHD_Train.shape)\n",
    "IntraHD_Train = IntraHD_Train.drop_duplicates(subset=['處置其他+症狀處置'])\n",
    "print(IntraHD_Train.shape)"
   ]
  },
  {
   "cell_type": "code",
   "execution_count": 4,
   "metadata": {},
   "outputs": [
    {
     "name": "stdout",
     "output_type": "stream",
     "text": [
      "(61160, 64)\n",
      "(2693, 65)\n",
      "(500, 66)\n"
     ]
    }
   ],
   "source": [
    "print(PeriHD_Train.shape)\n",
    "PeriHD_Train = PeriHD_Train.drop_duplicates(subset=['處置其他結束'])\n",
    "PeriHD_Train = pd.concat([PeriHD_Train,PeriHD_Train.sample(307, random_state=123)])\n",
    "PeriHD_Train['透析時間長度'] = pd.to_datetime(PeriHD_Train['透析時間結束'])-pd.to_datetime(PeriHD_Train['透析開始時間'])\n",
    "PeriHD_Test['透析時間長度'] = pd.to_datetime(PeriHD_Test['透析時間結束'])-pd.to_datetime(PeriHD_Test['透析開始時間'])\n",
    "print(PeriHD_Train.shape)\n",
    "print(PeriHD_Test.shape)"
   ]
  },
  {
   "cell_type": "code",
   "execution_count": 5,
   "metadata": {},
   "outputs": [
    {
     "name": "stdout",
     "output_type": "stream",
     "text": [
      "(4017, 3)\n",
      "(2693, 5)\n",
      "(500, 5)\n"
     ]
    }
   ],
   "source": [
    "age_df = pd.read_csv('../../../encrypt/Base2016_20_en.csv')\n",
    "print(age_df.shape)\n",
    "age_df['2020_Date'] = pd.to_datetime('2020-06-30 12:00:00')\n",
    "age_df['生日']= pd.to_datetime(age_df['生日'])\n",
    "age_df['age'] = (age_df['2020_Date'] - age_df['生日'])/365\n",
    "age_df['age'] = age_df['age'].astype(str).str.split(' days').str[0]\n",
    "age_df_PeriHD_train = pd.merge(PeriHD_Train['ID'], age_df, on='ID', how='inner')\n",
    "print(age_df_PeriHD_train.shape)\n",
    "PeriHD_Test = PeriHD_Test.rename(columns={'病人ID':\"ID\"})\n",
    "age_df_PeriHD_test = pd.merge(PeriHD_Test['ID'], age_df, on='ID', how='inner')\n",
    "print(age_df_PeriHD_test.shape)"
   ]
  },
  {
   "cell_type": "code",
   "execution_count": 6,
   "metadata": {},
   "outputs": [
    {
     "data": {
      "text/plain": [
       "Index(['ID', '洗腎紀錄時間', '急診門診住院', '護理交班事項', '透析開始時間', '開始血壓SBP', '開始血壓DBP',\n",
       "       '開始脈搏', '體重1開始', '體重2標準體重', '體重3應脫水', '體重其他', '體溫', 'FISTULA', 'GRAFT',\n",
       "       'DLC', 'PERMCATH', 'EXITSITE', 'DLC順暢度', '血流強度', '血管彈性', '瘀青', '感染徵兆',\n",
       "       '穿刺', '血管通路理學篩檢其他', '跌倒_年齡', '跌倒_跌倒病史', '跌倒_意識狀態', '跌倒_下肢肌力測驗',\n",
       "       '跌倒_如廁能力', '跌倒_活動狀態', '跌倒_藥物使用', '入院方式', '意識狀態', '呼吸系統', '呼吸系統5其他',\n",
       "       '心臟血管系統', '心臟血管系統其他', '透析時間結束', '結束血壓SBP', '結束血壓DBP', '結束脈搏', '體重結束',\n",
       "       '體重實際脫水', '體重機器顯示', '血管廔管', '血管廔管2', '血管廔管3', 'Hollow fiber clot',\n",
       "       'V-chamber clot', 'A-chamber clot', '處置其他結束', '透析後評估項目1', '透析後評估項目2',\n",
       "       '透析後評估項目3', '透析後評估項目4', '透析後評估項目5', '透析後評估項目6', 'DIAG585',\n",
       "       'DIAG585 STATDATE', 'DIAG585 ENDDATE', 'NEW開始血壓SBP', 'NEW開始血壓DBP',\n",
       "       'INDEX', '透析時間長度'],\n",
       "      dtype='object')"
      ]
     },
     "execution_count": 6,
     "metadata": {},
     "output_type": "execute_result"
    }
   ],
   "source": [
    "PeriHD_Train.columns"
   ]
  },
  {
   "cell_type": "code",
   "execution_count": 7,
   "metadata": {},
   "outputs": [
    {
     "data": {
      "text/plain": [
       "Index(['Unnamed: 0', 'ID', '洗腎紀錄時間', '急診門診住院', '中記錄時間', '記錄者', '血壓', '脈搏',\n",
       "       '呼吸', '血液流速', '靜脈壓', 'TMPDP', '超過濾率', '溫度', '傳導濃度', '管路固定', '生理鹽水',\n",
       "       '肝素使用量', '處置其他', '症狀處置', 'RowNum', 'sbp', 'dbp', 'INDEX', '處置其他+症狀處置'],\n",
       "      dtype='object')"
      ]
     },
     "execution_count": 7,
     "metadata": {},
     "output_type": "execute_result"
    }
   ],
   "source": [
    "IntraHD_Train.columns"
   ]
  },
  {
   "cell_type": "code",
   "execution_count": 79,
   "metadata": {},
   "outputs": [],
   "source": [
    "def per_hours(dataframe):\n",
    "    time_delta = [4 if time.components.hours>5  else time.components.hours for time in pd.to_timedelta(dataframe.dropna())]\n",
    "    mean = round(np.mean(time_delta),1)\n",
    "    return f\"{mean} ({round(np.std(time_delta),1)})\"\n",
    "def weight_calc(dataframe):\n",
    "    dataframe_pos = dataframe[['體重1開始','體重機器顯示','體重結束']]\n",
    "    dataframe_pos = dataframe_pos.apply(pd.to_numeric, errors='coerce')\n",
    "    dataframe_pos = dataframe_pos.dropna()\n",
    "    dataframe_pos = dataframe_pos.reset_index()\n",
    "    dataframe_pos['洗後體重'] = dataframe_pos['體重1開始']-dataframe_pos['體重機器顯示']\n",
    "    for i in range(len(dataframe_pos)):\n",
    "        if dataframe_pos.loc[i,'洗後體重'] <30:\n",
    "            dataframe_pos.loc[i,'洗後體重'] = dataframe_pos.loc[i,'體重結束']\n",
    "        if dataframe_pos.loc[i,'洗後體重'] >100:\n",
    "            dataframe_pos.loc[i,'洗後體重'] = dataframe_pos.loc[i,'體重結束']\n",
    "    dataframe_pos['乾體重'] = dataframe_pos['體重結束']\n",
    "    return dataframe_pos\n",
    "\n",
    "def get_BP(dataframe):\n",
    "    dataframe = dataframe[['NEW開始血壓SBP','NEW開始血壓DBP','開始脈搏','結束血壓SBP','結束血壓DBP','結束脈搏']]\n",
    "    dataframe = dataframe.apply(pd.to_numeric, errors='coerce')\n",
    "    dataframe = dataframe.dropna().astype(float)\n",
    "    dataframe = dataframe[(dataframe['NEW開始血壓SBP']>=40) & (dataframe['NEW開始血壓SBP']<=240) & (dataframe['結束血壓SBP']>=40) & (dataframe['結束血壓SBP']<=240)]\n",
    "    dataframe = dataframe[(dataframe['NEW開始血壓DBP']>=30) & (dataframe['NEW開始血壓DBP']<=140) & (dataframe['結束血壓DBP']>=30) & (dataframe['結束血壓DBP']<=140)]\n",
    "    return dataframe\n",
    "\n",
    "Table_1_Variables = {\"PeriHD Variables\":['Participants, n', 'Age, years', 'Men, n(%)', 'Weight, kg'],\n",
    "                     \"Internal Data\":[2693, \n",
    "                                      f\"{round(np.mean(age_df_PeriHD_train['age'].astype(int).values),1)} ({round(age_df_PeriHD_train['age'].astype(int).std(),1)})\",\n",
    "                                      f\"{sum(age_df_PeriHD_train['性別']=='男')} ({round(sum(age_df_PeriHD_train['性別']=='男')/len(age_df_PeriHD_train)*100,1)})%\",\n",
    "                                      f\"{round(np.mean(PeriHD_Train['體重1開始'].fillna(0).astype(float)),1)} ({round(PeriHD_Train['體重1開始'].astype(float).std(),1)})\"\n",
    "                                      ],\n",
    "                     \"External Data\":[500,\n",
    "                                      f\"{round(np.mean(age_df_PeriHD_test['age'].astype(int).values),1)} ({round(age_df_PeriHD_test['age'].astype(int).std(),1)})\",\n",
    "                                      f\"{sum(age_df_PeriHD_test['性別']=='男')} ({round(sum(age_df_PeriHD_test['性別']=='男')/len(age_df_PeriHD_test)*100,1)})%\",\n",
    "                                      f\"{round(np.mean(PeriHD_Test['體重1開始'].fillna(0).astype(float)),1)} ({round(PeriHD_Test['體重1開始'].astype(float).std(),1)})\"\n",
    "                                      ]}\n",
    "# 暫時移除Blood flow rate：來源於IntraHD\n",
    "Table_1_Dialysis_information = {\"PeriHD Variables\":['Hours per session, hour','Dry body wieght, kg','Pre-dialysis weight, kg','post-dialysis, kg'],\n",
    "                                \"Internal Data\":[per_hours(PeriHD_Train['透析時間長度']),\n",
    "                                                 f\"{round(np.mean(weight_calc(PeriHD_Train)['乾體重']),1)} ({round(np.std(weight_calc(PeriHD_Train)['乾體重']),1)})\",\n",
    "                                                 f\"{round(np.mean(PeriHD_Train['體重1開始'].fillna(0).astype(float)),1)} ({round(PeriHD_Train['體重1開始'].astype(float).std(),1)})\",\n",
    "                                                 f\"{round(np.mean(weight_calc(PeriHD_Train)['洗後體重']),1)} ({round(np.std(weight_calc(PeriHD_Train)['洗後體重']),1)})\",\n",
    "                                                 ],\n",
    "                                \"External Data\":[per_hours(PeriHD_Test['透析時間長度']),\n",
    "                                                 f\"{round(np.mean(weight_calc(PeriHD_Test)['乾體重']),1)} ({round(np.std(weight_calc(PeriHD_Test)['乾體重']),1)})\",\n",
    "                                                 f\"{round(np.mean(PeriHD_Test['體重1開始'].fillna(0).astype(float)),1)} ({round(PeriHD_Test['體重1開始'].astype(float).std(),1)})\",\n",
    "                                                 f\"{round(np.mean(weight_calc(PeriHD_Test)['洗後體重']),1)} ({round(np.std(weight_calc(PeriHD_Test)['洗後體重']),1)})\",\n",
    "                                                 ]} \n",
    "Table_1_Vascular_access = {\"PeriHD Vascular access, n(%)\": ['AV-Fistula','AV-Graft','Catheter'],\n",
    "                           \"Internal Data\":[],\n",
    "                           \"External Data\":[]}\n",
    "Table_1_Blood_pressures = {\"PeriHD Variables\":['Start-SBP, mmHg','Start-DBP, mmHg','Start-HR, beat/min','End-SBP, mmHg','End-DBP, mmHg','End-HR, beat/min'],\n",
    "                           \"Internal Data\":[f\"{round(np.mean(get_BP(PeriHD_Train)['NEW開始血壓SBP']),1)} ({round(np.std(get_BP(PeriHD_Train)['NEW開始血壓SBP']),1)})\",\n",
    "                                            f\"{round(np.mean(get_BP(PeriHD_Train)['NEW開始血壓DBP']),1)} ({round(np.std(get_BP(PeriHD_Train)['NEW開始血壓DBP']),1)})\",\n",
    "                                            f\"{round(np.mean(get_BP(PeriHD_Train)['開始脈搏']),1)} ({round(np.std(get_BP(PeriHD_Train)['開始脈搏']),1)})\",\n",
    "                                            f\"{round(np.mean(get_BP(PeriHD_Train)['結束血壓SBP']),1)} ({round(np.std(get_BP(PeriHD_Train)['結束血壓SBP']),1)})\",\n",
    "                                            f\"{round(np.mean(get_BP(PeriHD_Train)['結束血壓DBP']),1)} ({round(np.std(get_BP(PeriHD_Train)['結束血壓DBP']),1)})\",\n",
    "                                            f\"{round(np.mean(get_BP(PeriHD_Train)['結束脈搏']),1)} ({round(np.std(get_BP(PeriHD_Train)['結束脈搏']),1)})\",\n",
    "                                            ],\n",
    "                           \"External Data\":[f\"{round(np.mean(get_BP(PeriHD_Test)['NEW開始血壓SBP']),1)} ({round(np.std(get_BP(PeriHD_Test)['NEW開始血壓SBP']),1)})\",\n",
    "                                            f\"{round(np.mean(get_BP(PeriHD_Test)['NEW開始血壓DBP']),1)} ({round(np.std(get_BP(PeriHD_Test)['NEW開始血壓DBP']),1)})\",\n",
    "                                            f\"{round(np.mean(get_BP(PeriHD_Test)['開始脈搏']),1)} ({round(np.std(get_BP(PeriHD_Test)['開始脈搏']),1)})\",\n",
    "                                            f\"{round(np.mean(get_BP(PeriHD_Test)['結束血壓SBP']),1)} ({round(np.std(get_BP(PeriHD_Test)['結束血壓SBP']),1)})\",\n",
    "                                            f\"{round(np.mean(get_BP(PeriHD_Test)['結束血壓DBP']),1)} ({round(np.std(get_BP(PeriHD_Test)['結束血壓DBP']),1)})\",\n",
    "                                            f\"{round(np.mean(get_BP(PeriHD_Test)['結束脈搏']),1)} ({round(np.std(get_BP(PeriHD_Test)['結束脈搏']),1)})\",\n",
    "                                            ]}"
   ]
  },
  {
   "cell_type": "code",
   "execution_count": 80,
   "metadata": {},
   "outputs": [
    {
     "data": {
      "text/html": [
       "<div>\n",
       "<style scoped>\n",
       "    .dataframe tbody tr th:only-of-type {\n",
       "        vertical-align: middle;\n",
       "    }\n",
       "\n",
       "    .dataframe tbody tr th {\n",
       "        vertical-align: top;\n",
       "    }\n",
       "\n",
       "    .dataframe thead th {\n",
       "        text-align: right;\n",
       "    }\n",
       "</style>\n",
       "<table border=\"1\" class=\"dataframe\">\n",
       "  <thead>\n",
       "    <tr style=\"text-align: right;\">\n",
       "      <th></th>\n",
       "      <th>PeriHD Variables</th>\n",
       "      <th>Internal Data</th>\n",
       "      <th>External Data</th>\n",
       "    </tr>\n",
       "  </thead>\n",
       "  <tbody>\n",
       "    <tr>\n",
       "      <th>0</th>\n",
       "      <td>Participants, n</td>\n",
       "      <td>2693</td>\n",
       "      <td>500</td>\n",
       "    </tr>\n",
       "    <tr>\n",
       "      <th>1</th>\n",
       "      <td>Age, years</td>\n",
       "      <td>67.4 (13.1)</td>\n",
       "      <td>64.3 (11.5)</td>\n",
       "    </tr>\n",
       "    <tr>\n",
       "      <th>2</th>\n",
       "      <td>Men, n(%)</td>\n",
       "      <td>1336 (49.6)%</td>\n",
       "      <td>290 (58.0)%</td>\n",
       "    </tr>\n",
       "    <tr>\n",
       "      <th>3</th>\n",
       "      <td>Weight, kg</td>\n",
       "      <td>61.1 (23.7)</td>\n",
       "      <td>63.0 (14.2)</td>\n",
       "    </tr>\n",
       "    <tr>\n",
       "      <th>0</th>\n",
       "      <td>Hours per session, hour</td>\n",
       "      <td>3.4 (0.7)</td>\n",
       "      <td>3.6 (0.6)</td>\n",
       "    </tr>\n",
       "    <tr>\n",
       "      <th>1</th>\n",
       "      <td>Dry body wieght, kg</td>\n",
       "      <td>59.3 (19.3)</td>\n",
       "      <td>61.5 (13.0)</td>\n",
       "    </tr>\n",
       "    <tr>\n",
       "      <th>2</th>\n",
       "      <td>Pre-dialysis weight, kg</td>\n",
       "      <td>61.1 (23.7)</td>\n",
       "      <td>63.0 (14.2)</td>\n",
       "    </tr>\n",
       "    <tr>\n",
       "      <th>3</th>\n",
       "      <td>post-dialysis, kg</td>\n",
       "      <td>59.2 (17.2)</td>\n",
       "      <td>61.6 (13.0)</td>\n",
       "    </tr>\n",
       "    <tr>\n",
       "      <th>0</th>\n",
       "      <td>Start-SBP, mmHg</td>\n",
       "      <td>139.6 (25.2)</td>\n",
       "      <td>144.5 (27.7)</td>\n",
       "    </tr>\n",
       "    <tr>\n",
       "      <th>1</th>\n",
       "      <td>Start-DBP, mmHg</td>\n",
       "      <td>71.8 (14.5)</td>\n",
       "      <td>73.8 (14.5)</td>\n",
       "    </tr>\n",
       "    <tr>\n",
       "      <th>2</th>\n",
       "      <td>Start-HR, beat/min</td>\n",
       "      <td>81.7 (22.7)</td>\n",
       "      <td>79.9 (13.4)</td>\n",
       "    </tr>\n",
       "    <tr>\n",
       "      <th>3</th>\n",
       "      <td>End-SBP, mmHg</td>\n",
       "      <td>140.1 (26.3)</td>\n",
       "      <td>139.8 (26.6)</td>\n",
       "    </tr>\n",
       "    <tr>\n",
       "      <th>4</th>\n",
       "      <td>End-DBP, mmHg</td>\n",
       "      <td>73.5 (14.4)</td>\n",
       "      <td>74.7 (13.7)</td>\n",
       "    </tr>\n",
       "    <tr>\n",
       "      <th>5</th>\n",
       "      <td>End-HR, beat/min</td>\n",
       "      <td>83.2 (25.5)</td>\n",
       "      <td>79.4 (14.3)</td>\n",
       "    </tr>\n",
       "  </tbody>\n",
       "</table>\n",
       "</div>"
      ],
      "text/plain": [
       "          PeriHD Variables Internal Data External Data\n",
       "0          Participants, n          2693           500\n",
       "1               Age, years   67.4 (13.1)   64.3 (11.5)\n",
       "2                Men, n(%)  1336 (49.6)%   290 (58.0)%\n",
       "3               Weight, kg   61.1 (23.7)   63.0 (14.2)\n",
       "0  Hours per session, hour     3.4 (0.7)     3.6 (0.6)\n",
       "1      Dry body wieght, kg   59.3 (19.3)   61.5 (13.0)\n",
       "2  Pre-dialysis weight, kg   61.1 (23.7)   63.0 (14.2)\n",
       "3        post-dialysis, kg   59.2 (17.2)   61.6 (13.0)\n",
       "0          Start-SBP, mmHg  139.6 (25.2)  144.5 (27.7)\n",
       "1          Start-DBP, mmHg   71.8 (14.5)   73.8 (14.5)\n",
       "2       Start-HR, beat/min   81.7 (22.7)   79.9 (13.4)\n",
       "3            End-SBP, mmHg  140.1 (26.3)  139.8 (26.6)\n",
       "4            End-DBP, mmHg   73.5 (14.4)   74.7 (13.7)\n",
       "5         End-HR, beat/min   83.2 (25.5)   79.4 (14.3)"
      ]
     },
     "execution_count": 80,
     "metadata": {},
     "output_type": "execute_result"
    }
   ],
   "source": [
    "pd.concat([pd.DataFrame(Table_1_Variables),pd.DataFrame(Table_1_Dialysis_information), pd.DataFrame(Table_1_Blood_pressures)], axis=0)"
   ]
  },
  {
   "cell_type": "code",
   "execution_count": 37,
   "metadata": {},
   "outputs": [
    {
     "data": {
      "text/plain": [
       "{'PeriHD Vascular access, n(%)': ['AV-Fistula', 'AV-Graft', 'Catheter'],\n",
       " 'Internal Data': [],\n",
       " 'External Data': []}"
      ]
     },
     "execution_count": 37,
     "metadata": {},
     "output_type": "execute_result"
    }
   ],
   "source": [
    "Table_1_Vascular_access"
   ]
  },
  {
   "cell_type": "code",
   "execution_count": null,
   "metadata": {},
   "outputs": [],
   "source": []
  }
 ],
 "metadata": {
  "kernelspec": {
   "display_name": "yadong_nlp",
   "language": "python",
   "name": "python3"
  },
  "language_info": {
   "codemirror_mode": {
    "name": "ipython",
    "version": 3
   },
   "file_extension": ".py",
   "mimetype": "text/x-python",
   "name": "python",
   "nbconvert_exporter": "python",
   "pygments_lexer": "ipython3",
   "version": "3.8.15"
  },
  "orig_nbformat": 4
 },
 "nbformat": 4,
 "nbformat_minor": 2
}
