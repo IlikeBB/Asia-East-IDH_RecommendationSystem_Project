{
 "cells": [
  {
   "cell_type": "code",
   "execution_count": 1,
   "metadata": {},
   "outputs": [
    {
     "name": "stderr",
     "output_type": "stream",
     "text": [
      "2023-06-01 15:23:19.255769: I tensorflow/core/platform/cpu_feature_guard.cc:193] This TensorFlow binary is optimized with oneAPI Deep Neural Network Library (oneDNN) to use the following CPU instructions in performance-critical operations:  AVX2 AVX512F AVX512_VNNI FMA\n",
      "To enable them in other operations, rebuild TensorFlow with the appropriate compiler flags.\n",
      "2023-06-01 15:23:19.454260: I tensorflow/core/util/port.cc:104] oneDNN custom operations are on. You may see slightly different numerical results due to floating-point round-off errors from different computation orders. To turn them off, set the environment variable `TF_ENABLE_ONEDNN_OPTS=0`.\n",
      "2023-06-01 15:23:20.124032: W tensorflow/compiler/xla/stream_executor/platform/default/dso_loader.cc:64] Could not load dynamic library 'libnvinfer.so.7'; dlerror: libnvinfer.so.7: cannot open shared object file: No such file or directory\n",
      "2023-06-01 15:23:20.124128: W tensorflow/compiler/xla/stream_executor/platform/default/dso_loader.cc:64] Could not load dynamic library 'libnvinfer_plugin.so.7'; dlerror: libnvinfer_plugin.so.7: cannot open shared object file: No such file or directory\n",
      "2023-06-01 15:23:20.124136: W tensorflow/compiler/tf2tensorrt/utils/py_utils.cc:38] TF-TRT Warning: Cannot dlopen some TensorRT libraries. If you would like to use Nvidia GPU with TensorRT, please make sure the missing libraries mentioned above are installed properly.\n"
     ]
    },
    {
     "name": "stdout",
     "output_type": "stream",
     "text": [
      "WARNING:tensorflow:From /home/chihyi111/miniconda3/envs/yd_nlptf/lib/python3.9/site-packages/tensorflow/python/compat/v2_compat.py:107: disable_resource_variables (from tensorflow.python.ops.variable_scope) is deprecated and will be removed in a future version.\n",
      "Instructions for updating:\n",
      "non-resource variables are not supported in the long term\n"
     ]
    },
    {
     "name": "stderr",
     "output_type": "stream",
     "text": [
      "2023-06-01 15:23:25.263644: I tensorflow/core/platform/cpu_feature_guard.cc:193] This TensorFlow binary is optimized with oneAPI Deep Neural Network Library (oneDNN) to use the following CPU instructions in performance-critical operations:  AVX2 AVX512F AVX512_VNNI FMA\n",
      "To enable them in other operations, rebuild TensorFlow with the appropriate compiler flags.\n",
      "2023-06-01 15:23:26.953476: I tensorflow/core/common_runtime/gpu/gpu_device.cc:1613] Created device /job:localhost/replica:0/task:0/device:GPU:0 with 21641 MB memory:  -> device: 4, name: NVIDIA GeForce RTX 3090, pci bus id: 0000:21:00.0, compute capability: 8.6\n"
     ]
    }
   ],
   "source": [
    "import numpy as np, pandas as pd, torch,os\n",
    "from sentence_transformers import SentenceTransformer\n",
    "import tensorflow.compat.v1 as tf\n",
    "tf.disable_v2_behavior()\n",
    "import tensorflow_hub as hub\n",
    "import tensorflow_text\n",
    "from sklearn.model_selection import train_test_split\n",
    "from sklearn.model_selection import KFold\n",
    "from tensorflow.keras.callbacks import ModelCheckpoint, EarlyStopping\n",
    "\n",
    "# device = torch.device(\"cuda:4\" if torch.cuda.is_available() else 'cpu')\n",
    "# BERT_model = SentenceTransformer('distiluse-base-multilingual-cased-v2', device=device)\n",
    "gpus = tf.config.list_physical_devices('GPU')\n",
    "if gpus:\n",
    "    tf.config.set_visible_devices(gpus[4], 'GPU')\n",
    "USE_model = hub.load(\"https://tfhub.dev/google/universal-sentence-encoder-multilingual-large/3\", )"
   ]
  },
  {
   "cell_type": "code",
   "execution_count": 2,
   "metadata": {},
   "outputs": [],
   "source": [
    "import pickle"
   ]
  },
  {
   "cell_type": "code",
   "execution_count": 3,
   "metadata": {},
   "outputs": [
    {
     "name": "stdout",
     "output_type": "stream",
     "text": [
      "(12047, 3) (1562, 3)\n"
     ]
    }
   ],
   "source": [
    "# data_train, data_test = train_test_split(new_fix_get_2693_sample_df, test_size=0.1, random_state=42, stratify=new_fix_get_2693_sample_df['label'])\n",
    "# data_train, data_test = train_test_split(get_2693_sample_df, test_size=0.1, random_state=42, stratify=get_2693_sample_df['label'])\n",
    "data_train = pd.read_csv(\"./dataset/pre-processing/PeriHD_Sentence-merge_internal-train[pos+neg].csv\")\n",
    "data_train['label'] = [1 if i=='Y' else 0 for i in data_train.Truth.values.tolist()]\n",
    "data_valid = pd.read_csv(\"./dataset/pre-processing/PeriHD_Sentence-merge_internal-test[pos+neg].csv\")\n",
    "data_valid['label'] = [1 if i=='Y' else 0 for i in data_valid.Truth.values.tolist()]\n",
    "print(data_train.shape, data_valid.shape)"
   ]
  },
  {
   "cell_type": "code",
   "execution_count": 4,
   "metadata": {},
   "outputs": [
    {
     "name": "stdout",
     "output_type": "stream",
     "text": [
      "10975 1072\n",
      "1444 118\n"
     ]
    }
   ],
   "source": [
    "print(len(data_train.label.values)-sum(data_train.label.values), sum(data_train.label.values))\n",
    "print(len(data_valid.label.values)-sum(data_valid.label.values), sum(data_valid.label.values))"
   ]
  },
  {
   "cell_type": "code",
   "execution_count": 5,
   "metadata": {},
   "outputs": [],
   "source": [
    "# pd.set_option('display.max_rows', 2000)\n",
    "# pd.set_option('display.max_columns', 20)\n",
    "# data_train[data_train.label==1]"
   ]
  },
  {
   "cell_type": "code",
   "execution_count": 6,
   "metadata": {},
   "outputs": [],
   "source": [
    "save_path = \"/ssd8/chih/project/yadong/predict_baseline_version02_ACM/dataset/PeriHD_pickle_save_05-17\"\n",
    "save_type_folder = ['USE_sample2693_only-merge-sequence_contextsplit_tf']\n",
    "for save_type_folder_ls in save_type_folder:\n",
    "    for dp in ['','train','valid','test']:\n",
    "        os.makedirs(os.path.join(save_path, save_type_folder_ls, dp), exist_ok=True)"
   ]
  },
  {
   "cell_type": "code",
   "execution_count": 7,
   "metadata": {},
   "outputs": [
    {
     "name": "stderr",
     "output_type": "stream",
     "text": [
      "2023-06-01 15:23:29.150899: I tensorflow/core/common_runtime/gpu/gpu_device.cc:1613] Created device /job:localhost/replica:0/task:0/device:GPU:0 with 21641 MB memory:  -> device: 4, name: NVIDIA GeForce RTX 3090, pci bus id: 0000:21:00.0, compute capability: 8.6\n",
      "2023-06-01 15:23:29.325800: I tensorflow/compiler/mlir/mlir_graph_optimization_pass.cc:357] MLIR V1 optimization pass is not enabled\n",
      "2023-06-01 15:23:38.596971: I tensorflow/compiler/xla/stream_executor/cuda/cuda_blas.cc:630] TensorFloat-32 will be used for the matrix multiplication. This will only be logged once.\n"
     ]
    }
   ],
   "source": [
    "USE_training_embeddings=[]\n",
    "with tf.Session() as session:\n",
    "    session.run([tf.global_variables_initializer(), \n",
    "                 tf.tables_initializer()])\n",
    "    run_data = data_train['處置其他結束（描述）'].astype(str).to_list()\n",
    "    USE_training_embeddings = session.run(USE_model(run_data))\n",
    "save_folder = save_type_folder[0]\n",
    "# save_folder = \"USE_sample2693_contextsplit\"\n",
    "for idx, (embed_, text_, label_) in enumerate(zip(USE_training_embeddings, data_train['處置其他結束（描述）'].to_list(),data_train['label'].to_list())):\n",
    "    with open(os.path.join(save_path, save_folder, \"train\", \"train_USE_internal_pk_data_{}_fixed_re-marked_merge.pkl\".format(idx)), \"wb\") as f:\n",
    "        save_dict = {\"embed\": embed_, \"text\": text_, \"label\": label_}\n",
    "        pickle.dump(save_dict, f)"
   ]
  },
  {
   "cell_type": "code",
   "execution_count": 8,
   "metadata": {},
   "outputs": [
    {
     "name": "stderr",
     "output_type": "stream",
     "text": [
      "2023-06-01 15:23:41.508609: I tensorflow/core/common_runtime/gpu/gpu_device.cc:1613] Created device /job:localhost/replica:0/task:0/device:GPU:0 with 21641 MB memory:  -> device: 4, name: NVIDIA GeForce RTX 3090, pci bus id: 0000:21:00.0, compute capability: 8.6\n"
     ]
    }
   ],
   "source": [
    "with tf.Session() as session:\n",
    "    session.run([tf.global_variables_initializer(), \n",
    "                 tf.tables_initializer()])\n",
    "    run_data = data_valid['處置其他結束（描述）'].astype(str).to_list()\n",
    "    USE_validation_embeddings = session.run(USE_model(run_data))\n",
    "save_folder = save_type_folder[0]\n",
    "# save_folder = \"USE_sample2693_contextsplit\"\n",
    "for idx, (embed_, text_, label_) in enumerate(zip(USE_validation_embeddings, data_valid['處置其他結束（描述）'].to_list(),data_valid['label'].to_list())):\n",
    "    with open(os.path.join(save_path, save_folder, \"valid\", \"valid_USE_internal_pk_data_{}_fixed_re-marked_merge.pkl\".format(idx)), \"wb\") as f:\n",
    "        save_dict = {\"embed\": embed_, \"text\": text_, \"label\": label_}\n",
    "        pickle.dump(save_dict, f)"
   ]
  },
  {
   "cell_type": "code",
   "execution_count": null,
   "metadata": {},
   "outputs": [],
   "source": [
    "# save_path = \"/ssd8/chih/project/yadong/predict_baseline_version01/dataset/PeriHD_pickle_save\"\n",
    "# save_type_folder = ['USE_sample2693_only-merge-sequence_fullcontext']\n",
    "# for save_type_folder_ls in save_type_folder:\n",
    "#     for dp in ['','train','test']:\n",
    "#         os.makedirs(os.path.join(save_path, save_type_folder_ls, dp), exist_ok=True)"
   ]
  },
  {
   "cell_type": "code",
   "execution_count": null,
   "metadata": {},
   "outputs": [],
   "source": [
    "# data_train = pd.read_csv(\"./dataset/PeriHD_Sample-2693_Sentence-merge_internal-train.csv\")\n",
    "# data_train['label'] = [1 if i=='Y' else 0 for i in data_train.Truth.values.tolist()]\n",
    "# data_valid = pd.read_csv(\"./dataset/PeriHD_Sample-2693_Sentence-merge_internal-test.csv\")\n",
    "# data_valid['label'] = [1 if i=='Y' else 0 for i in data_valid.Truth.values.tolist()]\n",
    "# merge_df = pd.concat([data_train, data_valid])\n",
    "# concat1 = pd.read_csv('/ssd8/chih/project/yadong/process_csv/PeriHD_not_markdata-sampe2000.csv')['處置其他結束（描述）']\n",
    "# concat2 = pd.read_csv('/ssd8/chih/project/yadong/mark_csv/train_peri_mark_sample_693_JYY.csv')['處置其他結束（描述）']\n",
    "# concat_df = pd.concat([concat1, concat2])\n",
    "# positive_df = merge_df[merge_df['label']==1]\n",
    "# print(concat_df.shape)\n",
    "# print(positive_df.shape)"
   ]
  },
  {
   "cell_type": "code",
   "execution_count": null,
   "metadata": {},
   "outputs": [],
   "source": [
    "# ans_list = []\n",
    "# for full_text in concat_df.tolist():\n",
    "#     ans_temp = 0\n",
    "#     text = str(full_text).replace('\\t','').replace('\\n','').replace('。','，').replace(',','，')\n",
    "#     # text_sp = np.array([i for i in text.split('，') if len(i)>0])\n",
    "#     for pos_text in positive_df['處置其他結束（描述）'].tolist():\n",
    "#         if str(pos_text) in text:\n",
    "#             # print(text)\n",
    "#             # print([str(pos_text)])\n",
    "#             # break\n",
    "#             ans_temp+=1\n",
    "#             break\n",
    "#     # break\n",
    "#     if ans_temp!=0:\n",
    "#         ans_list.append(1)\n",
    "#     else:\n",
    "#         ans_list.append(0)"
   ]
  },
  {
   "cell_type": "code",
   "execution_count": null,
   "metadata": {},
   "outputs": [],
   "source": [
    "# save_folder = save_type_folder[0]"
   ]
  },
  {
   "cell_type": "code",
   "execution_count": null,
   "metadata": {},
   "outputs": [],
   "source": [
    "# save_folder = save_type_folder[0]\n",
    "# for idx, (text, ans) in enumerate(zip(concat_df.tolist(), ans_list)):\n",
    "#     text = str(text).replace('\\t','').replace('\\n','').replace('。','，').replace(',','，')\n",
    "#     text_sp = np.array([i for i in text.split('，') if len(i)>0])\n",
    "#     context_stack = []\n",
    "#     for i in range(len(text_sp)-1):\n",
    "#         context_stack.append(text_sp[i]+'，'+text_sp[i+1])\n",
    "#     if len(text_sp)==1:\n",
    "#         context_stack.append(text_sp[0])\n",
    "#     with tf.Session() as session:\n",
    "#         session.run([tf.global_variables_initializer(), \n",
    "#                     tf.tables_initializer()])\n",
    "#         temp_embed = session.run(USE_model(context_stack))\n",
    "#     with open(os.path.join(save_path, save_folder, \"train\", \"train_USE_external_pk_data_{}.pkl\".format(idx)), \"wb\") as f:\n",
    "#         save_dict = {\"full_embed\": temp_embed, \"full_text\": context_stack, \"label\": ans}\n",
    "#         pickle.dump(save_dict, f)\n",
    "#     # break"
   ]
  },
  {
   "cell_type": "code",
   "execution_count": null,
   "metadata": {},
   "outputs": [],
   "source": [
    "# external_data_test = pd.read_csv(\"./dataset/baseline_PeriHD_notmark_pred_100sample_JYY.csv\", encoding='utf-8-sig')\n",
    "# external_data_test['Truth'] = [0 if i=='N' else 1 for i in external_data_test['Truth']]\n",
    "# external_data_test = external_data_test.rename(columns={'Truth': 'label'})\n",
    "\n",
    "# save_folder = save_type_folder[0]\n",
    "# for idx, (text, ans) in enumerate(zip(external_data_test['處置其他結束（描述）'].tolist(), external_data_test['label'].tolist())):\n",
    "#     text = str(text).replace('\\t','').replace('\\n','').replace('。','，').replace(',','，')\n",
    "#     text_sp = np.array([i for i in text.split('，') if len(i)>0])\n",
    "#     context_stack = []\n",
    "#     for i in range(len(text_sp)-1):\n",
    "#         context_stack.append(text_sp[i]+'，'+text_sp[i+1])\n",
    "#     if len(text_sp)==1:\n",
    "#         context_stack.append(text_sp[0])\n",
    "#     with tf.Session() as session:\n",
    "#         session.run([tf.global_variables_initializer(), \n",
    "#                     tf.tables_initializer()])\n",
    "#         temp_embed = session.run(USE_model(context_stack))\n",
    "#     # print(len(context_stack))\n",
    "#     # print(temp_embed.shape)\n",
    "#     with open(os.path.join(save_path, save_folder, \"test\", \"train_USE_external_pk_data_{}.pkl\".format(idx)), \"wb\") as f:\n",
    "#         save_dict = {\"full_embed\": temp_embed, \"full_text\": context_stack, \"label\": ans}\n",
    "#         pickle.dump(save_dict, f)"
   ]
  },
  {
   "cell_type": "code",
   "execution_count": null,
   "metadata": {},
   "outputs": [],
   "source": []
  }
 ],
 "metadata": {
  "kernelspec": {
   "display_name": "yd_nlptf",
   "language": "python",
   "name": "python3"
  },
  "language_info": {
   "codemirror_mode": {
    "name": "ipython",
    "version": 3
   },
   "file_extension": ".py",
   "mimetype": "text/x-python",
   "name": "python",
   "nbconvert_exporter": "python",
   "pygments_lexer": "ipython3",
   "version": "3.9.15"
  },
  "orig_nbformat": 4
 },
 "nbformat": 4,
 "nbformat_minor": 2
}
