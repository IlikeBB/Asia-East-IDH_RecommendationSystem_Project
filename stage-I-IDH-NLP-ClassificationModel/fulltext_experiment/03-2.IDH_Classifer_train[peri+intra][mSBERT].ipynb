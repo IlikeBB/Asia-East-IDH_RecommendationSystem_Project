{
 "cells": [
  {
   "cell_type": "code",
   "execution_count": 1,
   "metadata": {},
   "outputs": [],
   "source": [
    "import numpy as np, pandas as pd, torch, os, glob\n",
    "import pickle\n",
    "from sklearn.model_selection import train_test_split\n",
    "from sklearn.model_selection import KFold, StratifiedKFold\n",
    "\n",
    "os.environ[\"CUDA_VISIBLE_DEVICES\"] = \"6\""
   ]
  },
  {
   "cell_type": "code",
   "execution_count": 9,
   "metadata": {},
   "outputs": [],
   "source": [
    "#pickle loading\n",
    "# merge experiment\n",
    "model_name_s = \"ST-DBMCv1\" #,ST-DBMCv1, ST-DBMCv2, BERT\n",
    "PeriHD_BERT_data_train_pkl = glob.glob(f\"./dataset/PeriHD_pickle_save_05-17/{model_name_s}_sample1124_sequence_fullcontext/train/*_fixed_re-marked_merge.pkl\")\n",
    "PeriHD_BERT_data_valid_pkl = glob.glob(f\"./dataset/PeriHD_pickle_save_05-17/{model_name_s}_sample1124_sequence_fullcontext/valid/*_fixed_re-marked_merge.pkl\")\n",
    "IntraHD_BERT_data_train_pkl = glob.glob(f\"./dataset/IntraHD_pickle_save_05-17/{model_name_s}_sample1124_sequence_fullcontext/train/*_fixed_re-marked_merge.pkl\")\n",
    "IntraHD_BERT_data_valid_pkl = glob.glob(f\"./dataset/IntraHD_pickle_save_05-17/{model_name_s}_sample1124_sequence_fullcontext/valid/*_fixed_re-marked_merge.pkl\")"
   ]
  },
  {
   "cell_type": "code",
   "execution_count": 10,
   "metadata": {},
   "outputs": [
    {
     "name": "stdout",
     "output_type": "stream",
     "text": [
      "2402 1011\n"
     ]
    }
   ],
   "source": [
    "def pk2pf(pkl_list):\n",
    "    data_train = []\n",
    "    for pk in pkl_list:\n",
    "        with open(pk, 'rb') as f:\n",
    "            pk_dict = pickle.load(f)\n",
    "        data_train.append(pk_dict)\n",
    "    data_train = pd.DataFrame(data_train)\n",
    "    \n",
    "    return data_train\n",
    "PeriHD_BERT_data_train = pk2pf(PeriHD_BERT_data_train_pkl)\n",
    "PeriHD_BERT_data_valid = pk2pf(PeriHD_BERT_data_valid_pkl)\n",
    "IntraHD_BERT_data_train = pk2pf(IntraHD_BERT_data_train_pkl)\n",
    "IntraHD_BERT_data_valid = pk2pf(IntraHD_BERT_data_valid_pkl)\n",
    "print(len(PeriHD_BERT_data_train), len(IntraHD_BERT_data_train))\n",
    "PeriHD_BERT_data_train['datatype']='PeriHD'\n",
    "PeriHD_BERT_data_valid['datatype']='PeriHD'\n",
    "IntraHD_BERT_data_train['datatype']='IntraHD'\n",
    "IntraHD_BERT_data_valid['datatype']='IntraHD'\n",
    "BERT_data_train = pd.concat([PeriHD_BERT_data_train, IntraHD_BERT_data_train])\n",
    "BERT_data_valid = pd.concat([PeriHD_BERT_data_valid, IntraHD_BERT_data_valid])"
   ]
  },
  {
   "cell_type": "code",
   "execution_count": 11,
   "metadata": {},
   "outputs": [
    {
     "name": "stdout",
     "output_type": "stream",
     "text": [
      "2610 803\n",
      "290 90\n"
     ]
    }
   ],
   "source": [
    "print(len(BERT_data_train.label.values)-sum(BERT_data_train.label.values), sum(BERT_data_train.label.values))\n",
    "print(len(BERT_data_valid.label.values)-sum(BERT_data_valid.label.values), sum(BERT_data_valid.label.values))"
   ]
  },
  {
   "cell_type": "code",
   "execution_count": 12,
   "metadata": {},
   "outputs": [
    {
     "name": "stdout",
     "output_type": "stream",
     "text": [
      "Internal train (3413, 512)\n",
      "Internal test (380, 512)\n"
     ]
    }
   ],
   "source": [
    "# ### BERT model embedding\n",
    "BERT_training_embeddings = np.array(BERT_data_train.embed.tolist())\n",
    "BERT_validation_embeddings = np.array(BERT_data_valid.embed.tolist())\n",
    "print(\"Internal train\", BERT_training_embeddings.shape)\n",
    "print(\"Internal test\" ,BERT_validation_embeddings.shape)"
   ]
  },
  {
   "cell_type": "code",
   "execution_count": 13,
   "metadata": {},
   "outputs": [
    {
     "name": "stderr",
     "output_type": "stream",
     "text": [
      "2023-06-02 11:38:23.219154: I tensorflow/core/platform/cpu_feature_guard.cc:193] This TensorFlow binary is optimized with oneAPI Deep Neural Network Library (oneDNN) to use the following CPU instructions in performance-critical operations:  AVX2 AVX512F AVX512_VNNI FMA\n",
      "To enable them in other operations, rebuild TensorFlow with the appropriate compiler flags.\n",
      "2023-06-02 11:38:23.386672: I tensorflow/core/util/port.cc:104] oneDNN custom operations are on. You may see slightly different numerical results due to floating-point round-off errors from different computation orders. To turn them off, set the environment variable `TF_ENABLE_ONEDNN_OPTS=0`.\n",
      "2023-06-02 11:38:23.908957: W tensorflow/compiler/xla/stream_executor/platform/default/dso_loader.cc:64] Could not load dynamic library 'libnvinfer.so.7'; dlerror: libnvinfer.so.7: cannot open shared object file: No such file or directory\n",
      "2023-06-02 11:38:23.909029: W tensorflow/compiler/xla/stream_executor/platform/default/dso_loader.cc:64] Could not load dynamic library 'libnvinfer_plugin.so.7'; dlerror: libnvinfer_plugin.so.7: cannot open shared object file: No such file or directory\n",
      "2023-06-02 11:38:23.909035: W tensorflow/compiler/tf2tensorrt/utils/py_utils.cc:38] TF-TRT Warning: Cannot dlopen some TensorRT libraries. If you would like to use Nvidia GPU with TensorRT, please make sure the missing libraries mentioned above are installed properly.\n"
     ]
    }
   ],
   "source": [
    "import keras\n",
    "def create_model(input_shape = (512,)):\n",
    "  model = keras.Sequential([\n",
    "    keras.layers.Dense(256, activation='relu', input_shape = input_shape),\n",
    "    keras.layers.Dropout(0.2),\n",
    "    keras.layers.Dense(1, activation='sigmoid')\n",
    "  ])\n",
    "  # model.compile(loss=FocalTverskyLoss, \n",
    "  #             optimizer='adam',\n",
    "  #             metrics=['acc'])\n",
    "  model.compile(loss='binary_crossentropy', \n",
    "              optimizer='adam',\n",
    "              metrics=['acc'])\n",
    "  return model"
   ]
  },
  {
   "cell_type": "code",
   "execution_count": 15,
   "metadata": {},
   "outputs": [
    {
     "name": "stderr",
     "output_type": "stream",
     "text": [
      "2023-06-02 11:38:54.766845: I tensorflow/compiler/xla/stream_executor/cuda/cuda_blas.cc:630] TensorFloat-32 will be used for the matrix multiplication. This will only be logged once.\n",
      "2023-06-02 11:38:54.772487: I tensorflow/compiler/xla/service/service.cc:173] XLA service 0x503429a0 initialized for platform CUDA (this does not guarantee that XLA will be used). Devices:\n",
      "2023-06-02 11:38:54.772533: I tensorflow/compiler/xla/service/service.cc:181]   StreamExecutor device (0): NVIDIA GeForce RTX 3090, Compute Capability 8.6\n",
      "2023-06-02 11:38:54.783867: I tensorflow/compiler/mlir/tensorflow/utils/dump_mlir_util.cc:268] disabling MLIR crash reproducer, set env var `MLIR_CRASH_REPRODUCER_DIRECTORY` to enable.\n",
      "2023-06-02 11:38:54.864812: I tensorflow/tsl/platform/default/subprocess.cc:304] Start cannot spawn child process: No such file or directory\n",
      "2023-06-02 11:38:54.934696: I tensorflow/compiler/jit/xla_compilation_cache.cc:477] Compiled cluster using XLA!  This line is logged at most once for the lifetime of the process.\n"
     ]
    },
    {
     "name": "stdout",
     "output_type": "stream",
     "text": [
      "107/107 [==============================] - 0s 2ms/step\n",
      "12/12 [==============================] - 0s 2ms/step\n",
      "107/107 [==============================] - 0s 2ms/step\n",
      "12/12 [==============================] - 0s 2ms/step\n",
      "107/107 [==============================] - 0s 2ms/step\n",
      "12/12 [==============================] - 0s 2ms/step\n",
      "107/107 [==============================] - 0s 2ms/step\n",
      "12/12 [==============================] - 0s 2ms/step\n",
      "107/107 [==============================] - 0s 2ms/step\n",
      "12/12 [==============================] - 0s 1ms/step\n"
     ]
    },
    {
     "data": {
      "text/plain": [
       "Text(0.5, 1.0, '[Internal][ST-DBMCv1]PeriHD + IntraHD Validation ROC-Curve')"
      ]
     },
     "execution_count": 15,
     "metadata": {},
     "output_type": "execute_result"
    },
    {
     "data": {
      "image/png": "[encoded data removed]",
      "text/plain": [
       "<Figure size 1200x500 with 2 Axes>"
      ]
     },
     "metadata": {},
     "output_type": "display_data"
    }
   ],
   "source": [
    "from keras.callbacks import EarlyStopping, ModelCheckpoint\n",
    "from sklearn.metrics import classification_report, roc_curve, precision_recall_curve, roc_auc_score\n",
    "from sklearn.metrics import confusion_matrix\n",
    "import matplotlib.pylab as plt\n",
    "def get_weight_path(fold, train_type):\n",
    "    return \"./model_weight/PeriHD_and_IntraHD/weights_{}_KFold={}[{}neg+pos-05-17-full-text-experiment].h5\".format(model_name_s,fold,train_type)\n",
    "# return \"./model_weight/PeriHD_and_IntraHD/weights_periHD_KFold={}[{}-only-merge-sequnece-resplit].h5\".format(fold,train_type)\n",
    "    # return \"./model_weight/PeriHD/weights_periHD_KFold={}[{}-only-merge-sequnece-resplit].h5\".format(fold,train_type)\n",
    "    \n",
    "kfold = StratifiedKFold(n_splits=5, shuffle=True, random_state=42)\n",
    "history_stack = []\n",
    "# fig, axs = plt.subplots(nrows=1, ncols=3, figsize=(19,5))\n",
    "fig, axs = plt.subplots(nrows=1, ncols=2, figsize=(12,5))\n",
    "CM_train = []\n",
    "CM_test = []\n",
    "eval = False\n",
    "train_type = model_name_s\n",
    "fold_no = 1\n",
    "\n",
    "in_shape = 512\n",
    "training_embedding_ = BERT_training_embeddings\n",
    "validation_embedding = BERT_validation_embeddings\n",
    "data_train = BERT_data_train\n",
    "data_valid = BERT_data_valid\n",
    "peri_best_ths = []\n",
    "train_binary_pred_and_score = []\n",
    "test_binary_pred_and_score = [ ]\n",
    "for train, test in kfold.split(training_embedding_, data_train['label'].values.tolist()):\n",
    "    weight_name = get_weight_path(fold_no, train_type)\n",
    "    cls_model = create_model(input_shape=(in_shape,))\n",
    "    if eval==False:\n",
    "        callbacks = [\n",
    "            EarlyStopping(     #EarlyStopping is BERTd to stop at the epoch where val_accuracy does not improve significantly\n",
    "                monitor='val_loss',\n",
    "                min_delta=1e-4,\n",
    "                patience=10,\n",
    "                verbose=0\n",
    "            ),\n",
    "            ModelCheckpoint(\n",
    "                filepath=weight_name,\n",
    "                monitor='val_loss', \n",
    "                mode='min', \n",
    "                save_best_only=True,\n",
    "                save_weights_only=True,\n",
    "                verbose=0\n",
    "            )\n",
    "        ]\n",
    "        history = cls_model.fit(training_embedding_[train], \n",
    "                data_train['label'].values[train], \n",
    "                batch_size=64, \n",
    "                validation_data=(training_embedding_[test], data_train['label'].values[test]), \n",
    "                epochs=300, \n",
    "                callbacks=callbacks,verbose=0)\n",
    "        history_stack.append(history)\n",
    "\n",
    "    elif eval==True:\n",
    "        cls_model.load_weights(weight_name)\n",
    "    train_pred = cls_model.predict(training_embedding_)\n",
    "    test_pred = cls_model.predict(validation_embedding)\n",
    "    # binary_pred = np.argmax(pred, axis=1)\n",
    "    train_binary_pred = (train_pred>0.5).astype(np.int8)\n",
    "    test_binary_pred = (test_pred>0.5).astype(np.int8)\n",
    "    train_binary_pred_and_score.append([train_pred, train_binary_pred])\n",
    "    test_binary_pred_and_score.append([test_pred, test_binary_pred])\n",
    "    \n",
    "    tn, fp, fn, tp = confusion_matrix(data_train['label'].values, train_binary_pred).ravel()\n",
    "    # CM_train.append([tn, fp, fn, tp])\n",
    "    CM_train.append([data_train['label'].values, train_binary_pred])\n",
    "    tn, fp, fn, tp = confusion_matrix(data_valid['label'].values, test_binary_pred).ravel()\n",
    "    # CM_test.append([tn, fp, fn, tp])\n",
    "    CM_test.append([data_valid['label'].values, test_binary_pred])\n",
    "    \n",
    "    fpr, tpr, thresholds = roc_curve(data_train['label'].values, train_pred, pos_label=1)\n",
    "    auc = roc_auc_score(data_train['label'].values, train_pred)\n",
    "    axs[0].plot(fpr, tpr, label = \"Train Fold-{} AUC: {}\".format(fold_no, round(auc, 4)))\n",
    "\n",
    "    fpr, tpr, thresholds = roc_curve(data_valid['label'].values, test_pred, pos_label=1)\n",
    "    peri_best_index = np.argmax(tpr-fpr)\n",
    "    peri_best_ths.append(thresholds[peri_best_index])\n",
    "    auc = roc_auc_score(data_valid['label'].values, test_pred)\n",
    "    axs[1].plot(fpr, tpr, label = \"Test  Fold-{} AUC: {}\".format(fold_no, round(auc, 4)))\n",
    "    fold_no=fold_no+1\n",
    "\n",
    "axs[0].plot([0,1],[0,1], linestyle='--')\n",
    "axs[1].plot([0,1],[0,1], linestyle='--')\n",
    "\n",
    "axs[0].legend()\n",
    "axs[0].set_xlabel(\"FPR\")\n",
    "axs[0].set_ylabel(\"TPR\")\n",
    "axs[0].set_title(f\"[Internal][{train_type}]PeriHD + IntraHD Train ROC-Curve\")\n",
    "axs[1].legend()\n",
    "axs[1].set_xlabel(\"FPR\")\n",
    "axs[1].set_ylabel(\"TPR\")\n",
    "axs[1].set_title(f\"[Internal][{train_type}]PeriHD + IntraHD Validation ROC-Curve\")"
   ]
  },
  {
   "cell_type": "code",
   "execution_count": 16,
   "metadata": {},
   "outputs": [],
   "source": [
    "# history_stack[0].history"
   ]
  },
  {
   "cell_type": "code",
   "execution_count": 17,
   "metadata": {},
   "outputs": [
    {
     "data": {
      "text/plain": [
       "[0.11912259, 0.11705557, 0.14957538, 0.246037, 0.060206573]"
      ]
     },
     "execution_count": 17,
     "metadata": {},
     "output_type": "execute_result"
    }
   ],
   "source": [
    "peri_best_ths"
   ]
  },
  {
   "cell_type": "code",
   "execution_count": 18,
   "metadata": {},
   "outputs": [],
   "source": [
    "from sklearn.metrics import precision_score, f1_score, recall_score, accuracy_score\n",
    "from sklearn.metrics import classification_report\n",
    "# 已標記資料效能評估\n",
    "def metric_calc(array_):\n",
    "    y_test, y_pred = array_\n",
    "    report = classification_report(y_test, y_pred, output_dict=True)\n",
    "    # macro_f1 = report['macro avg']['f1-score']\n",
    "    # weighted_f1 = report['weighted avg']['f1-score']\n",
    "    # macro_precision = report['macro avg']['precision']\n",
    "    # weighted_precision = report['weighted avg']['precision']\n",
    "    # macro_recall = report['macro avg']['recall']\n",
    "    # weighted_recall = report['weighted avg']['recall']\n",
    "    acc = accuracy_score(y_test, y_pred)\n",
    "    prec = precision_score(y_test, y_pred, average='macro')\n",
    "    sens = recall_score(y_test, y_pred, average='macro')\n",
    "    f1 = f1_score(y_test, y_pred, average='macro')\n",
    "    tn, fp, fn, tp = confusion_matrix(y_test, y_pred).ravel()\n",
    "    spec = tn/(tn+fp)\n",
    "    return acc, prec, sens, spec, f1\n",
    "\n",
    "def get_metric(arr):\n",
    "    mean_arr = np.mean(np.array(arr), axis=0)\n",
    "    std_arr = np.std(np.array(arr), axis=0)\n",
    "    return mean_arr, std_arr"
   ]
  },
  {
   "cell_type": "code",
   "execution_count": 19,
   "metadata": {},
   "outputs": [],
   "source": [
    "\n",
    "# CM_train = np.array(CM_train)\n",
    "# CM_test = np.array(CM_test)\n",
    "T_stack, t_stack = [],[]\n",
    "for T_ in CM_train:\n",
    "    T_stack.append(metric_calc(T_))\n",
    "    \n",
    "for t_ in CM_test:\n",
    "    t_stack.append(metric_calc(t_))\n",
    "#內部資料 - Train & Test\n",
    "mark_train_mean, mark_train_std = get_metric(T_stack)\n",
    "mark_test_mean, mark_test_std = get_metric(t_stack)\n",
    "mark_train = pd.DataFrame(['Accuracy','Precision [macro]', 'Sensitivity [macro]', 'Specificity', 'F1-score [macro]'], columns=[f'{train_type} Metric Train'])\n",
    "for T_, f in zip(T_stack,['fold-1','fold-2','fold-3','fold-4','fold-5']):mark_train[f] = np.round(T_,4)\n",
    "mark_train['Mean'] = np.round(mark_train_mean,4)\n",
    "mark_train['Std'] = np.round(mark_train_std,4)\n",
    "\n",
    "mark_test = pd.DataFrame(['Accuracy','Precision [macro]', 'Sensitivity [macro]', 'Specificity', 'F1-score [macro]'], columns=[f'{train_type} Metric Validation'])\n",
    "for t_, f in zip(t_stack,['fold-1','fold-2','fold-3','fold-4','fold-5']):mark_test[f] = np.round(t_,4)\n",
    "mark_test['Mean'] = np.round(mark_test_mean,4)\n",
    "mark_test['Std'] = np.round(mark_test_std,4)"
   ]
  },
  {
   "cell_type": "code",
   "execution_count": 20,
   "metadata": {},
   "outputs": [],
   "source": [
    "temp = {'Train&Valid斷句': [],'真實答案': [],'預測答案': [],'預測分數': []}\n",
    "for fold_result in train_binary_pred_and_score:\n",
    "    train_pred_singel = fold_result[0].flatten()\n",
    "    train_binary_pred_singel = np.round(fold_result[1].flatten(),3).astype(np.float16)\n",
    "    for i in zip(BERT_data_train['text'].tolist(), BERT_data_train['label'].tolist(),train_binary_pred_singel, train_pred_singel):\n",
    "        if i[1]!=i[2]:\n",
    "            temp['Train&Valid斷句'].append(i[0])\n",
    "            temp['真實答案'].append(i[1])\n",
    "            temp['預測答案'].append(i[2])\n",
    "            temp['預測分數'].append(i[3])\n",
    "\n",
    "for fold_result in test_binary_pred_and_score:\n",
    "    test_pred_singel = fold_result[0].flatten()\n",
    "    test_binary_pred_singel = np.round(fold_result[1].flatten(),3).astype(np.float16)\n",
    "    for i in zip(BERT_data_train['text'].tolist(), BERT_data_train['label'].tolist(),test_binary_pred_singel, test_pred_singel):\n",
    "        if i[1]!=i[2]:\n",
    "            temp['Train&Valid斷句'].append(i[0])\n",
    "            temp['真實答案'].append(i[1])\n",
    "            temp['預測答案'].append(i[2])\n",
    "            temp['預測分數'].append(i[3])\n",
    "\n",
    "failed_pf = pd.DataFrame(temp, columns=['Train&Valid斷句','真實答案','預測答案','預測分數'])"
   ]
  },
  {
   "cell_type": "code",
   "execution_count": 21,
   "metadata": {},
   "outputs": [],
   "source": [
    "# pd.set_option('display.max_rows', 1000)\n",
    "# pd.set_option('display.max_columns', 20)\n",
    "# failed_pf = failed_pf.drop_duplicates(subset='Train&Valid斷句')\n",
    "# failed_pf.to_csv(\"./total_fold_faild_predict.csv\", index=False, encoding='utf-8-sig')\n"
   ]
  },
  {
   "cell_type": "code",
   "execution_count": 22,
   "metadata": {},
   "outputs": [],
   "source": [
    "pd.set_option('display.max_rows', 1000)\n",
    "pd.set_option('display.max_columns', 20)\n",
    "temp = {'斷句': [],'真實答案': [],'預測答案': [],'預測分數': [], '資料型態': []}\n",
    "for i in zip(BERT_data_train['text'].tolist(), BERT_data_train['label'].tolist(),train_binary_pred.flatten(), train_pred.flatten(), BERT_data_train.datatype):\n",
    "    if i[1]!=i[2]:\n",
    "        temp['斷句'].append(i[0])\n",
    "        temp['真實答案'].append(i[1])\n",
    "        temp['預測答案'].append(i[2])\n",
    "        temp['預測分數'].append(np.round(i[3],3))\n",
    "        temp['資料型態'].append(i[4])\n",
    "train_failed_pf = pd.DataFrame(temp, columns=['斷句','真實答案','預測答案','預測分數', '資料型態'])"
   ]
  },
  {
   "cell_type": "code",
   "execution_count": 23,
   "metadata": {},
   "outputs": [],
   "source": [
    "temp = {'斷句': [],'真實答案': [],'預測答案': [],'預測分數': [], '資料型態': []}\n",
    "for i in zip(BERT_data_valid['text'].tolist(), BERT_data_valid['label'].tolist(),test_binary_pred.flatten(), test_pred.flatten(), BERT_data_valid.datatype):\n",
    "    if i[1]!=i[2]:\n",
    "        temp['斷句'].append(i[0])\n",
    "        temp['真實答案'].append(i[1])\n",
    "        temp['預測答案'].append(i[2])\n",
    "        temp['預測分數'].append(np.round(i[3],3))\n",
    "        temp['資料型態'].append(i[4])\n",
    "test_failed_pf = pd.DataFrame(temp, columns=['斷句','真實答案','預測答案','預測分數', '資料型態'])"
   ]
  },
  {
   "cell_type": "code",
   "execution_count": 24,
   "metadata": {},
   "outputs": [],
   "source": [
    "pd.concat([train_failed_pf, test_failed_pf]).to_csv(f\"./failed_predict_peri+intra_sentence_train&test[{model_name_s}][merge-neg+pos-fulltext].csv\", encoding='utf-8-sig', index=False)"
   ]
  },
  {
   "cell_type": "code",
   "execution_count": 25,
   "metadata": {},
   "outputs": [
    {
     "data": {
      "text/html": [
       "<div>\n",
       "<style scoped>\n",
       "    .dataframe tbody tr th:only-of-type {\n",
       "        vertical-align: middle;\n",
       "    }\n",
       "\n",
       "    .dataframe tbody tr th {\n",
       "        vertical-align: top;\n",
       "    }\n",
       "\n",
       "    .dataframe thead th {\n",
       "        text-align: right;\n",
       "    }\n",
       "</style>\n",
       "<table border=\"1\" class=\"dataframe\">\n",
       "  <thead>\n",
       "    <tr style=\"text-align: right;\">\n",
       "      <th></th>\n",
       "      <th>ST-DBMCv1 Metric Train</th>\n",
       "      <th>fold-1</th>\n",
       "      <th>fold-2</th>\n",
       "      <th>fold-3</th>\n",
       "      <th>fold-4</th>\n",
       "      <th>fold-5</th>\n",
       "      <th>Mean</th>\n",
       "      <th>Std</th>\n",
       "    </tr>\n",
       "  </thead>\n",
       "  <tbody>\n",
       "    <tr>\n",
       "      <th>0</th>\n",
       "      <td>Accuracy</td>\n",
       "      <td>0.9698</td>\n",
       "      <td>0.9672</td>\n",
       "      <td>0.9578</td>\n",
       "      <td>0.9575</td>\n",
       "      <td>0.9657</td>\n",
       "      <td>0.9636</td>\n",
       "      <td>0.0050</td>\n",
       "    </tr>\n",
       "    <tr>\n",
       "      <th>1</th>\n",
       "      <td>Precision [macro]</td>\n",
       "      <td>0.9590</td>\n",
       "      <td>0.9468</td>\n",
       "      <td>0.9417</td>\n",
       "      <td>0.9405</td>\n",
       "      <td>0.9672</td>\n",
       "      <td>0.9510</td>\n",
       "      <td>0.0104</td>\n",
       "    </tr>\n",
       "    <tr>\n",
       "      <th>2</th>\n",
       "      <td>Sensitivity [macro]</td>\n",
       "      <td>0.9570</td>\n",
       "      <td>0.9647</td>\n",
       "      <td>0.9409</td>\n",
       "      <td>0.9416</td>\n",
       "      <td>0.9366</td>\n",
       "      <td>0.9482</td>\n",
       "      <td>0.0108</td>\n",
       "    </tr>\n",
       "    <tr>\n",
       "      <th>3</th>\n",
       "      <td>Specificity</td>\n",
       "      <td>0.9812</td>\n",
       "      <td>0.9693</td>\n",
       "      <td>0.9728</td>\n",
       "      <td>0.9716</td>\n",
       "      <td>0.9916</td>\n",
       "      <td>0.9773</td>\n",
       "      <td>0.0082</td>\n",
       "    </tr>\n",
       "    <tr>\n",
       "      <th>4</th>\n",
       "      <td>F1-score [macro]</td>\n",
       "      <td>0.9580</td>\n",
       "      <td>0.9553</td>\n",
       "      <td>0.9413</td>\n",
       "      <td>0.9410</td>\n",
       "      <td>0.9508</td>\n",
       "      <td>0.9493</td>\n",
       "      <td>0.0070</td>\n",
       "    </tr>\n",
       "  </tbody>\n",
       "</table>\n",
       "</div>"
      ],
      "text/plain": [
       "  ST-DBMCv1 Metric Train  fold-1  fold-2  fold-3  fold-4  fold-5    Mean  \\\n",
       "0               Accuracy  0.9698  0.9672  0.9578  0.9575  0.9657  0.9636   \n",
       "1      Precision [macro]  0.9590  0.9468  0.9417  0.9405  0.9672  0.9510   \n",
       "2    Sensitivity [macro]  0.9570  0.9647  0.9409  0.9416  0.9366  0.9482   \n",
       "3            Specificity  0.9812  0.9693  0.9728  0.9716  0.9916  0.9773   \n",
       "4       F1-score [macro]  0.9580  0.9553  0.9413  0.9410  0.9508  0.9493   \n",
       "\n",
       "      Std  \n",
       "0  0.0050  \n",
       "1  0.0104  \n",
       "2  0.0108  \n",
       "3  0.0082  \n",
       "4  0.0070  "
      ]
     },
     "execution_count": 25,
     "metadata": {},
     "output_type": "execute_result"
    }
   ],
   "source": [
    "mark_train"
   ]
  },
  {
   "cell_type": "code",
   "execution_count": 26,
   "metadata": {},
   "outputs": [
    {
     "data": {
      "text/html": [
       "<div>\n",
       "<style scoped>\n",
       "    .dataframe tbody tr th:only-of-type {\n",
       "        vertical-align: middle;\n",
       "    }\n",
       "\n",
       "    .dataframe tbody tr th {\n",
       "        vertical-align: top;\n",
       "    }\n",
       "\n",
       "    .dataframe thead th {\n",
       "        text-align: right;\n",
       "    }\n",
       "</style>\n",
       "<table border=\"1\" class=\"dataframe\">\n",
       "  <thead>\n",
       "    <tr style=\"text-align: right;\">\n",
       "      <th></th>\n",
       "      <th>ST-DBMCv1 Metric Validation</th>\n",
       "      <th>fold-1</th>\n",
       "      <th>fold-2</th>\n",
       "      <th>fold-3</th>\n",
       "      <th>fold-4</th>\n",
       "      <th>fold-5</th>\n",
       "      <th>Mean</th>\n",
       "      <th>Std</th>\n",
       "    </tr>\n",
       "  </thead>\n",
       "  <tbody>\n",
       "    <tr>\n",
       "      <th>0</th>\n",
       "      <td>Accuracy</td>\n",
       "      <td>0.9211</td>\n",
       "      <td>0.9237</td>\n",
       "      <td>0.9000</td>\n",
       "      <td>0.9079</td>\n",
       "      <td>0.9079</td>\n",
       "      <td>0.9121</td>\n",
       "      <td>0.0089</td>\n",
       "    </tr>\n",
       "    <tr>\n",
       "      <th>1</th>\n",
       "      <td>Precision [macro]</td>\n",
       "      <td>0.9075</td>\n",
       "      <td>0.8913</td>\n",
       "      <td>0.8725</td>\n",
       "      <td>0.8779</td>\n",
       "      <td>0.9139</td>\n",
       "      <td>0.8926</td>\n",
       "      <td>0.0161</td>\n",
       "    </tr>\n",
       "    <tr>\n",
       "      <th>2</th>\n",
       "      <td>Sensitivity [macro]</td>\n",
       "      <td>0.8678</td>\n",
       "      <td>0.9002</td>\n",
       "      <td>0.8425</td>\n",
       "      <td>0.8630</td>\n",
       "      <td>0.8247</td>\n",
       "      <td>0.8597</td>\n",
       "      <td>0.0254</td>\n",
       "    </tr>\n",
       "    <tr>\n",
       "      <th>3</th>\n",
       "      <td>Specificity</td>\n",
       "      <td>0.9690</td>\n",
       "      <td>0.9448</td>\n",
       "      <td>0.9517</td>\n",
       "      <td>0.9483</td>\n",
       "      <td>0.9828</td>\n",
       "      <td>0.9593</td>\n",
       "      <td>0.0144</td>\n",
       "    </tr>\n",
       "    <tr>\n",
       "      <th>4</th>\n",
       "      <td>F1-score [macro]</td>\n",
       "      <td>0.8854</td>\n",
       "      <td>0.8956</td>\n",
       "      <td>0.8560</td>\n",
       "      <td>0.8701</td>\n",
       "      <td>0.8582</td>\n",
       "      <td>0.8731</td>\n",
       "      <td>0.0154</td>\n",
       "    </tr>\n",
       "  </tbody>\n",
       "</table>\n",
       "</div>"
      ],
      "text/plain": [
       "  ST-DBMCv1 Metric Validation  fold-1  fold-2  fold-3  fold-4  fold-5    Mean  \\\n",
       "0                    Accuracy  0.9211  0.9237  0.9000  0.9079  0.9079  0.9121   \n",
       "1           Precision [macro]  0.9075  0.8913  0.8725  0.8779  0.9139  0.8926   \n",
       "2         Sensitivity [macro]  0.8678  0.9002  0.8425  0.8630  0.8247  0.8597   \n",
       "3                 Specificity  0.9690  0.9448  0.9517  0.9483  0.9828  0.9593   \n",
       "4            F1-score [macro]  0.8854  0.8956  0.8560  0.8701  0.8582  0.8731   \n",
       "\n",
       "      Std  \n",
       "0  0.0089  \n",
       "1  0.0161  \n",
       "2  0.0254  \n",
       "3  0.0144  \n",
       "4  0.0154  "
      ]
     },
     "execution_count": 26,
     "metadata": {},
     "output_type": "execute_result"
    }
   ],
   "source": [
    "mark_test"
   ]
  },
  {
   "cell_type": "code",
   "execution_count": null,
   "metadata": {},
   "outputs": [],
   "source": []
  }
 ],
 "metadata": {
  "kernelspec": {
   "display_name": "yd_nlptf",
   "language": "python",
   "name": "python3"
  },
  "language_info": {
   "codemirror_mode": {
    "name": "ipython",
    "version": 3
   },
   "file_extension": ".py",
   "mimetype": "text/x-python",
   "name": "python",
   "nbconvert_exporter": "python",
   "pygments_lexer": "ipython3",
   "version": "3.9.15"
  },
  "orig_nbformat": 4,
  "vscode": {
   "interpreter": {
    "hash": "77a05f791b774c1311eb56e0a2c433b66341ac9a91a33433ad780b7802be94e4"
   }
  }
 },
 "nbformat": 4,
 "nbformat_minor": 2
}
