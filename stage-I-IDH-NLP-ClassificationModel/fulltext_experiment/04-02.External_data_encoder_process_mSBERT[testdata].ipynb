{
 "cells": [
  {
   "cell_type": "code",
   "execution_count": 1,
   "metadata": {},
   "outputs": [
    {
     "name": "stderr",
     "output_type": "stream",
     "text": [
      "2023-06-06 18:09:22.137676: I tensorflow/core/platform/cpu_feature_guard.cc:193] This TensorFlow binary is optimized with oneAPI Deep Neural Network Library (oneDNN) to use the following CPU instructions in performance-critical operations:  AVX2 AVX512F AVX512_VNNI FMA\n",
      "To enable them in other operations, rebuild TensorFlow with the appropriate compiler flags.\n",
      "2023-06-06 18:09:22.288634: I tensorflow/core/util/port.cc:104] oneDNN custom operations are on. You may see slightly different numerical results due to floating-point round-off errors from different computation orders. To turn them off, set the environment variable `TF_ENABLE_ONEDNN_OPTS=0`.\n",
      "2023-06-06 18:09:22.874711: W tensorflow/compiler/xla/stream_executor/platform/default/dso_loader.cc:64] Could not load dynamic library 'libnvinfer.so.7'; dlerror: libnvinfer.so.7: cannot open shared object file: No such file or directory\n",
      "2023-06-06 18:09:22.874786: W tensorflow/compiler/xla/stream_executor/platform/default/dso_loader.cc:64] Could not load dynamic library 'libnvinfer_plugin.so.7'; dlerror: libnvinfer_plugin.so.7: cannot open shared object file: No such file or directory\n",
      "2023-06-06 18:09:22.874792: W tensorflow/compiler/tf2tensorrt/utils/py_utils.cc:38] TF-TRT Warning: Cannot dlopen some TensorRT libraries. If you would like to use Nvidia GPU with TensorRT, please make sure the missing libraries mentioned above are installed properly.\n"
     ]
    }
   ],
   "source": [
    "import numpy as np, pandas as pd, torch,os, glob, pickle\n",
    "from sentence_transformers import SentenceTransformer, util\n",
    "import tensorflow_hub as hub\n",
    "import tensorflow_text\n",
    "from sklearn.model_selection import train_test_split\n",
    "from sklearn.model_selection import KFold\n",
    "ST_BERT = text_model = SentenceTransformer('distiluse-base-multilingual-cased-v1')\n",
    "os.environ[\"CUDA_VISIBLE_DEVICES\"] = \"6\"\n",
    "COS_ = 1 # COS_=1: only sentence data, =2: do COS function \n",
    "model_name = \"ST-DBMCv1\""
   ]
  },
  {
   "cell_type": "code",
   "execution_count": 2,
   "metadata": {},
   "outputs": [],
   "source": [
    "save_path = '/ssd8/chih/project/yadong/predict_baseline_version02_ACM_stage1/other_experiment/dataset/baseline-testdataset_pickle_save'\n",
    "if COS_==0:\n",
    "    save_folder = 'sample_500_seed_42_feature'\n",
    "else:\n",
    "    save_folder = 'sample_500_seed_42_feature_only_sentence'\n",
    "save_model_type = model_name\n",
    "os.makedirs(os.path.join(save_path, save_folder, save_model_type), exist_ok=True)"
   ]
  },
  {
   "attachments": {},
   "cell_type": "markdown",
   "metadata": {},
   "source": [
    "## ADD doctor free-text label"
   ]
  },
  {
   "cell_type": "code",
   "execution_count": 3,
   "metadata": {},
   "outputs": [
    {
     "name": "stdout",
     "output_type": "stream",
     "text": [
      "(497, 4) (497, 4)\n"
     ]
    }
   ],
   "source": [
    "testdata_mark_periHD = pd.read_csv(\"../dataset/PeriHD_ExternalData_05-17.csv\")\n",
    "testdata_mark_intraHD = pd.read_csv(\"../dataset/IntraHD_ExternalData_05-17.csv\")\n",
    "testdata_mark_periHD['病人透析時間'] = pd.to_datetime(testdata_mark_periHD['病人透析時間'])\n",
    "testdata_mark_intraHD['病人透析時間'] = pd.to_datetime(testdata_mark_intraHD['病人透析時間'])\n",
    "print(testdata_mark_periHD.shape, testdata_mark_intraHD.shape)"
   ]
  },
  {
   "cell_type": "code",
   "execution_count": 6,
   "metadata": {},
   "outputs": [],
   "source": [
    "#pickle loading\n",
    "USD_data_test_pkl = glob.glob(\"./dataset/baseline-testdataset_pickle_save/sample_500_seed_42/*.pkl\")\n",
    "break_count = 0\n",
    "for next_pkl in (USD_data_test_pkl):\n",
    "    save_list = os.listdir(os.path.join(save_path,save_folder))\n",
    "    with open(next_pkl, 'rb') as f:\n",
    "        singel_patient_df = pickle.load(f)\n",
    "        single_patient_periHD = singel_patient_df['PeriHD']\n",
    "        single_patient_intraHD = singel_patient_df['IntraHD']\n",
    "        try:\n",
    "            intraHD_same_time = testdata_mark_intraHD[testdata_mark_intraHD['病人透析時間']==list(single_patient_intraHD['洗腎紀錄時間'])[0]]\n",
    "            intraHD_answer = intraHD_same_time.label.values[0]\n",
    "            peirHD_same_time = testdata_mark_periHD[testdata_mark_periHD['病人透析時間']==single_patient_periHD['洗腎紀錄時間']]\n",
    "            periHD_answer = peirHD_same_time.label.values[0]\n",
    "        \n",
    "        except:\n",
    "            if single_patient_periHD['ID'] == \"06821J282\":\n",
    "                periHD_answer = 0\n",
    "                intraHD_answer = 0\n",
    "            if single_patient_periHD['ID'] == \"7845777\":\n",
    "                periHD_answer = 0\n",
    "                intraHD_answer = 0\n",
    "        # print(\"I_ANS: {} P_ANS: {}\".format(intraHD_answer, periHD_answer))\n",
    "        # 轉換IntraHD和PeriHD的斷句特徵\n",
    "        # IntraHD\n",
    "        save_name = \"baseline_01_sample_500_feature_ID-{}-DateTime-{}.pkl\".format(singel_patient_df['ID'], str(singel_patient_df['DateTime']).replace(':','-').replace(' ','-'))\n",
    "        if save_name not in save_list:\n",
    "            # break\n",
    "            IntraHD_data = single_patient_intraHD['處置其他+症狀處置（描述）'].astype(str).to_list()\n",
    "\n",
    "            IntraHD_feature = ST_BERT.encode(IntraHD_data)\n",
    "            # PeriHD處置其他結束\n",
    "            if COS_==0:\n",
    "                PeriHD_data = str(single_patient_periHD['處置其他結束'])\n",
    "                PeriHD_feature = ST_BERT.encode(PeriHD_data)\n",
    "            elif COS_==1:\n",
    "                text = str(single_patient_periHD['處置其他結束']).replace('\\t','').replace('\\n','').replace('。','，').replace(',','，')\n",
    "                text_sp = np.array([i for i in text.split('，') if len(i)>1])\n",
    "                PeriHD_data = []\n",
    "                for i in range(len(text_sp)-1):\n",
    "                    PeriHD_data.append(text_sp[i])\n",
    "                if len(text_sp)==1:\n",
    "                    PeriHD_data.append(text_sp[0])\n",
    "                PeriHD_feature = ST_BERT.encode(PeriHD_data)\n",
    "            with open(os.path.join(save_path, save_folder, save_model_type, \"baseline_01_sample_500_feature_ID-{}-DateTime-{}.pkl\".format(singel_patient_df['ID'], str(singel_patient_df['DateTime']).replace(':','-').replace(' ','-'))), \"wb\") as f:\n",
    "                new_pickle_feature = {'ID':singel_patient_df['ID'], 'DateTime': singel_patient_df['DateTime'], \n",
    "                                    'PeriHD_data_sbp':single_patient_periHD['NEW開始血壓SBP'],\n",
    "                                    'PeriHD_data_dbp':single_patient_periHD['NEW開始血壓DBP'],\n",
    "                                    'PeriHD_Feature': PeriHD_feature, \n",
    "                                    'PeriHD_context': PeriHD_data,\n",
    "                                    'PeriHD_answer': periHD_answer, \n",
    "                                    'IntraHD_data_sbp':single_patient_intraHD['sbp'],\n",
    "                                    'IntraHD_data_dbp':single_patient_intraHD['dbp'],                        \n",
    "                                    'IntraHD_Feature': IntraHD_feature,\n",
    "                                    'IntraHD_context': IntraHD_data,\n",
    "                                    'IntraHD_answer': intraHD_answer,\n",
    "                                    'IDH_answer':1 if periHD_answer+intraHD_answer!=0 else 0}\n",
    "                # break\n",
    "                pickle.dump(new_pickle_feature, f)\n",
    "            # del new_pickle_feature, IntraHD_feature, PeriHD_feature\n",
    "            # break"
   ]
  },
  {
   "cell_type": "code",
   "execution_count": null,
   "metadata": {},
   "outputs": [],
   "source": []
  }
 ],
 "metadata": {
  "kernelspec": {
   "display_name": "yd_nlptf",
   "language": "python",
   "name": "python3"
  },
  "language_info": {
   "codemirror_mode": {
    "name": "ipython",
    "version": 3
   },
   "file_extension": ".py",
   "mimetype": "text/x-python",
   "name": "python",
   "nbconvert_exporter": "python",
   "pygments_lexer": "ipython3",
   "version": "3.9.15"
  },
  "orig_nbformat": 4
 },
 "nbformat": 4,
 "nbformat_minor": 2
}
