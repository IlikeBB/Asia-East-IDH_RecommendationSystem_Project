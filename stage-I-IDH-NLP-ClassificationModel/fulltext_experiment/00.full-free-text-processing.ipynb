{
 "cells": [
  {
   "cell_type": "code",
   "execution_count": 1,
   "metadata": {},
   "outputs": [],
   "source": [
    "import pandas as pd, numpy as np,os"
   ]
  },
  {
   "cell_type": "code",
   "execution_count": 2,
   "metadata": {},
   "outputs": [
    {
     "name": "stdout",
     "output_type": "stream",
     "text": [
      "(2693, 2)\n"
     ]
    }
   ],
   "source": [
    "sample_pick_693 = pd.read_csv('../../mark_csv/train_peri_mark_sample_693_JYY.csv')\n",
    "sample_pick_2000 = pd.read_csv(\"../../process_csv/PeriHD_not_markdata-sampe2000.csv\")\n",
    "sampe_2693_periHD = pd.concat([sample_pick_2000, sample_pick_693])\n",
    "sampe_2693_periHD['answer'] = [0]*len(sampe_2693_periHD)\n",
    "sampe_2693_periHD = sampe_2693_periHD[['處置其他結束（描述）','answer']]\n",
    "print(sampe_2693_periHD.shape)"
   ]
  },
  {
   "cell_type": "code",
   "execution_count": 3,
   "metadata": {},
   "outputs": [
    {
     "name": "stdout",
     "output_type": "stream",
     "text": [
      "(5548, 2)\n",
      "(568, 2)\n"
     ]
    }
   ],
   "source": [
    "pos_neg_csv = pd.read_csv('../dataset/PeriHD_InternalData_05-17.csv')\n",
    "print(pos_neg_csv.shape)\n",
    "get_pos_csv = pos_neg_csv[pos_neg_csv['label']==1]\n",
    "print(get_pos_csv.shape)"
   ]
  },
  {
   "cell_type": "code",
   "execution_count": 4,
   "metadata": {},
   "outputs": [],
   "source": [
    "get_pos_csv = get_pos_csv.applymap(lambda x: x.lstrip() if isinstance(x, str) else x) #dele space format\n",
    "search_list = list(get_pos_csv['處置其他結束（描述）'])\n",
    "sampe_2693_periHD['處置其他結束（描述）'] = sampe_2693_periHD['處置其他結束（描述）'].astype(str)"
   ]
  },
  {
   "cell_type": "code",
   "execution_count": 5,
   "metadata": {},
   "outputs": [],
   "source": [
    "def check_contains(row):\n",
    "    for item in search_list:\n",
    "        try:\n",
    "            if str(item) in row['處置其他結束（描述）']:\n",
    "                return 1\n",
    "        except:\n",
    "            print(str(item))\n",
    "    return 0"
   ]
  },
  {
   "cell_type": "code",
   "execution_count": 6,
   "metadata": {},
   "outputs": [
    {
     "name": "stdout",
     "output_type": "stream",
     "text": [
      "(2669, 3)\n"
     ]
    }
   ],
   "source": [
    "sampe_2693_periHD['label'] = sampe_2693_periHD.apply(check_contains, axis=1)\n",
    "sampe_2693_periHD = sampe_2693_periHD.dropna(subset=['處置其他結束（描述）'])\n",
    "sampe_2693_periHD = sampe_2693_periHD[~sampe_2693_periHD['處置其他結束（描述）'].str.contains('nan')]\n",
    "print(sampe_2693_periHD.shape)"
   ]
  },
  {
   "cell_type": "code",
   "execution_count": 7,
   "metadata": {},
   "outputs": [],
   "source": [
    "save_path = 'dataset'\n",
    "os.makedirs(os.path.join(save_path), exist_ok=True)\n",
    "sampe_2693_periHD.to_csv(os.path.join(save_path,'PeriHD_InternalData_05-17[full-text].csv'), encoding='utf-8-sig',index=False)"
   ]
  },
  {
   "cell_type": "code",
   "execution_count": null,
   "metadata": {},
   "outputs": [],
   "source": []
  }
 ],
 "metadata": {
  "kernelspec": {
   "display_name": "yd_nlptf",
   "language": "python",
   "name": "python3"
  },
  "language_info": {
   "codemirror_mode": {
    "name": "ipython",
    "version": 3
   },
   "file_extension": ".py",
   "mimetype": "text/x-python",
   "name": "python",
   "nbconvert_exporter": "python",
   "pygments_lexer": "ipython3",
   "version": "3.9.15"
  },
  "orig_nbformat": 4
 },
 "nbformat": 4,
 "nbformat_minor": 2
}
