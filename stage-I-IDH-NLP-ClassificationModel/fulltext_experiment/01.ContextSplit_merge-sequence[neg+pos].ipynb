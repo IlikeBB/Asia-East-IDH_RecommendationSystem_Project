{
 "cells": [
  {
   "cell_type": "code",
   "execution_count": 8,
   "metadata": {},
   "outputs": [],
   "source": [
    "import pandas as pd, numpy as np, os\n",
    "from sklearn.model_selection import train_test_split\n",
    "from tqdm.notebook import tqdm"
   ]
  },
  {
   "cell_type": "code",
   "execution_count": 9,
   "metadata": {},
   "outputs": [
    {
     "name": "stdout",
     "output_type": "stream",
     "text": [
      "(2669, 3)\n"
     ]
    }
   ],
   "source": [
    "get_2693_sample_df = pd.read_csv('./dataset/PeriHD_InternalData_05-17[full-text].csv')\n",
    "\n",
    "print(get_2693_sample_df.shape)"
   ]
  },
  {
   "cell_type": "code",
   "execution_count": 10,
   "metadata": {},
   "outputs": [],
   "source": [
    "data_train, data_test = train_test_split(get_2693_sample_df, test_size=0.1, random_state=42, stratify=get_2693_sample_df['label'])"
   ]
  },
  {
   "cell_type": "code",
   "execution_count": 11,
   "metadata": {},
   "outputs": [
    {
     "name": "stdout",
     "output_type": "stream",
     "text": [
      "(2402, 3)\n"
     ]
    }
   ],
   "source": [
    "print(data_train.shape)"
   ]
  },
  {
   "cell_type": "code",
   "execution_count": 12,
   "metadata": {},
   "outputs": [],
   "source": [
    "data_train = data_train.rename(columns={'label':'Truth'})\n",
    "data_test = data_test.rename(columns={'label':'Truth'})\n",
    "os.makedirs(os.path.join('./dataset/','pre-processing'), exist_ok=True)"
   ]
  },
  {
   "cell_type": "code",
   "execution_count": 13,
   "metadata": {},
   "outputs": [],
   "source": [
    "data_train.to_csv(\"./dataset/pre-processing/PeriHD_Sentence-merge_internal-train[pos+neg].csv\", encoding='utf-8-sig', index=False)"
   ]
  },
  {
   "cell_type": "code",
   "execution_count": 14,
   "metadata": {},
   "outputs": [],
   "source": [
    "data_test.to_csv(\"./dataset/pre-processing/PeriHD_Sentence-merge_internal-test[pos+neg].csv\", encoding='utf-8-sig', index=False)"
   ]
  },
  {
   "cell_type": "code",
   "execution_count": 15,
   "metadata": {},
   "outputs": [
    {
     "name": "stdout",
     "output_type": "stream",
     "text": [
      "(1124, 2)\n",
      "(1011, 2) (113, 2)\n"
     ]
    }
   ],
   "source": [
    "get_1124_sample_df = pd.read_csv(\"../dataset/IntraHD_InternalData_05-17.csv\")\n",
    "# get_1124_sample_df = get_1124_sample_df.rename(columns={'truth':'label'})\n",
    "get_1124_sample_df = get_1124_sample_df.dropna()\n",
    "print(get_1124_sample_df.shape)\n",
    "data_train, data_test = train_test_split(get_1124_sample_df, test_size=0.1, random_state=42, stratify=get_1124_sample_df['label'])\n",
    "data_train.to_csv(\"./dataset/pre-processing/IntraHD_Sentence_internal-train.csv\", encoding='utf-8-sig', index=False)\n",
    "data_test.to_csv(\"./dataset/pre-processing/IntraHD_Sentence_internal-test.csv\", encoding='utf-8-sig', index=False)\n",
    "print(data_train.shape, data_test.shape)"
   ]
  },
  {
   "cell_type": "code",
   "execution_count": 20,
   "metadata": {},
   "outputs": [],
   "source": [
    "# pd.set_option('display.max_rows', 1000)\n",
    "# pd.set_option('display.max_columns', 20)\n",
    "# data_test"
   ]
  },
  {
   "cell_type": "code",
   "execution_count": null,
   "metadata": {},
   "outputs": [],
   "source": []
  }
 ],
 "metadata": {
  "kernelspec": {
   "display_name": "yd_nlptf",
   "language": "python",
   "name": "python3"
  },
  "language_info": {
   "codemirror_mode": {
    "name": "ipython",
    "version": 3
   },
   "file_extension": ".py",
   "mimetype": "text/x-python",
   "name": "python",
   "nbconvert_exporter": "python",
   "pygments_lexer": "ipython3",
   "version": "3.9.15"
  },
  "orig_nbformat": 4,
  "vscode": {
   "interpreter": {
    "hash": "77a05f791b774c1311eb56e0a2c433b66341ac9a91a33433ad780b7802be94e4"
   }
  }
 },
 "nbformat": 4,
 "nbformat_minor": 2
}
