{
 "cells": [
  {
   "cell_type": "code",
   "execution_count": 1,
   "metadata": {},
   "outputs": [
    {
     "name": "stderr",
     "output_type": "stream",
     "text": [
      "2023-06-01 15:24:34.165285: I tensorflow/core/platform/cpu_feature_guard.cc:193] This TensorFlow binary is optimized with oneAPI Deep Neural Network Library (oneDNN) to use the following CPU instructions in performance-critical operations:  AVX2 AVX512F AVX512_VNNI FMA\n",
      "To enable them in other operations, rebuild TensorFlow with the appropriate compiler flags.\n",
      "2023-06-01 15:24:34.341903: I tensorflow/core/util/port.cc:104] oneDNN custom operations are on. You may see slightly different numerical results due to floating-point round-off errors from different computation orders. To turn them off, set the environment variable `TF_ENABLE_ONEDNN_OPTS=0`.\n",
      "2023-06-01 15:24:35.074940: W tensorflow/compiler/xla/stream_executor/platform/default/dso_loader.cc:64] Could not load dynamic library 'libnvinfer.so.7'; dlerror: libnvinfer.so.7: cannot open shared object file: No such file or directory\n",
      "2023-06-01 15:24:35.075038: W tensorflow/compiler/xla/stream_executor/platform/default/dso_loader.cc:64] Could not load dynamic library 'libnvinfer_plugin.so.7'; dlerror: libnvinfer_plugin.so.7: cannot open shared object file: No such file or directory\n",
      "2023-06-01 15:24:35.075045: W tensorflow/compiler/tf2tensorrt/utils/py_utils.cc:38] TF-TRT Warning: Cannot dlopen some TensorRT libraries. If you would like to use Nvidia GPU with TensorRT, please make sure the missing libraries mentioned above are installed properly.\n"
     ]
    }
   ],
   "source": [
    "import numpy as np, pandas as pd, torch,os\n",
    "from sentence_transformers import SentenceTransformer, util\n",
    "import tensorflow_hub as hub\n",
    "import tensorflow_text\n",
    "from sklearn.model_selection import train_test_split\n",
    "from sklearn.model_selection import KFold\n",
    "ST_BERT = text_model = SentenceTransformer('distiluse-base-multilingual-cased-v1')\n",
    "os.environ[\"CUDA_VISIBLE_DEVICES\"] = \"7\""
   ]
  },
  {
   "cell_type": "code",
   "execution_count": 2,
   "metadata": {},
   "outputs": [],
   "source": [
    "import pickle"
   ]
  },
  {
   "cell_type": "code",
   "execution_count": 3,
   "metadata": {},
   "outputs": [
    {
     "name": "stdout",
     "output_type": "stream",
     "text": [
      "(1011, 2) (113, 2)\n"
     ]
    }
   ],
   "source": [
    "data_train = pd.read_csv(\"./dataset/pre-processing/IntraHD_Sentence_internal-train.csv\")\n",
    "# data_train['label'] = [1 if i=='Y' else 0 for i in data_train.label.values.tolist()]\n",
    "data_valid = pd.read_csv(\"./dataset/pre-processing/IntraHD_Sentence_internal-test.csv\")\n",
    "# data_valid['label'] = [1 if i=='Y' else 0 for i in data_valid.label.values.tolist()]\n",
    "print(data_train.shape, data_valid.shape)"
   ]
  },
  {
   "cell_type": "code",
   "execution_count": 4,
   "metadata": {},
   "outputs": [
    {
     "name": "stdout",
     "output_type": "stream",
     "text": [
      "683 328\n",
      "76 37\n"
     ]
    }
   ],
   "source": [
    "print(len(data_train.label.values)-sum(data_train.label.values), sum(data_train.label.values))\n",
    "print(len(data_valid.label.values)-sum(data_valid.label.values), sum(data_valid.label.values))"
   ]
  },
  {
   "cell_type": "code",
   "execution_count": 5,
   "metadata": {},
   "outputs": [],
   "source": [
    "# pd.set_option('display.max_rows', 2000)\n",
    "# pd.set_option('display.max_columns', 20)\n",
    "# data_train[data_train.label==1]"
   ]
  },
  {
   "cell_type": "code",
   "execution_count": 6,
   "metadata": {},
   "outputs": [],
   "source": [
    "save_path = \"/ssd8/chih/project/yadong/predict_baseline_version02_ACM/dataset/IntraHD_pickle_save_05-17\"\n",
    "model_name_s = 'ST-DBMCv1'\n",
    "save_type_folder = [f'{model_name_s}_sample1124_sequence_fullcontext']\n",
    "for save_type_folder_ls in save_type_folder:\n",
    "    for dp in ['','train','valid','test']:\n",
    "        os.makedirs(os.path.join(save_path, save_type_folder_ls, dp), exist_ok=True)"
   ]
  },
  {
   "cell_type": "code",
   "execution_count": 7,
   "metadata": {},
   "outputs": [],
   "source": [
    "BERT_training_embeddings=[]\n",
    "run_data = data_train['處置其他+症狀處置（描述）'].astype(str).to_list()\n",
    "BERT_training_embeddings = ST_BERT.encode(run_data)\n",
    "save_folder = save_type_folder[0]\n",
    "# save_folder = \"USD_sample2693_contextsplit\"\n",
    "for idx, (embed_, text_, label_) in enumerate(zip(BERT_training_embeddings, data_train['處置其他+症狀處置（描述）'].to_list(),data_train['label'].to_list())):\n",
    "    with open(os.path.join(save_path, save_folder, \"train\", \"train_{}_internal_pk_data_{}_fixed_re-marked_merge.pkl\".format(model_name_s, idx)), \"wb\") as f:\n",
    "        save_dict = {\"embed\": embed_, \"text\": text_, \"label\": label_}\n",
    "        pickle.dump(save_dict, f)"
   ]
  },
  {
   "cell_type": "code",
   "execution_count": 8,
   "metadata": {},
   "outputs": [],
   "source": [
    "BERT_validation_embeddings=[]\n",
    "run_data = data_valid['處置其他+症狀處置（描述）'].astype(str).to_list()\n",
    "BERT_validation_embeddings = ST_BERT.encode(run_data)\n",
    "save_folder = save_type_folder[0]\n",
    "# save_folder = \"USD_sample2693_contextsplit\"\n",
    "for idx, (embed_, text_, label_) in enumerate(zip(BERT_validation_embeddings, data_valid['處置其他+症狀處置（描述）'].to_list(),data_valid['label'].to_list())):\n",
    "    with open(os.path.join(save_path, save_folder, \"valid\", \"valid_{}_internal_pk_data_{}_fixed_re-marked_merge.pkl\".format(model_name_s, idx)), \"wb\") as f:\n",
    "        save_dict = {\"embed\": embed_, \"text\": text_, \"label\": label_}\n",
    "        pickle.dump(save_dict, f)"
   ]
  },
  {
   "cell_type": "code",
   "execution_count": null,
   "metadata": {},
   "outputs": [],
   "source": []
  }
 ],
 "metadata": {
  "kernelspec": {
   "display_name": "yd_nlptf",
   "language": "python",
   "name": "python3"
  },
  "language_info": {
   "codemirror_mode": {
    "name": "ipython",
    "version": 3
   },
   "file_extension": ".py",
   "mimetype": "text/x-python",
   "name": "python",
   "nbconvert_exporter": "python",
   "pygments_lexer": "ipython3",
   "version": "3.9.15"
  },
  "orig_nbformat": 4
 },
 "nbformat": 4,
 "nbformat_minor": 2
}
