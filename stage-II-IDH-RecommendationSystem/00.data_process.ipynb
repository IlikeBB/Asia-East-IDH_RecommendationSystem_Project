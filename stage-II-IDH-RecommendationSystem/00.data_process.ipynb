{
 "cells": [
  {
   "cell_type": "code",
   "execution_count": 41,
   "metadata": {},
   "outputs": [],
   "source": [
    "import pandas as pd, numpy as np, re, os, glob"
   ]
  },
  {
   "cell_type": "code",
   "execution_count": 25,
   "metadata": {},
   "outputs": [
    {
     "name": "stderr",
     "output_type": "stream",
     "text": [
      "/var/folders/bh/sd4z8w4n5_z9223mbfs7x9fr0000gn/T/ipykernel_10339/183918180.py:1: DtypeWarning: Columns (6,7,8,39,40,41) have mixed types. Specify dtype option on import or set low_memory=False.\n",
      "  Train = pd.read_csv('../../Dialysis_Hypotension/IDH_full_freetext_data/final_filter_train_full_2693_PeriHD.csv')\n",
      "/var/folders/bh/sd4z8w4n5_z9223mbfs7x9fr0000gn/T/ipykernel_10339/183918180.py:3: DtypeWarning: Columns (1,6,7,8,9,41) have mixed types. Specify dtype option on import or set low_memory=False.\n",
      "  full_PeriHD = pd.read_csv('../../encrypt/full_ready_perHD.csv')\n"
     ]
    }
   ],
   "source": [
    "Train = pd.read_csv('.//final_filter_train_full_2693_PeriHD.csv')\n",
    "Test = pd.read_csv('/Users/monoaki/vs_code/亞東/encrypt/baseline_01_sample_500-test_periHD.csv')\n",
    "full_PeriHD = pd.read_csv('../../encrypt/full_ready_perHD.csv')\n",
    "Train_ID = Train['ID'].astype(str).drop_duplicates()\n",
    "Test_ID = Test['ID'].astype(str).drop_duplicates()"
   ]
  },
  {
   "cell_type": "code",
   "execution_count": 28,
   "metadata": {},
   "outputs": [
    {
     "name": "stdout",
     "output_type": "stream",
     "text": [
      "(1785,) (357,) (1814, 1) (272301, 65)\n"
     ]
    }
   ],
   "source": [
    "overall_ID = pd.concat([Train_ID,Test_ID]).drop_duplicates()\n",
    "overall_ID = pd.DataFrame(overall_ID.to_list(),columns=['ID'])\n",
    "full_PeriHD = full_PeriHD.sort_values(by=['ID','洗腎紀錄時間'])\n",
    "full_PeriHD_baseline = pd.merge(full_PeriHD, overall_ID, on='ID', how='inner')\n",
    "full_PeriHD_baseline['ID'] = full_PeriHD_baseline['ID'].astype(str)\n",
    "print(Train_ID.shape, Test_ID.shape, overall_ID.shape, full_PeriHD_baseline.shape)"
   ]
  },
  {
   "cell_type": "code",
   "execution_count": 29,
   "metadata": {},
   "outputs": [],
   "source": [
    "\n",
    "full_PeriHD_baseline['開始血壓DBP'] = full_PeriHD_baseline['NEW開始血壓DBP']\n",
    "full_PeriHD_baseline['開始血壓SBP'] = full_PeriHD_baseline['NEW開始血壓SBP']\n",
    "full_PeriHD_baseline = full_PeriHD_baseline.drop('NEW開始血壓DBP', axis=1)\n",
    "full_PeriHD_baseline = full_PeriHD_baseline.drop('NEW開始血壓SBP', axis=1)\n",
    "full_PeriHD_baseline = full_PeriHD_baseline.drop('ID-第幾次住院', axis=1)\n",
    "full_PeriHD_baseline = full_PeriHD_baseline.drop('INDEX', axis=1)"
   ]
  },
  {
   "cell_type": "code",
   "execution_count": 36,
   "metadata": {},
   "outputs": [],
   "source": [
    "new_full_PeriHD = pd.DataFrame([],columns=full_PeriHD_baseline.columns.to_list())\n",
    "full_PeriHD_baseline_ID = full_PeriHD_baseline.drop_duplicates(subset='ID').drop_duplicates().astype(str)\n",
    "spacing_block = 0\n",
    "for ID in full_PeriHD_baseline_ID['ID']:\n",
    "    get_select_ID_DF = full_PeriHD_baseline[full_PeriHD_baseline['ID']==str(ID)]\n",
    "    if get_select_ID_DF.shape[0]>=12:\n",
    "        new_full_PeriHD = pd.concat([new_full_PeriHD, get_select_ID_DF])\n",
    "        spacing_block+=1\n",
    "    "
   ]
  },
  {
   "cell_type": "code",
   "execution_count": 40,
   "metadata": {},
   "outputs": [],
   "source": [
    "new_full_PeriHD.to_csv('../../encrypt/full_ready_periHD_for_stage_2.csv')"
   ]
  },
  {
   "cell_type": "code",
   "execution_count": null,
   "metadata": {},
   "outputs": [],
   "source": []
  }
 ],
 "metadata": {
  "kernelspec": {
   "display_name": "yadong_nlp",
   "language": "python",
   "name": "python3"
  },
  "language_info": {
   "codemirror_mode": {
    "name": "ipython",
    "version": 3
   },
   "file_extension": ".py",
   "mimetype": "text/x-python",
   "name": "python",
   "nbconvert_exporter": "python",
   "pygments_lexer": "ipython3",
   "version": "3.8.15"
  },
  "orig_nbformat": 4
 },
 "nbformat": 4,
 "nbformat_minor": 2
}
