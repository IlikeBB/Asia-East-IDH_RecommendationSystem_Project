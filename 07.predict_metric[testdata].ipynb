{
 "cells": [
  {
   "cell_type": "code",
   "execution_count": 1,
   "metadata": {},
   "outputs": [],
   "source": [
    "import pandas as pd, numpy as np\n",
    "import matplotlib.pylab as plt\n",
    "from sklearn.metrics import precision_score, f1_score, recall_score, accuracy_score, roc_curve\n",
    "from sklearn.metrics import classification_report, confusion_matrix, roc_auc_score"
   ]
  },
  {
   "cell_type": "code",
   "execution_count": 2,
   "metadata": {},
   "outputs": [],
   "source": [
    "predict_table = pd.read_excel('./baseline_predict_test_sample500_intra+peri_20230409.xlsx')"
   ]
  },
  {
   "cell_type": "code",
   "execution_count": 4,
   "metadata": {},
   "outputs": [],
   "source": [
    "def metric_calc(array_, typex_, ths):\n",
    "    y_test, y_pred = array_\n",
    "    report = classification_report(y_test, y_pred, output_dict=True)\n",
    "    acc = accuracy_score(y_test, y_pred)\n",
    "    prec = precision_score(y_test, y_pred, average='macro')\n",
    "    sens = recall_score(y_test, y_pred, average='macro')\n",
    "    f1 = f1_score(y_test, y_pred, average='macro')\n",
    "    tn, fp, fn, tp = confusion_matrix(y_test, y_pred).ravel()\n",
    "    spec = tn/(tn+fp)\n",
    "    return [typex_, ths, acc, prec, sens, spec, f1]"
   ]
  },
  {
   "cell_type": "code",
   "execution_count": 5,
   "metadata": {},
   "outputs": [
    {
     "data": {
      "text/html": [
       "<div>\n",
       "<style scoped>\n",
       "    .dataframe tbody tr th:only-of-type {\n",
       "        vertical-align: middle;\n",
       "    }\n",
       "\n",
       "    .dataframe tbody tr th {\n",
       "        vertical-align: top;\n",
       "    }\n",
       "\n",
       "    .dataframe thead th {\n",
       "        text-align: right;\n",
       "    }\n",
       "</style>\n",
       "<table border=\"1\" class=\"dataframe\">\n",
       "  <thead>\n",
       "    <tr style=\"text-align: right;\">\n",
       "      <th></th>\n",
       "      <th>病人ID</th>\n",
       "      <th>病人透析時間</th>\n",
       "      <th>病人透析前血壓</th>\n",
       "      <th>sbp差(取最大值)</th>\n",
       "      <th>mbp差(取最大值)</th>\n",
       "      <th>NLP判斷結果(Y/N)</th>\n",
       "      <th>BP判斷結果(Y/N)</th>\n",
       "      <th>IntraHD預測分數</th>\n",
       "      <th>PeriHD預測分數</th>\n",
       "      <th>預期結果(Y/N)</th>\n",
       "      <th>truth</th>\n",
       "      <th>IntraHD最高分斷句</th>\n",
       "      <th>PeriHD最高分斷句</th>\n",
       "    </tr>\n",
       "  </thead>\n",
       "  <tbody>\n",
       "    <tr>\n",
       "      <th>0</th>\n",
       "      <td>09359CH38</td>\n",
       "      <td>2020-07-20 17:50:00</td>\n",
       "      <td>128/73</td>\n",
       "      <td>0</td>\n",
       "      <td>0</td>\n",
       "      <td>N</td>\n",
       "      <td>N</td>\n",
       "      <td>0.0025</td>\n",
       "      <td>0.0119</td>\n",
       "      <td>N</td>\n",
       "      <td>N</td>\n",
       "      <td>HD end || 無</td>\n",
       "      <td>透析結束後無不適，依「血液透析病人透析後防跌評估表」進行防跌篩檢：0分</td>\n",
       "    </tr>\n",
       "    <tr>\n",
       "      <th>1</th>\n",
       "      <td>53496939</td>\n",
       "      <td>2019-04-16 17:25:00</td>\n",
       "      <td>191/82</td>\n",
       "      <td>56</td>\n",
       "      <td>35</td>\n",
       "      <td>N</td>\n",
       "      <td>Y</td>\n",
       "      <td>0.0837</td>\n",
       "      <td>0.0333</td>\n",
       "      <td>N</td>\n",
       "      <td>N</td>\n",
       "      <td>主訴無不適情形，持續觀察至透析畢。 || 無</td>\n",
       "      <td>口頭衛教居家照服員預防跌倒注意事項，並由居家照服員協助下坐輪椅返家</td>\n",
       "    </tr>\n",
       "  </tbody>\n",
       "</table>\n",
       "</div>"
      ],
      "text/plain": [
       "        病人ID              病人透析時間 病人透析前血壓  sbp差(取最大值)  mbp差(取最大值) NLP判斷結果(Y/N)  \\\n",
       "0  09359CH38 2020-07-20 17:50:00  128/73           0           0            N   \n",
       "1   53496939 2019-04-16 17:25:00  191/82          56          35            N   \n",
       "\n",
       "  BP判斷結果(Y/N)  IntraHD預測分數  PeriHD預測分數 預期結果(Y/N) truth  \\\n",
       "0           N       0.0025      0.0119         N     N   \n",
       "1           Y       0.0837      0.0333         N     N   \n",
       "\n",
       "             IntraHD最高分斷句                          PeriHD最高分斷句  \n",
       "0             HD end || 無  透析結束後無不適，依「血液透析病人透析後防跌評估表」進行防跌篩檢：0分  \n",
       "1  主訴無不適情形，持續觀察至透析畢。 || 無    口頭衛教居家照服員預防跌倒注意事項，並由居家照服員協助下坐輪椅返家  "
      ]
     },
     "execution_count": 5,
     "metadata": {},
     "output_type": "execute_result"
    }
   ],
   "source": [
    "predict_table.head(2)"
   ]
  },
  {
   "cell_type": "code",
   "execution_count": 21,
   "metadata": {},
   "outputs": [],
   "source": [
    "intra_ths = 0.3\n",
    "peir_ths = 0.5\n",
    "mix_ths = idh_ths = 0.5\n",
    "text_answer = [0 if i =='N' else 1 for i in predict_table['truth']]\n",
    "intra_result = [int(i>intra_ths) for i in predict_table['IntraHD預測分數']]\n",
    "peri_result = [int(i>peir_ths) for i in predict_table['PeriHD預測分數']]\n",
    "mix_result = [int(i>mix_ths) if i>p else int(p>mix_ths) for i,p in zip(predict_table['IntraHD預測分數'],predict_table['PeriHD預測分數'])]\n",
    "bp_result = [0 if i =='N' else 1 for i in predict_table['BP判斷結果(Y/N)']]\n",
    "idh_text_answer = [1 if bp==ans and bp==1 else 0 for bp, ans in zip(bp_result, text_answer)]\n",
    "idh_bp_result = [1 if bp==ans and bp==1 else 0 for bp, ans in zip(bp_result, mix_result)]"
   ]
  },
  {
   "cell_type": "code",
   "execution_count": 22,
   "metadata": {},
   "outputs": [],
   "source": [
    "test_columns = ['Type', 'ths', 'Accuracy', 'Precision [macro]', 'Sensitivity [macro]', 'Specificity', 'F1-score [macro]']"
   ]
  },
  {
   "cell_type": "code",
   "execution_count": 23,
   "metadata": {},
   "outputs": [
    {
     "data": {
      "text/html": [
       "<div>\n",
       "<style scoped>\n",
       "    .dataframe tbody tr th:only-of-type {\n",
       "        vertical-align: middle;\n",
       "    }\n",
       "\n",
       "    .dataframe tbody tr th {\n",
       "        vertical-align: top;\n",
       "    }\n",
       "\n",
       "    .dataframe thead th {\n",
       "        text-align: right;\n",
       "    }\n",
       "</style>\n",
       "<table border=\"1\" class=\"dataframe\">\n",
       "  <thead>\n",
       "    <tr style=\"text-align: right;\">\n",
       "      <th></th>\n",
       "      <th>Type</th>\n",
       "      <th>ths</th>\n",
       "      <th>Accuracy</th>\n",
       "      <th>Precision [macro]</th>\n",
       "      <th>Sensitivity [macro]</th>\n",
       "      <th>Specificity</th>\n",
       "      <th>F1-score [macro]</th>\n",
       "    </tr>\n",
       "  </thead>\n",
       "  <tbody>\n",
       "    <tr>\n",
       "      <th>0</th>\n",
       "      <td>IntraHD Test</td>\n",
       "      <td>0.3</td>\n",
       "      <td>0.871227</td>\n",
       "      <td>0.817154</td>\n",
       "      <td>0.795481</td>\n",
       "      <td>0.930412</td>\n",
       "      <td>0.805441</td>\n",
       "    </tr>\n",
       "    <tr>\n",
       "      <th>1</th>\n",
       "      <td>PeriHD Test</td>\n",
       "      <td>0.5</td>\n",
       "      <td>0.873239</td>\n",
       "      <td>0.896372</td>\n",
       "      <td>0.724203</td>\n",
       "      <td>0.989691</td>\n",
       "      <td>0.768842</td>\n",
       "    </tr>\n",
       "    <tr>\n",
       "      <th>2</th>\n",
       "      <td>IP-Mix Test</td>\n",
       "      <td>0.5</td>\n",
       "      <td>0.913481</td>\n",
       "      <td>0.869933</td>\n",
       "      <td>0.881916</td>\n",
       "      <td>0.938144</td>\n",
       "      <td>0.875702</td>\n",
       "    </tr>\n",
       "    <tr>\n",
       "      <th>3</th>\n",
       "      <td>BP Judge</td>\n",
       "      <td>-</td>\n",
       "      <td>0.521127</td>\n",
       "      <td>0.563729</td>\n",
       "      <td>0.591046</td>\n",
       "      <td>0.466495</td>\n",
       "      <td>0.499636</td>\n",
       "    </tr>\n",
       "    <tr>\n",
       "      <th>4</th>\n",
       "      <td>IDH Predict</td>\n",
       "      <td>0.5</td>\n",
       "      <td>0.951710</td>\n",
       "      <td>0.908757</td>\n",
       "      <td>0.908757</td>\n",
       "      <td>0.971360</td>\n",
       "      <td>0.908757</td>\n",
       "    </tr>\n",
       "  </tbody>\n",
       "</table>\n",
       "</div>"
      ],
      "text/plain": [
       "           Type  ths  Accuracy  Precision [macro]  Sensitivity [macro]  \\\n",
       "0  IntraHD Test  0.3  0.871227           0.817154             0.795481   \n",
       "1   PeriHD Test  0.5  0.873239           0.896372             0.724203   \n",
       "2   IP-Mix Test  0.5  0.913481           0.869933             0.881916   \n",
       "3      BP Judge    -  0.521127           0.563729             0.591046   \n",
       "4   IDH Predict  0.5  0.951710           0.908757             0.908757   \n",
       "\n",
       "   Specificity  F1-score [macro]  \n",
       "0     0.930412          0.805441  \n",
       "1     0.989691          0.768842  \n",
       "2     0.938144          0.875702  \n",
       "3     0.466495          0.499636  \n",
       "4     0.971360          0.908757  "
      ]
     },
     "execution_count": 23,
     "metadata": {},
     "output_type": "execute_result"
    }
   ],
   "source": [
    "new_metric_table = []\n",
    "for values, type_s , ths in zip([intra_result, peri_result, mix_result], ['IntraHD Test', 'PeriHD Test' ,'IP-Mix Test'], [intra_ths, peir_ths, mix_ths]):\n",
    "    new_metric_table.append(metric_calc([text_answer, values], type_s, ths))\n",
    "metric_calc([text_answer, values], type_s, ths)\n",
    "new_metric_table.append(metric_calc([text_answer, bp_result], 'BP Judge', '-'))\n",
    "new_metric_table.append(metric_calc([idh_text_answer, idh_bp_result], 'IDH Predict', idh_ths))\n",
    "\n",
    "pd.DataFrame(new_metric_table, columns=test_columns)"
   ]
  },
  {
   "cell_type": "code",
   "execution_count": 25,
   "metadata": {},
   "outputs": [
    {
     "data": {
      "text/plain": [
       "Text(0.5, 1.0, '[Internal]Baseline Test Data ROC-Curve')"
      ]
     },
     "execution_count": 25,
     "metadata": {},
     "output_type": "execute_result"
    },
    {
     "data": {
      "image/png": "[encoded data removed]",
      "text/plain": [
       "<Figure size 640x480 with 1 Axes>"
      ]
     },
     "metadata": {},
     "output_type": "display_data"
    }
   ],
   "source": [
    "ax = plt.figure()\n",
    "fpr, tpr, thresholds = roc_curve(text_answer, predict_table['IntraHD預測分數'], pos_label=1)\n",
    "auc = roc_auc_score(text_answer, predict_table['IntraHD預測分數'])\n",
    "plt.plot(fpr, tpr, label = \"IntraHD Test-{} AUC: {}\".format('', round(auc, 4)))\n",
    "\n",
    "fpr, tpr, thresholds = roc_curve(text_answer, predict_table['PeriHD預測分數'], pos_label=1)\n",
    "auc = roc_auc_score(text_answer, predict_table['PeriHD預測分數'])\n",
    "plt.plot(fpr, tpr, label = \"PeriHD Test-{} AUC: {}\".format('', round(auc, 4)))\n",
    "\n",
    "mix_predict = [i if i>p else p for i,p in zip(predict_table['IntraHD預測分數'],predict_table['PeriHD預測分數'])]\n",
    "fpr, tpr, thresholds = roc_curve(text_answer, mix_predict, pos_label=1)\n",
    "auc = roc_auc_score(text_answer, mix_predict)\n",
    "plt.plot(fpr, tpr, label = \"IP-Mix Test-{} AUC: {}\".format('', round(auc, 4)))\n",
    "\n",
    "plt.plot([0,1],[0,1], linestyle='--')\n",
    "plt.legend()\n",
    "plt.xlabel(\"FPR\")\n",
    "plt.ylabel(\"TPR\")\n",
    "plt.title(f\"[Internal]Baseline Test Data ROC-Curve\")"
   ]
  },
  {
   "cell_type": "code",
   "execution_count": null,
   "metadata": {},
   "outputs": [],
   "source": []
  }
 ],
 "metadata": {
  "kernelspec": {
   "display_name": "yd_nlptf",
   "language": "python",
   "name": "python3"
  },
  "language_info": {
   "codemirror_mode": {
    "name": "ipython",
    "version": 3
   },
   "file_extension": ".py",
   "mimetype": "text/x-python",
   "name": "python",
   "nbconvert_exporter": "python",
   "pygments_lexer": "ipython3",
   "version": "3.9.15"
  },
  "orig_nbformat": 4,
  "vscode": {
   "interpreter": {
    "hash": "77a05f791b774c1311eb56e0a2c433b66341ac9a91a33433ad780b7802be94e4"
   }
  }
 },
 "nbformat": 4,
 "nbformat_minor": 2
}
