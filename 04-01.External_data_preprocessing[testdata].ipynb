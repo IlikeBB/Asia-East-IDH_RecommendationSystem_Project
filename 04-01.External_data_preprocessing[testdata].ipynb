{
 "cells": [
  {
   "cell_type": "code",
   "execution_count": 1,
   "metadata": {},
   "outputs": [],
   "source": [
    "import pandas as pd, numpy as np, os\n",
    "import pickle\n",
    "from tqdm import tqdm"
   ]
  },
  {
   "cell_type": "code",
   "execution_count": 2,
   "metadata": {},
   "outputs": [
    {
     "name": "stderr",
     "output_type": "stream",
     "text": [
      "/tmp/ipykernel_44062/2733680076.py:3: DtypeWarning: Columns (5) have mixed types. Specify dtype option on import or set low_memory=False.\n",
      "  get_total_intraHD_df = pd.read_csv('./dataset/rawdata/intraHD2016_20_en.csv')\n"
     ]
    }
   ],
   "source": [
    "get_baseline_periHD_df = pd.read_csv('./dataset/rawdata/PeirHD_ExternalData_RawData-Sample-500.csv')\n",
    "get_baseline_periHD_df['洗腎紀錄時間'] = pd.to_datetime(get_baseline_periHD_df['洗腎紀錄時間'])\n",
    "get_total_intraHD_df = pd.read_csv('./dataset/rawdata/intraHD2016_20_en.csv')\n",
    "get_total_intraHD_df['洗腎紀錄時間'] = pd.to_datetime(get_total_intraHD_df['洗腎紀錄時間'])"
   ]
  },
  {
   "cell_type": "code",
   "execution_count": 3,
   "metadata": {},
   "outputs": [
    {
     "name": "stderr",
     "output_type": "stream",
     "text": [
      "100%|██████████| 500/500 [01:06<00:00,  7.50it/s]\n"
     ]
    }
   ],
   "source": [
    "save_path = '/ssd8/chih/project/yadong/predict_baseline_version02_ACM/dataset/baseline-testdataset_pickle_save'\n",
    "save_folder = 'sample_500_seed_42'\n",
    "os.makedirs(os.path.join(save_path, save_folder), exist_ok=True)\n",
    "total_intraHD_data_count = 0\n",
    "total_periHD_not_effect_data_count = 0\n",
    "for next_iloc in tqdm(range(len(get_baseline_periHD_df))):\n",
    "    get_single_periHD_df = get_baseline_periHD_df.iloc[next_iloc]\n",
    "    get_single_periHD_ID = get_single_periHD_df['ID']\n",
    "    get_single_periHD_time = get_single_periHD_df['洗腎紀錄時間']\n",
    "    get_periHD_match_intraHD_ID_df = get_total_intraHD_df[get_total_intraHD_df['ID']==get_single_periHD_ID]\n",
    "    get_periHD_match_intraHD_time_df = get_periHD_match_intraHD_ID_df[get_periHD_match_intraHD_ID_df['洗腎紀錄時間']==get_single_periHD_time]\n",
    "    if get_periHD_match_intraHD_time_df.shape[0] !=0:\n",
    "        get_periHD_match_intraHD_time_df_copy = get_periHD_match_intraHD_time_df.copy()\n",
    "        get_periHD_match_intraHD_time_df_copy['sbp'] = get_periHD_match_intraHD_time_df_copy['sbp'].apply(lambda x: get_periHD_match_intraHD_time_df['sbp'].iloc[0] if (x>240) or (x<40) or type(x)!=int else x)\n",
    "        get_periHD_match_intraHD_time_df_copy['dbp'] = get_periHD_match_intraHD_time_df_copy['dbp'].apply(lambda x: get_periHD_match_intraHD_time_df['dbp'].iloc[0] if (x>140) or (x<30) or type(x)!=int  else x)\n",
    "        total_intraHD_data_count+=len(get_periHD_match_intraHD_time_df)\n",
    "        # print(sum([0 if type(i)==int else 1 for i in get_periHD_match_intraHD_time_df_copy['sbp']]),sum([0 if type(i)==int else 1 for i in get_periHD_match_intraHD_time_df_copy['dbp']]))\n",
    "        get_periHD_match_intraHD_time_df_copy['處置其他'] = get_periHD_match_intraHD_time_df_copy['處置其他'].fillna('無')\n",
    "        get_periHD_match_intraHD_time_df_copy['症狀處置'] = get_periHD_match_intraHD_time_df_copy['症狀處置'].fillna('無')\n",
    "        get_periHD_match_intraHD_time_df_copy['處置其他+症狀處置（描述）'] = get_periHD_match_intraHD_time_df_copy['處置其他']+' || '+ get_periHD_match_intraHD_time_df_copy['症狀處置']\n",
    "        get_periHD_match_intraHD_time_df = get_periHD_match_intraHD_time_df_copy\n",
    "        save_dict = {\"ID\":str(get_single_periHD_ID), \"DateTime\":get_single_periHD_time, \"PeriHD\": get_single_periHD_df, \"IntraHD\": get_periHD_match_intraHD_time_df}\n",
    "        with open(os.path.join(save_path,save_folder, \"baseline_01_sample_500_ID-{}-DateTime-{}.pkl\".format(get_single_periHD_ID, str(get_single_periHD_time).replace(':','-').replace(' ','-'))), \"wb\") as f:\n",
    "            save_dict = {\"ID\":get_single_periHD_ID, \"DateTime\":get_single_periHD_time, \"PeriHD\": get_single_periHD_df, \"IntraHD\": get_periHD_match_intraHD_time_df}\n",
    "            pickle.dump(save_dict, f)\n"
   ]
  },
  {
   "cell_type": "code",
   "execution_count": null,
   "metadata": {},
   "outputs": [],
   "source": []
  }
 ],
 "metadata": {
  "kernelspec": {
   "display_name": "yd_nlptf",
   "language": "python",
   "name": "python3"
  },
  "language_info": {
   "codemirror_mode": {
    "name": "ipython",
    "version": 3
   },
   "file_extension": ".py",
   "mimetype": "text/x-python",
   "name": "python",
   "nbconvert_exporter": "python",
   "pygments_lexer": "ipython3",
   "version": "3.9.15"
  },
  "orig_nbformat": 4
 },
 "nbformat": 4,
 "nbformat_minor": 2
}
